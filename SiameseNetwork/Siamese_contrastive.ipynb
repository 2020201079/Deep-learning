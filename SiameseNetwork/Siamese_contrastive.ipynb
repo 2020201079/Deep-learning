{
 "cells": [
  {
   "cell_type": "code",
   "execution_count": 169,
   "metadata": {
    "id": "_D6BfaecY5S8"
   },
   "outputs": [],
   "source": [
    "import matplotlib.pyplot as plt\n",
    "import numpy as np\n",
    "from keras.models import Model\n",
    "from keras.datasets import mnist\n",
    "from keras.layers.core import  Activation, Dense, Reshape\n",
    "from keras.layers import Input, Flatten, Dense, Dropout, Lambda\n",
    "from keras import backend as K\n",
    "from keras import layers\n",
    "from keras.engine.topology import Layer\n",
    "from keras.optimizers import RMSprop, Adam,SGD\n",
    "import tensorflow as tf"
   ]
  },
  {
   "cell_type": "code",
   "execution_count": null,
   "metadata": {
    "id": "_V5I_Ni9Fedh"
   },
   "outputs": [],
   "source": [
    "tf.config.run_functions_eagerly(True)"
   ]
  },
  {
   "cell_type": "code",
   "execution_count": 136,
   "metadata": {
    "colab": {
     "base_uri": "https://localhost:8080/"
    },
    "id": "dX3eK2kVZC3C",
    "outputId": "074db4ed-c776-4813-bc37-8680ce540ee6"
   },
   "outputs": [
    {
     "name": "stdout",
     "output_type": "stream",
     "text": [
      "X_train: (60000, 28, 28)\n",
      "Y_train: (60000,)\n",
      "X_test:  (10000, 28, 28)\n",
      "Y_test:  (10000,)\n"
     ]
    }
   ],
   "source": [
    "(train_X, train_y), (test_X, test_y) = mnist.load_data()\n",
    "print('X_train: ' + str(train_X.shape))\n",
    "print('Y_train: ' + str(train_y.shape))\n",
    "print('X_test:  '  + str(test_X.shape))\n",
    "print('Y_test:  '  + str(test_y.shape))"
   ]
  },
  {
   "cell_type": "markdown",
   "metadata": {
    "id": "f5hJaqVHmXkQ"
   },
   "source": [
    "## For each digit making 800 positive and negative samples"
   ]
  },
  {
   "cell_type": "code",
   "execution_count": 152,
   "metadata": {
    "id": "nelkoBz4ZKp0"
   },
   "outputs": [],
   "source": [
    "import random\n",
    "new_data_set_1 = []\n",
    "new_data_set_2 = []\n",
    "new_label = []\n",
    "for i in range(0,10):\n",
    "  x_train_same = train_X[train_y == i]\n",
    "  x_train_diff = train_X[train_y != i]\n",
    "  #select 800 positive samples for each number\n",
    "  for k in range(800):\n",
    "    r1 = random.randint(0,len(x_train_same)-1)\n",
    "    r2 = random.randint(0,len(x_train_same)-1)\n",
    "    new_data_set_1.append(x_train_same[r1])\n",
    "    new_data_set_2.append(x_train_same[r2])                   \n",
    "    new_label.append(1)\n",
    "    r3 = random.randint(0,len(x_train_diff)-1)\n",
    "    new_data_set_1.append(x_train_same[r1])\n",
    "    new_data_set_2.append(x_train_diff[r3])\n",
    "    new_label.append(0)"
   ]
  },
  {
   "cell_type": "code",
   "execution_count": 153,
   "metadata": {
    "id": "XRh_So42cmAV"
   },
   "outputs": [],
   "source": [
    "new_data_set_1 = np.stack(new_data_set_1,axis=0).astype('float64')\n",
    "new_data_set_2 = np.stack(new_data_set_2,axis=0).astype('float64')\n",
    "new_label = np.stack(new_label,axis=0).astype('float64')"
   ]
  },
  {
   "cell_type": "code",
   "execution_count": 154,
   "metadata": {
    "colab": {
     "base_uri": "https://localhost:8080/"
    },
    "id": "hiO4TSEpcyBv",
    "outputId": "245f9f7a-1f83-4fa6-d28c-0ace3a640647"
   },
   "outputs": [
    {
     "name": "stdout",
     "output_type": "stream",
     "text": [
      "(16000, 28, 28)\n",
      "(16000, 28, 28)\n",
      "float64\n"
     ]
    }
   ],
   "source": [
    "print(new_data_set_1.shape)\n",
    "print(new_data_set_2.shape)\n",
    "print(new_data_set_1.dtype)"
   ]
  },
  {
   "cell_type": "code",
   "execution_count": 155,
   "metadata": {
    "id": "9phFI8Aebxi0"
   },
   "outputs": [],
   "source": [
    "new_data_set_1 = new_data_set_1.reshape(-1,28*28)\n",
    "new_data_set_2 = new_data_set_2.reshape(-1,28*28)"
   ]
  },
  {
   "cell_type": "code",
   "execution_count": 8,
   "metadata": {
    "id": "k4-B5svMZcsK"
   },
   "outputs": [],
   "source": [
    "def buildBranchModel():\n",
    "  inpx = Input(shape=(784,))\n",
    "  x = Dense(128,activation='relu')(inpx)\n",
    "  x = Dropout(0.1)(x)\n",
    "  x = Dense(128,activation='relu')(x)\n",
    "  x = Dropout(0.1)(x)\n",
    "  x = Dense(128,activation='relu')(x)\n",
    "  return Model([inpx],[x])"
   ]
  },
  {
   "cell_type": "code",
   "execution_count": 17,
   "metadata": {
    "id": "mz9_fD7WAirH"
   },
   "outputs": [],
   "source": [
    "class DistanceCost(Layer):\n",
    "    def __init__(self, **kwargs):\n",
    "        super(DistanceCost, self).__init__(**kwargs)\n",
    "\n",
    "    def call(self ,x ,mask=None):\n",
    "      h1=x[0]\n",
    "      h2=x[1]\n",
    "      sum_square = K.sum(K.square(h1 - h2), axis=1, keepdims=True)\n",
    "      return K.sqrt(K.maximum(sum_square, K.epsilon()))"
   ]
  },
  {
   "cell_type": "code",
   "execution_count": 45,
   "metadata": {
    "id": "L_5XA6TTDT0p"
   },
   "outputs": [],
   "source": [
    "def contrastive_loss(y_true, y_pred): # y_true is the label either 0 or 1\n",
    "    margin = 255\n",
    "    sqaure_pred = K.square(y_pred)\n",
    "    margin_square = K.square(K.maximum(margin - y_pred, 0))\n",
    "    return K.mean(y_true * sqaure_pred + (1 - y_true) * margin_square)"
   ]
  },
  {
   "cell_type": "code",
   "execution_count": 46,
   "metadata": {
    "id": "EeQOVZho-yu8"
   },
   "outputs": [],
   "source": [
    "branchModel = buildBranchModel()\n",
    "input_1 = Input(shape=(784,))\n",
    "input_2 = Input(shape=(784,))\n",
    "\n",
    "output_1 = branchModel(input_1)\n",
    "output_2 = branchModel(input_2)\n",
    "\n",
    "distance_layer = DistanceCost()([output_1,output_2])\n",
    "model = Model([input_1,input_2],distance_layer)\n",
    "\n",
    "rms = RMSprop()\n",
    "\n",
    "model.compile(loss=contrastive_loss,optimizer=rms)"
   ]
  },
  {
   "cell_type": "code",
   "execution_count": 47,
   "metadata": {
    "colab": {
     "base_uri": "https://localhost:8080/"
    },
    "id": "KfbGTNpADlG0",
    "outputId": "3b0cae3c-b5d8-436e-fd86-4f97b252fb64"
   },
   "outputs": [
    {
     "name": "stdout",
     "output_type": "stream",
     "text": [
      "Epoch 1/50\n",
      "125/125 [==============================] - 2s 8ms/step - loss: 16906.0447\n",
      "Epoch 2/50\n",
      "125/125 [==============================] - 1s 8ms/step - loss: 8272.9647\n",
      "Epoch 3/50\n",
      "125/125 [==============================] - 1s 8ms/step - loss: 6450.7861\n",
      "Epoch 4/50\n",
      "125/125 [==============================] - 1s 8ms/step - loss: 5503.1343\n",
      "Epoch 5/50\n",
      "125/125 [==============================] - 1s 8ms/step - loss: 4961.7678\n",
      "Epoch 6/50\n",
      "125/125 [==============================] - 1s 8ms/step - loss: 4329.4697\n",
      "Epoch 7/50\n",
      "125/125 [==============================] - 1s 8ms/step - loss: 3914.7704\n",
      "Epoch 8/50\n",
      "125/125 [==============================] - 1s 8ms/step - loss: 3591.2862\n",
      "Epoch 9/50\n",
      "125/125 [==============================] - 1s 8ms/step - loss: 3193.9825\n",
      "Epoch 10/50\n",
      "125/125 [==============================] - 1s 8ms/step - loss: 2985.3217\n",
      "Epoch 11/50\n",
      "125/125 [==============================] - 1s 8ms/step - loss: 2867.3774\n",
      "Epoch 12/50\n",
      "125/125 [==============================] - 1s 8ms/step - loss: 2616.4254\n",
      "Epoch 13/50\n",
      "125/125 [==============================] - 1s 8ms/step - loss: 2487.0951\n",
      "Epoch 14/50\n",
      "125/125 [==============================] - 1s 8ms/step - loss: 2313.6349\n",
      "Epoch 15/50\n",
      "125/125 [==============================] - 1s 8ms/step - loss: 2185.4232\n",
      "Epoch 16/50\n",
      "125/125 [==============================] - 1s 8ms/step - loss: 2185.3291\n",
      "Epoch 17/50\n",
      "125/125 [==============================] - 1s 8ms/step - loss: 2058.9262\n",
      "Epoch 18/50\n",
      "125/125 [==============================] - 1s 8ms/step - loss: 1971.7557\n",
      "Epoch 19/50\n",
      "125/125 [==============================] - 1s 8ms/step - loss: 1877.4710\n",
      "Epoch 20/50\n",
      "125/125 [==============================] - 1s 8ms/step - loss: 1787.8745\n",
      "Epoch 21/50\n",
      "125/125 [==============================] - 1s 8ms/step - loss: 1787.7814\n",
      "Epoch 22/50\n",
      "125/125 [==============================] - 1s 8ms/step - loss: 1724.9931\n",
      "Epoch 23/50\n",
      "125/125 [==============================] - 1s 8ms/step - loss: 1608.4611\n",
      "Epoch 24/50\n",
      "125/125 [==============================] - 1s 8ms/step - loss: 1514.6352\n",
      "Epoch 25/50\n",
      "125/125 [==============================] - 1s 8ms/step - loss: 1460.8845\n",
      "Epoch 26/50\n",
      "125/125 [==============================] - 1s 8ms/step - loss: 1460.5244\n",
      "Epoch 27/50\n",
      "125/125 [==============================] - 1s 8ms/step - loss: 1506.1155\n",
      "Epoch 28/50\n",
      "125/125 [==============================] - 1s 8ms/step - loss: 1428.7102\n",
      "Epoch 29/50\n",
      "125/125 [==============================] - 1s 8ms/step - loss: 1424.0844\n",
      "Epoch 30/50\n",
      "125/125 [==============================] - 1s 8ms/step - loss: 1306.6712\n",
      "Epoch 31/50\n",
      "125/125 [==============================] - 1s 8ms/step - loss: 1331.0260\n",
      "Epoch 32/50\n",
      "125/125 [==============================] - 1s 8ms/step - loss: 1327.2073\n",
      "Epoch 33/50\n",
      "125/125 [==============================] - 1s 8ms/step - loss: 1258.3031\n",
      "Epoch 34/50\n",
      "125/125 [==============================] - 1s 8ms/step - loss: 1245.9643\n",
      "Epoch 35/50\n",
      "125/125 [==============================] - 1s 8ms/step - loss: 1260.0376\n",
      "Epoch 36/50\n",
      "125/125 [==============================] - 1s 8ms/step - loss: 1124.8568\n",
      "Epoch 37/50\n",
      "125/125 [==============================] - 1s 8ms/step - loss: 1163.2810\n",
      "Epoch 38/50\n",
      "125/125 [==============================] - 1s 8ms/step - loss: 1166.1229\n",
      "Epoch 39/50\n",
      "125/125 [==============================] - 1s 8ms/step - loss: 1104.8012\n",
      "Epoch 40/50\n",
      "125/125 [==============================] - 1s 8ms/step - loss: 1133.5016\n",
      "Epoch 41/50\n",
      "125/125 [==============================] - 1s 8ms/step - loss: 1132.0792\n",
      "Epoch 42/50\n",
      "125/125 [==============================] - 1s 8ms/step - loss: 1107.6586\n",
      "Epoch 43/50\n",
      "125/125 [==============================] - 1s 8ms/step - loss: 1094.5935\n",
      "Epoch 44/50\n",
      "125/125 [==============================] - 1s 8ms/step - loss: 1030.2405\n",
      "Epoch 45/50\n",
      "125/125 [==============================] - 1s 8ms/step - loss: 1044.7535\n",
      "Epoch 46/50\n",
      "125/125 [==============================] - 1s 8ms/step - loss: 1055.4112\n",
      "Epoch 47/50\n",
      "125/125 [==============================] - 1s 8ms/step - loss: 954.6694\n",
      "Epoch 48/50\n",
      "125/125 [==============================] - 1s 8ms/step - loss: 1000.0136\n",
      "Epoch 49/50\n",
      "125/125 [==============================] - 1s 8ms/step - loss: 1015.7596\n",
      "Epoch 50/50\n",
      "125/125 [==============================] - 1s 8ms/step - loss: 993.3839\n"
     ]
    },
    {
     "data": {
      "text/plain": [
       "<tensorflow.python.keras.callbacks.History at 0x7f77162e1e50>"
      ]
     },
     "execution_count": 47,
     "metadata": {
      "tags": []
     },
     "output_type": "execute_result"
    }
   ],
   "source": [
    "model.fit([new_data_set_1,new_data_set_2],new_label,epochs=50,batch_size=128)"
   ]
  },
  {
   "cell_type": "markdown",
   "metadata": {
    "id": "HC_4QQmum1cp"
   },
   "source": [
    "# Selecting images of each digit for comparing"
   ]
  },
  {
   "cell_type": "code",
   "execution_count": 140,
   "metadata": {
    "id": "a-x6KLCbm0S7"
   },
   "outputs": [],
   "source": [
    "# create an image pool and save the output of the model here\n",
    "image_pool = []\n",
    "for i in range(0,10):\n",
    "  image_pool.append(train_X[train_y == i][0])\n",
    "image_pool = np.stack(image_pool,axis=0).astype('float64').reshape(-1,28*28)\n",
    "image_pool_output = []\n",
    "for img in image_pool:\n",
    "  image_pool_output.append(branchModel(img.reshape(1,784)))\n",
    "image_pool_output = np.stack(image_pool_output,axis=0).astype('float64')"
   ]
  },
  {
   "cell_type": "code",
   "execution_count": 141,
   "metadata": {
    "id": "1T1A0AsFpft2"
   },
   "outputs": [],
   "source": [
    "test_images = test_X.reshape(-1,28*28)"
   ]
  },
  {
   "cell_type": "code",
   "execution_count": 142,
   "metadata": {
    "id": "7dXsZy_4vFWO"
   },
   "outputs": [],
   "source": [
    "def predict(test_image):\n",
    "  pred_1 = branchModel(test_image.reshape(1,784))\n",
    "  dis = K.mean((image_pool_output-pred_1)**2,axis=2).numpy()\n",
    "  return np.argmin(dis)"
   ]
  },
  {
   "cell_type": "code",
   "execution_count": 143,
   "metadata": {
    "id": "KEBtAUEnqQyn"
   },
   "outputs": [],
   "source": [
    "predictions = []\n",
    "for img in test_images:\n",
    "  predictions.append(predict(img))\n",
    "correct_predictions_rms = (predictions == test_y).sum()"
   ]
  },
  {
   "cell_type": "code",
   "execution_count": 147,
   "metadata": {
    "colab": {
     "base_uri": "https://localhost:8080/"
    },
    "id": "xqKEjedps0PV",
    "outputId": "d9abc106-f910-4d7c-8daf-016aa3158a76"
   },
   "outputs": [
    {
     "name": "stdout",
     "output_type": "stream",
     "text": [
      "9610  out of  10000 accuracy is :  0.961\n"
     ]
    }
   ],
   "source": [
    "print(correct_predictions,\" out of \",test_images.shape[0],\"accuracy is : \",correct_predictions/test_images.shape[0])"
   ]
  },
  {
   "cell_type": "markdown",
   "metadata": {
    "id": "uf3YXBhyyzPW"
   },
   "source": [
    "# Adam optimizer"
   ]
  },
  {
   "cell_type": "code",
   "execution_count": 149,
   "metadata": {
    "id": "H4JASBsky1LB"
   },
   "outputs": [],
   "source": [
    "branchModel_adam = buildBranchModel()\n",
    "input_1 = Input(shape=(784,))\n",
    "input_2 = Input(shape=(784,))\n",
    "\n",
    "output_1 = branchModel_adam(input_1)\n",
    "output_2 = branchModel_adam(input_2)\n",
    "\n",
    "distance_layer_adam = DistanceCost()([output_1,output_2])\n",
    "model_adam = Model([input_1,input_2],distance_layer_adam)\n",
    "\n",
    "adam = Adam()\n",
    "\n",
    "model_adam.compile(loss=contrastive_loss,optimizer=adam)"
   ]
  },
  {
   "cell_type": "code",
   "execution_count": 157,
   "metadata": {
    "id": "TZJeomrtz0Im"
   },
   "outputs": [],
   "source": [
    "tf.config.run_functions_eagerly(True)"
   ]
  },
  {
   "cell_type": "code",
   "execution_count": 158,
   "metadata": {
    "colab": {
     "base_uri": "https://localhost:8080/"
    },
    "id": "1d41XzaUzP55",
    "outputId": "9ad24595-8119-4ebf-9dc6-738811b00dbe"
   },
   "outputs": [
    {
     "name": "stdout",
     "output_type": "stream",
     "text": [
      "Epoch 1/50\n",
      "  5/125 [>.............................] - ETA: 3s - loss: 30478.4180"
     ]
    },
    {
     "name": "stderr",
     "output_type": "stream",
     "text": [
      "/usr/local/lib/python3.7/dist-packages/tensorflow/python/data/ops/dataset_ops.py:3504: UserWarning: Even though the tf.config.experimental_run_functions_eagerly option is set, this option does not apply to tf.data functions. tf.data functions are still traced and executed as graphs.\n",
      "  \"Even though the tf.config.experimental_run_functions_eagerly \"\n"
     ]
    },
    {
     "name": "stdout",
     "output_type": "stream",
     "text": [
      "125/125 [==============================] - 3s 27ms/step - loss: 13554.8965\n",
      "Epoch 2/50\n",
      "125/125 [==============================] - 3s 26ms/step - loss: 9119.0420\n",
      "Epoch 3/50\n",
      "125/125 [==============================] - 3s 26ms/step - loss: 7402.1748\n",
      "Epoch 4/50\n",
      "125/125 [==============================] - 3s 27ms/step - loss: 6329.0132\n",
      "Epoch 5/50\n",
      "125/125 [==============================] - 3s 27ms/step - loss: 5664.7773\n",
      "Epoch 6/50\n",
      "125/125 [==============================] - 3s 27ms/step - loss: 5013.2480\n",
      "Epoch 7/50\n",
      "125/125 [==============================] - 3s 26ms/step - loss: 4612.2163\n",
      "Epoch 8/50\n",
      "125/125 [==============================] - 3s 27ms/step - loss: 4084.8225\n",
      "Epoch 9/50\n",
      "125/125 [==============================] - 3s 26ms/step - loss: 3844.6772\n",
      "Epoch 10/50\n",
      "125/125 [==============================] - 3s 26ms/step - loss: 3511.2234\n",
      "Epoch 11/50\n",
      "125/125 [==============================] - 3s 27ms/step - loss: 3344.5593\n",
      "Epoch 12/50\n",
      "125/125 [==============================] - 3s 27ms/step - loss: 3081.5667\n",
      "Epoch 13/50\n",
      "125/125 [==============================] - 3s 26ms/step - loss: 2838.4397\n",
      "Epoch 14/50\n",
      "125/125 [==============================] - 3s 27ms/step - loss: 2753.1934\n",
      "Epoch 15/50\n",
      "125/125 [==============================] - 3s 27ms/step - loss: 2607.1475\n",
      "Epoch 16/50\n",
      "125/125 [==============================] - 3s 26ms/step - loss: 2498.0322\n",
      "Epoch 17/50\n",
      "125/125 [==============================] - 3s 26ms/step - loss: 2363.5410\n",
      "Epoch 18/50\n",
      "125/125 [==============================] - 3s 26ms/step - loss: 2328.2605\n",
      "Epoch 19/50\n",
      "125/125 [==============================] - 3s 26ms/step - loss: 2248.2705\n",
      "Epoch 20/50\n",
      "125/125 [==============================] - 3s 26ms/step - loss: 2118.9329\n",
      "Epoch 21/50\n",
      "125/125 [==============================] - 3s 26ms/step - loss: 2068.0203\n",
      "Epoch 22/50\n",
      "125/125 [==============================] - 3s 26ms/step - loss: 1983.8049\n",
      "Epoch 23/50\n",
      "125/125 [==============================] - 3s 27ms/step - loss: 1939.0319\n",
      "Epoch 24/50\n",
      "125/125 [==============================] - 3s 26ms/step - loss: 1896.3574\n",
      "Epoch 25/50\n",
      "125/125 [==============================] - 3s 26ms/step - loss: 1826.2885\n",
      "Epoch 26/50\n",
      "125/125 [==============================] - 3s 26ms/step - loss: 1767.1532\n",
      "Epoch 27/50\n",
      "125/125 [==============================] - 3s 26ms/step - loss: 1748.7957\n",
      "Epoch 28/50\n",
      "125/125 [==============================] - 3s 26ms/step - loss: 1750.4426\n",
      "Epoch 29/50\n",
      "125/125 [==============================] - 3s 26ms/step - loss: 1712.2932\n",
      "Epoch 30/50\n",
      "125/125 [==============================] - 3s 26ms/step - loss: 1582.5238\n",
      "Epoch 31/50\n",
      "125/125 [==============================] - 3s 26ms/step - loss: 1663.9163\n",
      "Epoch 32/50\n",
      "125/125 [==============================] - 3s 26ms/step - loss: 1547.9009\n",
      "Epoch 33/50\n",
      "125/125 [==============================] - 3s 27ms/step - loss: 1491.4384\n",
      "Epoch 34/50\n",
      "125/125 [==============================] - 3s 26ms/step - loss: 1468.1188\n",
      "Epoch 35/50\n",
      "125/125 [==============================] - 3s 26ms/step - loss: 1450.6583\n",
      "Epoch 36/50\n",
      "125/125 [==============================] - 3s 27ms/step - loss: 1487.4408\n",
      "Epoch 37/50\n",
      "125/125 [==============================] - 3s 27ms/step - loss: 1416.0648\n",
      "Epoch 38/50\n",
      "125/125 [==============================] - 3s 26ms/step - loss: 1396.2441\n",
      "Epoch 39/50\n",
      "125/125 [==============================] - 3s 26ms/step - loss: 1316.9128\n",
      "Epoch 40/50\n",
      "125/125 [==============================] - 3s 26ms/step - loss: 1383.7928\n",
      "Epoch 41/50\n",
      "125/125 [==============================] - 3s 26ms/step - loss: 1309.0206\n",
      "Epoch 42/50\n",
      "125/125 [==============================] - 3s 26ms/step - loss: 1295.3247\n",
      "Epoch 43/50\n",
      "125/125 [==============================] - 3s 26ms/step - loss: 1291.1924\n",
      "Epoch 44/50\n",
      "125/125 [==============================] - 3s 26ms/step - loss: 1293.6880\n",
      "Epoch 45/50\n",
      "125/125 [==============================] - 3s 26ms/step - loss: 1292.0851\n",
      "Epoch 46/50\n",
      "125/125 [==============================] - 3s 26ms/step - loss: 1205.8031\n",
      "Epoch 47/50\n",
      "125/125 [==============================] - 3s 27ms/step - loss: 1254.4694\n",
      "Epoch 48/50\n",
      "125/125 [==============================] - 3s 26ms/step - loss: 1202.2621\n",
      "Epoch 49/50\n",
      "125/125 [==============================] - 3s 25ms/step - loss: 1193.4056\n",
      "Epoch 50/50\n",
      "125/125 [==============================] - 3s 26ms/step - loss: 1214.0624\n"
     ]
    },
    {
     "data": {
      "text/plain": [
       "<tensorflow.python.keras.callbacks.History at 0x7f771477ced0>"
      ]
     },
     "execution_count": 158,
     "metadata": {
      "tags": []
     },
     "output_type": "execute_result"
    }
   ],
   "source": [
    "model_adam.fit([new_data_set_1,new_data_set_2],new_label,epochs=50,batch_size=128)"
   ]
  },
  {
   "cell_type": "code",
   "execution_count": 164,
   "metadata": {
    "id": "Q6_5bBXs0GFK"
   },
   "outputs": [],
   "source": [
    "def predict_adam(test_image):\n",
    "  pred_1 = branchModel_adam(test_image.reshape(1,784))\n",
    "  dis = K.mean((image_pool_output_adam-pred_1)**2,axis=2).numpy()\n",
    "  return np.argmin(dis)"
   ]
  },
  {
   "cell_type": "code",
   "execution_count": 163,
   "metadata": {
    "id": "fa9ialZY0yJP"
   },
   "outputs": [],
   "source": [
    "image_pool_adam = []\n",
    "for i in range(0,10):\n",
    "  image_pool_adam.append(train_X[train_y == i][0])\n",
    "image_pool_adam = np.stack(image_pool,axis=0).astype('float64').reshape(-1,28*28)\n",
    "image_pool_output_adam = []\n",
    "for img in image_pool_adam:\n",
    "  image_pool_output_adam.append(branchModel_adam(img.reshape(1,784)))\n",
    "image_pool_output_adam = np.stack(image_pool_output_adam,axis=0).astype('float64')"
   ]
  },
  {
   "cell_type": "code",
   "execution_count": 165,
   "metadata": {
    "id": "_wXb22Ex0KWQ"
   },
   "outputs": [],
   "source": [
    "predictions_adam = []\n",
    "for img in test_images:\n",
    "  predictions_adam.append(predict_adam(img))\n",
    "correct_predictions_adam = (predictions_adam == test_y).sum()"
   ]
  },
  {
   "cell_type": "code",
   "execution_count": 166,
   "metadata": {
    "colab": {
     "base_uri": "https://localhost:8080/"
    },
    "id": "PKI61iDt0Z71",
    "outputId": "46aadeb1-1492-4ced-ec12-63246ce012b0"
   },
   "outputs": [
    {
     "name": "stdout",
     "output_type": "stream",
     "text": [
      "ADAM :  9394  out of  10000 accuracy is :  0.9394\n"
     ]
    }
   ],
   "source": [
    "print(\"ADAM : \",correct_predictions_adam,\" out of \",test_images.shape[0],\"accuracy is : \",correct_predictions_adam/test_images.shape[0])"
   ]
  },
  {
   "cell_type": "markdown",
   "metadata": {
    "id": "cip56w6i1Na8"
   },
   "source": [
    "# Mini Batch Gradient Descent"
   ]
  },
  {
   "cell_type": "code",
   "execution_count": 183,
   "metadata": {
    "id": "BMt0UCmN1Sxd"
   },
   "outputs": [],
   "source": [
    "branchModel_gd = buildBranchModel()\n",
    "input_1 = Input(shape=(784,))\n",
    "input_2 = Input(shape=(784,))\n",
    "\n",
    "output_1 = branchModel_gd(input_1)\n",
    "output_2 = branchModel_gd(input_2)\n",
    "\n",
    "distance_layer_gd = DistanceCost()([output_1,output_2])\n",
    "model_gd = Model([input_1,input_2],distance_layer_gd)\n",
    "\n",
    "sgd = SGD(lr=0.00001, momentum=0.2)\n",
    "\n",
    "model_gd.compile(loss=contrastive_loss,optimizer=sgd)"
   ]
  },
  {
   "cell_type": "code",
   "execution_count": 184,
   "metadata": {
    "colab": {
     "base_uri": "https://localhost:8080/"
    },
    "id": "bn51ywhi2VGe",
    "outputId": "488534f9-66ed-41fa-dfe7-901ede60f83a"
   },
   "outputs": [
    {
     "name": "stdout",
     "output_type": "stream",
     "text": [
      "Epoch 1/50\n",
      "  6/125 [>.............................] - ETA: 2s - loss: 44426.1755"
     ]
    },
    {
     "name": "stderr",
     "output_type": "stream",
     "text": [
      "/usr/local/lib/python3.7/dist-packages/tensorflow/python/data/ops/dataset_ops.py:3504: UserWarning: Even though the tf.config.experimental_run_functions_eagerly option is set, this option does not apply to tf.data functions. tf.data functions are still traced and executed as graphs.\n",
      "  \"Even though the tf.config.experimental_run_functions_eagerly \"\n"
     ]
    },
    {
     "name": "stdout",
     "output_type": "stream",
     "text": [
      "125/125 [==============================] - 3s 24ms/step - loss: 16714.1413\n",
      "Epoch 2/50\n",
      "125/125 [==============================] - 3s 24ms/step - loss: 8804.5365\n",
      "Epoch 3/50\n",
      "125/125 [==============================] - 3s 24ms/step - loss: 7480.1924\n",
      "Epoch 4/50\n",
      "125/125 [==============================] - 3s 24ms/step - loss: 6612.5927\n",
      "Epoch 5/50\n",
      "125/125 [==============================] - 3s 24ms/step - loss: 6128.5766\n",
      "Epoch 6/50\n",
      "125/125 [==============================] - 3s 24ms/step - loss: 5598.6283\n",
      "Epoch 7/50\n",
      "125/125 [==============================] - 3s 24ms/step - loss: 5446.8333\n",
      "Epoch 8/50\n",
      "125/125 [==============================] - 3s 24ms/step - loss: 5225.4983\n",
      "Epoch 9/50\n",
      "125/125 [==============================] - 3s 24ms/step - loss: 4802.4982\n",
      "Epoch 10/50\n",
      "125/125 [==============================] - 3s 24ms/step - loss: 4596.6400\n",
      "Epoch 11/50\n",
      "125/125 [==============================] - 3s 24ms/step - loss: 4404.4206\n",
      "Epoch 12/50\n",
      "125/125 [==============================] - 3s 24ms/step - loss: 4142.6766\n",
      "Epoch 13/50\n",
      "125/125 [==============================] - 3s 24ms/step - loss: 4024.4823\n",
      "Epoch 14/50\n",
      "125/125 [==============================] - 3s 24ms/step - loss: 3723.1506\n",
      "Epoch 15/50\n",
      "125/125 [==============================] - 3s 24ms/step - loss: 3667.1681\n",
      "Epoch 16/50\n",
      "125/125 [==============================] - 3s 24ms/step - loss: 3719.4709\n",
      "Epoch 17/50\n",
      "125/125 [==============================] - 3s 24ms/step - loss: 3456.5289\n",
      "Epoch 18/50\n",
      "125/125 [==============================] - 3s 24ms/step - loss: 3361.5906\n",
      "Epoch 19/50\n",
      "125/125 [==============================] - 3s 24ms/step - loss: 3259.4472\n",
      "Epoch 20/50\n",
      "125/125 [==============================] - 3s 25ms/step - loss: 3181.9952\n",
      "Epoch 21/50\n",
      "125/125 [==============================] - 3s 24ms/step - loss: 3094.3982\n",
      "Epoch 22/50\n",
      "125/125 [==============================] - 3s 24ms/step - loss: 3101.0185\n",
      "Epoch 23/50\n",
      "125/125 [==============================] - 3s 24ms/step - loss: 3055.5049\n",
      "Epoch 24/50\n",
      "125/125 [==============================] - 3s 24ms/step - loss: 2848.4282\n",
      "Epoch 25/50\n",
      "125/125 [==============================] - 3s 25ms/step - loss: 2805.9018\n",
      "Epoch 26/50\n",
      "125/125 [==============================] - 3s 24ms/step - loss: 2706.0601\n",
      "Epoch 27/50\n",
      "125/125 [==============================] - 3s 24ms/step - loss: 2703.3116\n",
      "Epoch 28/50\n",
      "125/125 [==============================] - 3s 24ms/step - loss: 2671.3067\n",
      "Epoch 29/50\n",
      "125/125 [==============================] - 3s 24ms/step - loss: 2571.4921\n",
      "Epoch 30/50\n",
      "125/125 [==============================] - 3s 25ms/step - loss: 2575.4697\n",
      "Epoch 31/50\n",
      "125/125 [==============================] - 3s 24ms/step - loss: 2478.5817\n",
      "Epoch 32/50\n",
      "125/125 [==============================] - 3s 24ms/step - loss: 2457.3724\n",
      "Epoch 33/50\n",
      "125/125 [==============================] - 3s 24ms/step - loss: 2375.3694\n",
      "Epoch 34/50\n",
      "125/125 [==============================] - 3s 24ms/step - loss: 2291.9274\n",
      "Epoch 35/50\n",
      "125/125 [==============================] - 3s 24ms/step - loss: 2340.8476\n",
      "Epoch 36/50\n",
      "125/125 [==============================] - 3s 25ms/step - loss: 2200.8868\n",
      "Epoch 37/50\n",
      "125/125 [==============================] - 3s 24ms/step - loss: 2155.9147\n",
      "Epoch 38/50\n",
      "125/125 [==============================] - 3s 24ms/step - loss: 2200.4340\n",
      "Epoch 39/50\n",
      "125/125 [==============================] - 3s 25ms/step - loss: 2192.1032\n",
      "Epoch 40/50\n",
      "125/125 [==============================] - 3s 25ms/step - loss: 2098.6130\n",
      "Epoch 41/50\n",
      "125/125 [==============================] - 3s 25ms/step - loss: 2190.4944\n",
      "Epoch 42/50\n",
      "125/125 [==============================] - 3s 24ms/step - loss: 2086.9298\n",
      "Epoch 43/50\n",
      "125/125 [==============================] - 3s 24ms/step - loss: 2018.0312\n",
      "Epoch 44/50\n",
      "125/125 [==============================] - 3s 24ms/step - loss: 2013.6120\n",
      "Epoch 45/50\n",
      "125/125 [==============================] - 3s 25ms/step - loss: 1894.6208\n",
      "Epoch 46/50\n",
      "125/125 [==============================] - 3s 25ms/step - loss: 1882.5135\n",
      "Epoch 47/50\n",
      "125/125 [==============================] - 3s 24ms/step - loss: 1819.2180\n",
      "Epoch 48/50\n",
      "125/125 [==============================] - 3s 25ms/step - loss: 1964.4949\n",
      "Epoch 49/50\n",
      "125/125 [==============================] - 3s 24ms/step - loss: 1918.9071\n",
      "Epoch 50/50\n",
      "125/125 [==============================] - 3s 25ms/step - loss: 1876.3914\n"
     ]
    },
    {
     "data": {
      "text/plain": [
       "<tensorflow.python.keras.callbacks.History at 0x7f770a3db790>"
      ]
     },
     "execution_count": 184,
     "metadata": {
      "tags": []
     },
     "output_type": "execute_result"
    }
   ],
   "source": [
    "model_gd.fit([new_data_set_1,new_data_set_2],new_label,epochs=50,batch_size=128)"
   ]
  },
  {
   "cell_type": "code",
   "execution_count": 185,
   "metadata": {
    "id": "P9XMDzzj3nfG"
   },
   "outputs": [],
   "source": [
    "image_pool_gd = []\n",
    "for i in range(0,10):\n",
    "  image_pool_gd.append(train_X[train_y == i][0])\n",
    "image_pool_gd = np.stack(image_pool_gd,axis=0).astype('float64').reshape(-1,28*28)\n",
    "image_pool_output_gd = []\n",
    "for img in image_pool_gd:\n",
    "  image_pool_output_gd.append(branchModel_gd(img.reshape(1,784)))\n",
    "image_pool_output_gd = np.stack(image_pool_output_gd,axis=0).astype('float64')"
   ]
  },
  {
   "cell_type": "code",
   "execution_count": 186,
   "metadata": {
    "id": "Yy91TLLk26DL"
   },
   "outputs": [],
   "source": [
    "def predict_gd(test_image):\n",
    "  pred_1 = branchModel_gd(test_image.reshape(1,784))\n",
    "  dis = K.mean((image_pool_output_gd-pred_1)**2,axis=2).numpy()\n",
    "  return np.argmin(dis)"
   ]
  },
  {
   "cell_type": "code",
   "execution_count": 187,
   "metadata": {
    "id": "Mv_53uio4GUX"
   },
   "outputs": [],
   "source": [
    "predictions_gd = []\n",
    "for img in test_images:\n",
    "  predictions_gd.append(predict_gd(img))\n",
    "correct_predictions_gd = (predictions_gd == test_y).sum()"
   ]
  },
  {
   "cell_type": "code",
   "execution_count": 188,
   "metadata": {
    "colab": {
     "base_uri": "https://localhost:8080/"
    },
    "id": "JI3IxJh439ph",
    "outputId": "3cbbbb68-ce04-4b89-8fb6-f58231e59868"
   },
   "outputs": [
    {
     "name": "stdout",
     "output_type": "stream",
     "text": [
      "SGD :  9317  out of  10000 accuracy is :  0.9317\n"
     ]
    }
   ],
   "source": [
    "print(\"SGD : \",correct_predictions_gd,\" out of \",test_images.shape[0],\"accuracy is : \",correct_predictions_gd/test_images.shape[0])"
   ]
  },
  {
   "cell_type": "code",
   "execution_count": 192,
   "metadata": {
    "colab": {
     "base_uri": "https://localhost:8080/"
    },
    "id": "eeCKlyT943OK",
    "outputId": "824bd1e7-0bf1-4735-c516-1af962cdb952"
   },
   "outputs": [
    {
     "name": "stdout",
     "output_type": "stream",
     "text": [
      "+----------+--------+----------+--------+\n",
      "|          | Adam   | RMSProp  |  SGD   |\n",
      "+----------+--------+----------+--------+\n",
      "| Accuracy | 0.9394 |  0.961   | 0.9317 |\n",
      "+----------+--------+----------+--------+\n"
     ]
    }
   ],
   "source": [
    "from prettytable import PrettyTable\n",
    "t = PrettyTable(['','Adam ', 'RMSProp ','SGD'])\n",
    "t.add_row(['Accuracy',correct_predictions_adam/test_images.shape[0],correct_predictions/test_images.shape[0],correct_predictions_gd/test_images.shape[0]])\n",
    "print(t)"
   ]
  },
  {
   "cell_type": "markdown",
   "metadata": {},
   "source": [
    "## From above values RMSProp is giving good accuracy for same number of epochs hence select RMSProp"
   ]
  },
  {
   "cell_type": "markdown",
   "metadata": {
    "id": "oulqtLQ85rSo"
   },
   "source": [
    "# Hyperparameter optimization changing the hidden layer from 128 to 256 size"
   ]
  },
  {
   "cell_type": "code",
   "execution_count": 215,
   "metadata": {
    "id": "DhZhYB1C5qqj"
   },
   "outputs": [],
   "source": [
    "def buildBranchModel_64():\n",
    "  inpx = Input(shape=(784,))\n",
    "  x = Dense(64,activation='relu')(inpx)\n",
    "  x = Dropout(0.1)(x)\n",
    "  x = Dense(10,activation='relu')(x)\n",
    "  return Model([inpx],[x])"
   ]
  },
  {
   "cell_type": "code",
   "execution_count": 223,
   "metadata": {
    "id": "fAXbwYlg6FIi"
   },
   "outputs": [],
   "source": [
    "branchModel_64 = buildBranchModel_64()\n",
    "input_1 = Input(shape=(784,))\n",
    "input_2 = Input(shape=(784,))\n",
    "\n",
    "output_1 = branchModel_64(input_1)\n",
    "output_2 = branchModel_64(input_2)\n",
    "\n",
    "distance_layer_64 = DistanceCost()([output_1,output_2])\n",
    "model_64 = Model([input_1,input_2],distance_layer_64)\n",
    "\n",
    "rms = RMSprop()\n",
    "\n",
    "model_64.compile(loss=contrastive_loss,optimizer=rms)"
   ]
  },
  {
   "cell_type": "code",
   "execution_count": 230,
   "metadata": {
    "colab": {
     "base_uri": "https://localhost:8080/"
    },
    "id": "3M10U6YD6bCI",
    "outputId": "593b2e79-4096-4db3-f87d-3522d9a9bcd1"
   },
   "outputs": [
    {
     "name": "stdout",
     "output_type": "stream",
     "text": [
      "Epoch 1/10\n",
      "  7/125 [>.............................] - ETA: 2s - loss: 3682.5627"
     ]
    },
    {
     "name": "stderr",
     "output_type": "stream",
     "text": [
      "/usr/local/lib/python3.7/dist-packages/tensorflow/python/data/ops/dataset_ops.py:3504: UserWarning: Even though the tf.config.experimental_run_functions_eagerly option is set, this option does not apply to tf.data functions. tf.data functions are still traced and executed as graphs.\n",
      "  \"Even though the tf.config.experimental_run_functions_eagerly \"\n"
     ]
    },
    {
     "name": "stdout",
     "output_type": "stream",
     "text": [
      "125/125 [==============================] - 3s 20ms/step - loss: 3848.3374\n",
      "Epoch 2/10\n",
      "125/125 [==============================] - 3s 21ms/step - loss: 3793.2307\n",
      "Epoch 3/10\n",
      "125/125 [==============================] - 3s 20ms/step - loss: 3632.2083\n",
      "Epoch 4/10\n",
      "125/125 [==============================] - 3s 20ms/step - loss: 3579.4163\n",
      "Epoch 5/10\n",
      "125/125 [==============================] - 3s 20ms/step - loss: 3453.9854\n",
      "Epoch 6/10\n",
      "125/125 [==============================] - 3s 20ms/step - loss: 3424.8452\n",
      "Epoch 7/10\n",
      "125/125 [==============================] - 3s 20ms/step - loss: 3335.3845\n",
      "Epoch 8/10\n",
      "125/125 [==============================] - 3s 20ms/step - loss: 3314.7375\n",
      "Epoch 9/10\n",
      "125/125 [==============================] - 2s 20ms/step - loss: 3191.0652\n",
      "Epoch 10/10\n",
      "125/125 [==============================] - 3s 20ms/step - loss: 3158.3921\n"
     ]
    },
    {
     "data": {
      "text/plain": [
       "<tensorflow.python.keras.callbacks.History at 0x7f7707884ad0>"
      ]
     },
     "execution_count": 230,
     "metadata": {
      "tags": []
     },
     "output_type": "execute_result"
    }
   ],
   "source": [
    "model_64.fit([new_data_set_1,new_data_set_2],new_label,epochs=10,batch_size=128)"
   ]
  },
  {
   "cell_type": "code",
   "execution_count": 225,
   "metadata": {
    "id": "WvC1tE7O6uPb"
   },
   "outputs": [],
   "source": [
    "image_pool_64 = []\n",
    "for i in range(0,10):\n",
    "  image_pool_64.append(train_X[train_y == i][0])\n",
    "image_pool_64 = np.stack(image_pool_64,axis=0).astype('float64').reshape(-1,28*28)\n",
    "image_pool_output_64 = []\n",
    "for img in image_pool_64:\n",
    "  image_pool_output_64.append(branchModel(img.reshape(1,784)))\n",
    "image_pool_output_64 = np.stack(image_pool_output_64,axis=0).astype('float64')"
   ]
  },
  {
   "cell_type": "code",
   "execution_count": 226,
   "metadata": {
    "id": "fj3jkeLd7Crl"
   },
   "outputs": [],
   "source": [
    "def predict_64(test_image):\n",
    "  pred_1 = branchModel_64(test_image.reshape(1,784))\n",
    "  dis = K.mean((image_pool_output_64-pred_1)**2,axis=2).numpy()\n",
    "  return np.argmin(dis)"
   ]
  },
  {
   "cell_type": "code",
   "execution_count": 228,
   "metadata": {
    "id": "FHNLh3It7OKN"
   },
   "outputs": [],
   "source": [
    "predictions_64 = []\n",
    "for img in test_images:\n",
    "  predictions_64.append(predict(img))\n",
    "correct_predictions_64 = (predictions_64 == test_y).sum()"
   ]
  },
  {
   "cell_type": "code",
   "execution_count": 229,
   "metadata": {
    "colab": {
     "base_uri": "https://localhost:8080/"
    },
    "id": "7dS3rszy7ZHa",
    "outputId": "cde04491-0210-42fd-e2e5-4399d4c27f34"
   },
   "outputs": [
    {
     "name": "stdout",
     "output_type": "stream",
     "text": [
      "9610  out of  10000 accuracy is :  0.961\n"
     ]
    }
   ],
   "source": [
    "print(correct_predictions_64,\" out of \",test_images.shape[0],\"accuracy is : \",correct_predictions_256/test_images.shape[0])\n"
   ]
  },
  {
   "cell_type": "markdown",
   "metadata": {
    "id": "VIjjRNTf9w2C"
   },
   "source": []
  },
  {
   "cell_type": "markdown",
   "metadata": {
    "id": "jBttmEk59BPi"
   },
   "source": []
  },
  {
   "cell_type": "markdown",
   "metadata": {
    "id": "rq584Mme8MKK"
   },
   "source": [
    "## Pros of siamese network \n",
    " - given a few images per class is sufficient for Siamese Networks to recognize those images in the future\n",
    " - Siamese focuses on learning embeddings (in the deeper layer) that place the same classes/concepts close together. Hence, can learn semantic similarity.\n",
    "\n",
    "## Cons of siamese network\n",
    " -  Needs more training time than normal networks: Since Siamese Networks involves quadratic pairs to learn from (to see all information available) it is slower than normal classification type of learning(pointwise learning)\n",
    " - Doesn’t output probabilities: Since training involves pairwise learning, it won’t output the probabilities of the prediction, but the distance from each class"
   ]
  }
 ],
 "metadata": {
  "colab": {
   "collapsed_sections": [],
   "name": "siamese_contrastive.ipynb",
   "provenance": []
  },
  "kernelspec": {
   "display_name": "Python 3",
   "language": "python",
   "name": "python3"
  },
  "language_info": {
   "codemirror_mode": {
    "name": "ipython",
    "version": 3
   },
   "file_extension": ".py",
   "mimetype": "text/x-python",
   "name": "python",
   "nbconvert_exporter": "python",
   "pygments_lexer": "ipython3",
   "version": "3.7.0"
  }
 },
 "nbformat": 4,
 "nbformat_minor": 1
}
