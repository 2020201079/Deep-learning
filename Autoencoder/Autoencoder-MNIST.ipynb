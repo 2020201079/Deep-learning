{
 "cells": [
  {
   "cell_type": "code",
   "execution_count": 1,
   "metadata": {
    "id": "yS_bQ0L3evkk"
   },
   "outputs": [],
   "source": [
    "import torch\n",
    "import torchvision\n",
    "import torchvision.transforms as transforms\n",
    "import matplotlib.pyplot as plt\n",
    "import numpy as np\n",
    "import torch.nn as nn\n",
    "import torch.nn.functional as F\n",
    "import torch.optim as optim\n",
    "from torchsummary import summary\n",
    "import torchvision.transforms as T"
   ]
  },
  {
   "cell_type": "code",
   "execution_count": 2,
   "metadata": {
    "colab": {
     "base_uri": "https://localhost:8080/"
    },
    "id": "7XQW-JM-e264",
    "outputId": "07192394-ec7a-4c34-b2ae-5e5261b086ee"
   },
   "outputs": [
    {
     "name": "stdout",
     "output_type": "stream",
     "text": [
      "cuda:0\n"
     ]
    }
   ],
   "source": [
    "device = torch.device(\"cuda:0\" if torch.cuda.is_available() else \"cpu\")\n",
    "\n",
    "# Assuming that we are on a CUDA machine, this should print a CUDA device:\n",
    "\n",
    "print(device)"
   ]
  },
  {
   "cell_type": "code",
   "execution_count": 3,
   "metadata": {
    "colab": {
     "base_uri": "https://localhost:8080/",
     "height": 845,
     "referenced_widgets": [
      "0569b50d4ba94a36aed6822f43d3bab5",
      "74b2e430e93f45759cb9132e8a3b3d6c",
      "d6e6ec05da5f41c0bbf4db8d3ce8e56c",
      "da1ebfdd3c504cda8df2e46afcaa284e",
      "e026187142334f92adbe965ea2a4cc24",
      "f0bcf088564746dca8426dba16a419ee",
      "5ac9754d93db4b4aad1871f04999bf32",
      "649bb95a75a84a09905230e99fe4554c",
      "80567b7d516448e1ac8305c3af36cc00",
      "190aa556f9b34ef3976b931cb5788ab9",
      "e8259cc6bb2c47179617dd6560ca4cb6",
      "a19d3c7ae6c5483da118eb2d55cf108f",
      "080866a0ab6840dea830f47422840bad",
      "fab899d4e6d04ccaa9808bd8c586b671",
      "195224e0451a4c5aa42fa3be12015988",
      "84ae20c96fbc4256900ad7ce469c310a",
      "40e5bf291a2847fbb4b0298848a7b3b5",
      "cc90428530a24efdb2ee09889fa4d219",
      "264857990e1c40da9728ed6702cc4fb3",
      "0d13fa345c0e46aabda7a845fbdf83a7",
      "14391cc3d0c3450bb8677255a76996d3",
      "e03231243fa947a38a26e64cf1d05555",
      "8b037ed8612649f5bd36a982728a1ee6",
      "25158aa5442d42359456585363a96952",
      "addd92028977492e8fcb4af5b7953d2a",
      "e4267b8c5c9b48a9b946cc3317595123",
      "f5e1b9f10ed44ab581c6fa4d654f1ec0",
      "4347228814274c3191445773cf631ecc",
      "cf80ca8a0452462b88b6eeea2821b334",
      "d1c94b39a53a4dcb8a764ffb494b4a94",
      "32f54c1762604b9bb25ba7a4810a7b31",
      "c86e2694af7a4de091f69d79f84b6554"
     ]
    },
    "id": "Xg91bPwuoFyT",
    "outputId": "a8813485-fd1e-4ccc-b720-c68a0fd5afa1"
   },
   "outputs": [
    {
     "name": "stdout",
     "output_type": "stream",
     "text": [
      "Downloading http://yann.lecun.com/exdb/mnist/train-images-idx3-ubyte.gz\n",
      "Failed to download (trying next):\n",
      "HTTP Error 503: Service Unavailable\n",
      "\n",
      "Downloading https://ossci-datasets.s3.amazonaws.com/mnist/train-images-idx3-ubyte.gz\n",
      "Downloading https://ossci-datasets.s3.amazonaws.com/mnist/train-images-idx3-ubyte.gz to dataset/MNIST/MNIST/raw/train-images-idx3-ubyte.gz\n"
     ]
    },
    {
     "data": {
      "application/vnd.jupyter.widget-view+json": {
       "model_id": "0569b50d4ba94a36aed6822f43d3bab5",
       "version_major": 2,
       "version_minor": 0
      },
      "text/plain": [
       "HBox(children=(FloatProgress(value=0.0, max=9912422.0), HTML(value='')))"
      ]
     },
     "metadata": {
      "tags": []
     },
     "output_type": "display_data"
    },
    {
     "name": "stdout",
     "output_type": "stream",
     "text": [
      "\n",
      "Extracting dataset/MNIST/MNIST/raw/train-images-idx3-ubyte.gz to dataset/MNIST/MNIST/raw\n",
      "\n",
      "Downloading http://yann.lecun.com/exdb/mnist/train-labels-idx1-ubyte.gz\n",
      "Failed to download (trying next):\n",
      "HTTP Error 503: Service Unavailable\n",
      "\n",
      "Downloading https://ossci-datasets.s3.amazonaws.com/mnist/train-labels-idx1-ubyte.gz\n",
      "Downloading https://ossci-datasets.s3.amazonaws.com/mnist/train-labels-idx1-ubyte.gz to dataset/MNIST/MNIST/raw/train-labels-idx1-ubyte.gz\n"
     ]
    },
    {
     "data": {
      "application/vnd.jupyter.widget-view+json": {
       "model_id": "80567b7d516448e1ac8305c3af36cc00",
       "version_major": 2,
       "version_minor": 0
      },
      "text/plain": [
       "HBox(children=(FloatProgress(value=0.0, max=28881.0), HTML(value='')))"
      ]
     },
     "metadata": {
      "tags": []
     },
     "output_type": "display_data"
    },
    {
     "name": "stdout",
     "output_type": "stream",
     "text": [
      "\n",
      "Extracting dataset/MNIST/MNIST/raw/train-labels-idx1-ubyte.gz to dataset/MNIST/MNIST/raw\n",
      "\n",
      "Downloading http://yann.lecun.com/exdb/mnist/t10k-images-idx3-ubyte.gz\n",
      "Failed to download (trying next):\n",
      "HTTP Error 503: Service Unavailable\n",
      "\n",
      "Downloading https://ossci-datasets.s3.amazonaws.com/mnist/t10k-images-idx3-ubyte.gz\n",
      "Downloading https://ossci-datasets.s3.amazonaws.com/mnist/t10k-images-idx3-ubyte.gz to dataset/MNIST/MNIST/raw/t10k-images-idx3-ubyte.gz\n"
     ]
    },
    {
     "data": {
      "application/vnd.jupyter.widget-view+json": {
       "model_id": "40e5bf291a2847fbb4b0298848a7b3b5",
       "version_major": 2,
       "version_minor": 0
      },
      "text/plain": [
       "HBox(children=(FloatProgress(value=0.0, max=1648877.0), HTML(value='')))"
      ]
     },
     "metadata": {
      "tags": []
     },
     "output_type": "display_data"
    },
    {
     "name": "stdout",
     "output_type": "stream",
     "text": [
      "\n",
      "Extracting dataset/MNIST/MNIST/raw/t10k-images-idx3-ubyte.gz to dataset/MNIST/MNIST/raw\n",
      "\n",
      "Downloading http://yann.lecun.com/exdb/mnist/t10k-labels-idx1-ubyte.gz\n",
      "Failed to download (trying next):\n",
      "HTTP Error 503: Service Unavailable\n",
      "\n",
      "Downloading https://ossci-datasets.s3.amazonaws.com/mnist/t10k-labels-idx1-ubyte.gz\n",
      "Downloading https://ossci-datasets.s3.amazonaws.com/mnist/t10k-labels-idx1-ubyte.gz to dataset/MNIST/MNIST/raw/t10k-labels-idx1-ubyte.gz\n"
     ]
    },
    {
     "data": {
      "application/vnd.jupyter.widget-view+json": {
       "model_id": "addd92028977492e8fcb4af5b7953d2a",
       "version_major": 2,
       "version_minor": 0
      },
      "text/plain": [
       "HBox(children=(FloatProgress(value=0.0, max=4542.0), HTML(value='')))"
      ]
     },
     "metadata": {
      "tags": []
     },
     "output_type": "display_data"
    },
    {
     "name": "stdout",
     "output_type": "stream",
     "text": [
      "\n",
      "Extracting dataset/MNIST/MNIST/raw/t10k-labels-idx1-ubyte.gz to dataset/MNIST/MNIST/raw\n",
      "\n",
      "Processing...\n",
      "Done!\n"
     ]
    },
    {
     "name": "stderr",
     "output_type": "stream",
     "text": [
      "/usr/local/lib/python3.7/dist-packages/torchvision/datasets/mnist.py:502: UserWarning: The given NumPy array is not writeable, and PyTorch does not support non-writeable tensors. This means you can write to the underlying (supposedly non-writeable) NumPy array using the tensor. You may want to copy the array to protect its data or make it writeable before converting it to a tensor. This type of warning will be suppressed for the rest of this program. (Triggered internally at  /pytorch/torch/csrc/utils/tensor_numpy.cpp:143.)\n",
      "  return torch.from_numpy(parsed.astype(m[2], copy=False)).view(*s)\n"
     ]
    }
   ],
   "source": [
    "train_set =torchvision.datasets.MNIST(root='dataset/MNIST', train= True,download=True, transform=T.Compose([T.ToTensor(), T.Lambda(lambda x: torch.flatten(x))]))\n",
    "test_set =torchvision.datasets.MNIST(root='dataset/MNIST',train=False, download=True, transform=T.Compose([T.ToTensor(), T.Lambda(lambda x: torch.flatten(x))]))"
   ]
  },
  {
   "cell_type": "code",
   "execution_count": 4,
   "metadata": {
    "id": "10yg0WAwrA27"
   },
   "outputs": [],
   "source": [
    "class AE(nn.Module):\n",
    "    def __init__(self,hiddenNueron):\n",
    "        super(AE,self).__init__()\n",
    "        self.encode1 = nn.Linear(in_features=28*28,out_features=256) # encoding 28*28 to 256\n",
    "        self.encode2 = nn.Linear(in_features=256,out_features=hiddenNueron)\n",
    "\n",
    "        self.decode1 = nn.Linear(in_features=hiddenNueron,out_features=256)\n",
    "        self.decode2 = nn.Linear(in_features=256,out_features=28*28)\n",
    "    \n",
    "    def forward(self,x):\n",
    "        x = F.relu(self.encode1(x))\n",
    "        x = F.relu(self.encode2(x))\n",
    "\n",
    "        x = F.relu(self.decode1(x))\n",
    "        x = F.relu(self.decode2(x))\n",
    "      \n",
    "        return x"
   ]
  },
  {
   "cell_type": "markdown",
   "metadata": {
    "id": "ENIizSsSqNvy"
   },
   "source": [
    "# 1 Adam Optimizer"
   ]
  },
  {
   "cell_type": "code",
   "execution_count": 5,
   "metadata": {
    "id": "lJW6HQGqfTR4"
   },
   "outputs": [],
   "source": [
    "train_loader_adam = torch.utils.data.DataLoader(train_set,batch_size=30)\n",
    "test_loader_adam = torch.utils.data.DataLoader(test_set,batch_size=1)"
   ]
  },
  {
   "cell_type": "code",
   "execution_count": 6,
   "metadata": {
    "colab": {
     "base_uri": "https://localhost:8080/"
    },
    "id": "d5dRt1omlxSg",
    "outputId": "6efa1275-9ec1-49c2-db5d-72ba4083d921"
   },
   "outputs": [
    {
     "name": "stdout",
     "output_type": "stream",
     "text": [
      "epoch:  0 loss:  78.60753484256566\n",
      "epoch:  1 loss:  65.70011226087809\n",
      "epoch:  2 loss:  62.65082612261176\n",
      "epoch:  3 loss:  61.406584253534675\n",
      "epoch:  4 loss:  59.57210308127105\n",
      "epoch:  5 loss:  57.23131435550749\n",
      "epoch:  6 loss:  56.54956056922674\n",
      "epoch:  7 loss:  56.13119751960039\n",
      "epoch:  8 loss:  55.79992653429508\n",
      "epoch:  9 loss:  55.47827195562422\n",
      "epoch:  10 loss:  55.206434678286314\n",
      "epoch:  11 loss:  54.98052232339978\n",
      "epoch:  12 loss:  54.78867737390101\n",
      "epoch:  13 loss:  54.610698675736785\n",
      "epoch:  14 loss:  53.65386654809117\n",
      "epoch:  15 loss:  53.44749424792826\n",
      "epoch:  16 loss:  53.32302170805633\n",
      "epoch:  17 loss:  53.18420673161745\n",
      "epoch:  18 loss:  53.07374634034932\n",
      "epoch:  19 loss:  52.96073619276285\n",
      "epoch:  20 loss:  52.86221871525049\n",
      "epoch:  21 loss:  52.75540738925338\n",
      "epoch:  22 loss:  52.665635753422976\n",
      "epoch:  23 loss:  52.5911450535059\n",
      "epoch:  24 loss:  52.52715984545648\n",
      "epoch:  25 loss:  52.44003730639815\n",
      "epoch:  26 loss:  52.365907521918416\n",
      "epoch:  27 loss:  52.31108126230538\n",
      "epoch:  28 loss:  52.23769309185445\n",
      "epoch:  29 loss:  52.17591515183449\n",
      "Average loss for each image :  0.0008695985858639081\n"
     ]
    }
   ],
   "source": [
    "# hidden size will be 8 , 32 , 128\n",
    "adam_8 = AE(8)\n",
    "adam_8.to(device)\n",
    "\n",
    "optimizer_8 = optim.Adam(adam_8.parameters(),lr=0.001)\n",
    "\n",
    "adam_8_loss = []\n",
    "criterion = nn.MSELoss()\n",
    "for epoch in range(30):\n",
    "    total_loss = 0.0\n",
    "    for batch in train_loader_adam:\n",
    "        images, labels = batch[0].to(device),batch[1].to(device)\n",
    "        #print(images.shape)\n",
    "        preds = adam_8(images)\n",
    "        #print(preds.shape)\n",
    "        loss = criterion(preds,images)\n",
    "        \n",
    "        optimizer_8.zero_grad()\n",
    "        loss.backward()\n",
    "        optimizer_8.step()\n",
    "        \n",
    "        total_loss += loss.item()\n",
    "    adam_8_loss.append(total_loss)\n",
    "    print(\"epoch: \",epoch,\"loss: \",total_loss)\n",
    "print(\"Average loss for each image : \", total_loss/len(train_set))"
   ]
  },
  {
   "cell_type": "code",
   "execution_count": null,
   "metadata": {
    "colab": {
     "base_uri": "https://localhost:8080/"
    },
    "id": "ygDNNWDP4LX9",
    "outputId": "3dd0496f-4eff-4ea6-b6b5-702623be9625"
   },
   "outputs": [
    {
     "name": "stdout",
     "output_type": "stream",
     "text": [
      "total reconstruction loss using adam and 8 neurons :  221448.48379075527\n",
      "average loss  22.144848379075526\n"
     ]
    }
   ],
   "source": [
    "test_loss_adam_8 = 0\n",
    "for data in test_loader_adam:\n",
    "    images, labels = data[0].to(device),data[1].to(device)\n",
    "    outputs = adam_8(images)\n",
    "    loss = ((outputs-images)**2).sum()\n",
    "    #loss = criterion(outputs,images)\n",
    "    test_loss_adam_8 += (loss.item())\n",
    "print(\"total reconstruction loss using adam and 8 neurons : \", test_loss_adam_8)\n",
    "print(\"average loss \", test_loss_adam_8/len(test_set))"
   ]
  },
  {
   "cell_type": "code",
   "execution_count": null,
   "metadata": {
    "colab": {
     "base_uri": "https://localhost:8080/"
    },
    "id": "2i8ExmFC2OpC",
    "outputId": "a85ba12e-60bd-4d7e-df88-f8e98a4c98d0"
   },
   "outputs": [
    {
     "name": "stdout",
     "output_type": "stream",
     "text": [
      "epoch:  0 loss:  57.880416974425316\n",
      "epoch:  1 loss:  43.768534106202424\n",
      "epoch:  2 loss:  41.37661052495241\n",
      "epoch:  3 loss:  39.41476013511419\n",
      "epoch:  4 loss:  37.75034869462252\n",
      "epoch:  5 loss:  37.16123252734542\n",
      "epoch:  6 loss:  35.949148000217974\n",
      "epoch:  7 loss:  35.656093024648726\n",
      "epoch:  8 loss:  35.424561717547476\n",
      "epoch:  9 loss:  35.23726109135896\n",
      "epoch:  10 loss:  35.07376249600202\n",
      "epoch:  11 loss:  34.93449201155454\n",
      "epoch:  12 loss:  34.814077037386596\n",
      "epoch:  13 loss:  34.665901247411966\n",
      "epoch:  14 loss:  34.48947172611952\n",
      "epoch:  15 loss:  34.39575836248696\n",
      "epoch:  16 loss:  34.30061641987413\n",
      "epoch:  17 loss:  34.226248691789806\n",
      "epoch:  18 loss:  34.163718124851584\n",
      "epoch:  19 loss:  34.10666599776596\n",
      "epoch:  20 loss:  34.04755966179073\n",
      "epoch:  21 loss:  33.99329937901348\n",
      "epoch:  22 loss:  33.94722272083163\n",
      "epoch:  23 loss:  33.90284259803593\n",
      "epoch:  24 loss:  33.86188740096986\n",
      "epoch:  25 loss:  33.82030129991472\n",
      "epoch:  26 loss:  33.787894438020885\n",
      "epoch:  27 loss:  33.7494848780334\n",
      "epoch:  28 loss:  33.73157012462616\n",
      "epoch:  29 loss:  33.69796655792743\n",
      "Average loss for each image :  0.0005616327759654572\n"
     ]
    }
   ],
   "source": [
    "adam_32 = AE(32)\n",
    "adam_32.to(device)\n",
    "\n",
    "optimizer_32 = optim.Adam(adam_32.parameters(),lr=0.001)\n",
    "\n",
    "adam_32_loss = []\n",
    "criterion = nn.MSELoss()\n",
    "for epoch in range(30):\n",
    "    total_loss = 0.0\n",
    "    for batch in train_loader_adam:\n",
    "        images, labels = batch[0].to(device),batch[1].to(device)\n",
    "        #print(images.shape)\n",
    "        preds = adam_32(images)\n",
    "        #print(preds.shape)\n",
    "        loss = criterion(preds,images)\n",
    "        \n",
    "        optimizer_32.zero_grad()\n",
    "        loss.backward()\n",
    "        optimizer_32.step()\n",
    "        \n",
    "        total_loss += loss.item()\n",
    "    adam_32_loss.append(total_loss)\n",
    "    print(\"epoch: \",epoch,\"loss: \",total_loss)\n",
    "print(\"Average loss for each image : \", total_loss/len(train_set))"
   ]
  },
  {
   "cell_type": "code",
   "execution_count": null,
   "metadata": {
    "colab": {
     "base_uri": "https://localhost:8080/"
    },
    "id": "N6OIbpBk5WML",
    "outputId": "879063ef-dcf8-44b5-8107-e2c8074d6536"
   },
   "outputs": [
    {
     "name": "stdout",
     "output_type": "stream",
     "text": [
      "total reconstruction loss using adam and 32 neurons :  141135.6001933813\n",
      "average loss  14.11356001933813\n"
     ]
    }
   ],
   "source": [
    "test_loss_adam_32 = 0\n",
    "for data in test_loader_adam:\n",
    "    images, labels = data[0].to(device),data[1].to(device)\n",
    "    outputs = adam_32(images)\n",
    "    loss = ((outputs-images)**2).sum()\n",
    "    #loss = criterion(outputs,images)\n",
    "    test_loss_adam_32 += loss.item()*images.shape[0]\n",
    "print(\"total reconstruction loss using adam and 32 neurons : \", test_loss_adam_32)\n",
    "print(\"average loss \", test_loss_adam_32/len(test_set))"
   ]
  },
  {
   "cell_type": "code",
   "execution_count": null,
   "metadata": {
    "colab": {
     "base_uri": "https://localhost:8080/"
    },
    "id": "pAzmxged23fA",
    "outputId": "ac1f44bb-422b-4dfc-9c4e-316efede63ff"
   },
   "outputs": [
    {
     "name": "stdout",
     "output_type": "stream",
     "text": [
      "epoch:  0 loss:  50.42731032706797\n",
      "epoch:  1 loss:  36.63838168233633\n",
      "epoch:  2 loss:  34.71149178221822\n",
      "epoch:  3 loss:  33.69960338342935\n",
      "epoch:  4 loss:  33.15388708375394\n",
      "epoch:  5 loss:  32.83688974287361\n",
      "epoch:  6 loss:  32.626047641038895\n",
      "epoch:  7 loss:  32.472586332820356\n",
      "epoch:  8 loss:  32.3254375141114\n",
      "epoch:  9 loss:  32.195262985304\n",
      "epoch:  10 loss:  32.08465356938541\n",
      "epoch:  11 loss:  31.980727635324\n",
      "epoch:  12 loss:  31.91103759314865\n",
      "epoch:  13 loss:  31.81346814148128\n",
      "epoch:  14 loss:  31.726466664113104\n",
      "epoch:  15 loss:  31.64861200656742\n",
      "epoch:  16 loss:  31.5835771439597\n",
      "epoch:  17 loss:  31.500823007896543\n",
      "epoch:  18 loss:  31.36902681272477\n",
      "epoch:  19 loss:  31.28885142877698\n",
      "epoch:  20 loss:  31.19167457241565\n",
      "epoch:  21 loss:  31.136900942772627\n",
      "epoch:  22 loss:  31.079134333878756\n",
      "epoch:  23 loss:  31.00053529907018\n",
      "epoch:  24 loss:  30.966205253265798\n",
      "epoch:  25 loss:  30.90764084365219\n",
      "epoch:  26 loss:  30.870216586627066\n",
      "epoch:  27 loss:  30.817529963329434\n",
      "epoch:  28 loss:  30.76290905009955\n",
      "epoch:  29 loss:  30.726344746537507\n",
      "Average loss for each image :  0.0005121057457756251\n"
     ]
    }
   ],
   "source": [
    "adam_128 = AE(128)\n",
    "adam_128.to(device)\n",
    "\n",
    "optimizer_128 = optim.Adam(adam_128.parameters(),lr=0.001)\n",
    "\n",
    "adam_128_loss = []\n",
    "criterion = nn.MSELoss()\n",
    "for epoch in range(30):\n",
    "    total_loss = 0.0\n",
    "    for batch in train_loader_adam:\n",
    "        images, labels = batch[0].to(device),batch[1].to(device)\n",
    "        #print(images.shape)\n",
    "        preds = adam_128(images)\n",
    "        #print(preds.shape)\n",
    "        loss = criterion(preds,images)\n",
    "        \n",
    "        optimizer_128.zero_grad()\n",
    "        loss.backward()\n",
    "        optimizer_128.step()\n",
    "        \n",
    "        total_loss += loss.item()\n",
    "    adam_128_loss.append(total_loss)\n",
    "    print(\"epoch: \",epoch,\"loss: \",total_loss)\n",
    "print(\"Average loss for each image : \", total_loss/len(train_set))"
   ]
  },
  {
   "cell_type": "code",
   "execution_count": null,
   "metadata": {
    "colab": {
     "base_uri": "https://localhost:8080/"
    },
    "id": "QdKnuKCV5lFP",
    "outputId": "fd84c700-4082-40ee-b2a0-d82c43398afa"
   },
   "outputs": [
    {
     "name": "stdout",
     "output_type": "stream",
     "text": [
      "total reconstruction loss using adam and 128 neurons :  126779.20681554079\n",
      "average loss  12.67792068155408\n"
     ]
    }
   ],
   "source": [
    "test_loss_adam_128 = 0\n",
    "for data in test_loader_adam:\n",
    "    images, labels = data[0].to(device),data[1].to(device)\n",
    "    outputs = adam_128(images)\n",
    "    #loss = criterion(outputs,images)\n",
    "    loss = ((outputs-images)**2).sum()\n",
    "    test_loss_adam_128 += loss.item()*images.shape[0]\n",
    "print(\"total reconstruction loss using adam and 128 neurons : \", test_loss_adam_128)\n",
    "print(\"average loss \", test_loss_adam_128/len(test_set))"
   ]
  },
  {
   "cell_type": "code",
   "execution_count": null,
   "metadata": {
    "colab": {
     "base_uri": "https://localhost:8080/",
     "height": 312
    },
    "id": "0cY7SLCa58M-",
    "outputId": "ede3fec0-61c7-4e9f-b28d-219075cc649d"
   },
   "outputs": [
    {
     "data": {
      "text/plain": [
       "Text(0, 0.5, 'Avg MSE ')"
      ]
     },
     "execution_count": 292,
     "metadata": {
      "tags": []
     },
     "output_type": "execute_result"
    },
    {
     "data": {
      "image/png": "[encoded data removed]",
      "text/plain": [
       "<Figure size 432x288 with 1 Axes>"
      ]
     },
     "metadata": {
      "needs_background": "light",
      "tags": []
     },
     "output_type": "display_data"
    }
   ],
   "source": [
    "plt.scatter([8,32,128],[test_loss_adam_8/len(test_set),test_loss_adam_32/len(test_set),test_loss_adam_128/len(test_set)])\n",
    "plt.title(\"Adam optimizer\")\n",
    "plt.xlabel(\"Number of hidden neurons\")\n",
    "plt.ylabel(\"Avg MSE \")"
   ]
  },
  {
   "cell_type": "markdown",
   "metadata": {
    "id": "LOtmsyGF50zh"
   },
   "source": [
    "### plot few reconstructed images of adam"
   ]
  },
  {
   "cell_type": "code",
   "execution_count": null,
   "metadata": {
    "colab": {
     "base_uri": "https://localhost:8080/",
     "height": 295
    },
    "id": "546N5_rJ7DLB",
    "outputId": "549a1d40-c264-4e29-9d6f-22fe882a11c2"
   },
   "outputs": [
    {
     "name": "stderr",
     "output_type": "stream",
     "text": [
      "Clipping input data to the valid range for imshow with RGB data ([0..1] for floats or [0..255] for integers).\n"
     ]
    },
    {
     "name": "stdout",
     "output_type": "stream",
     "text": [
      "labels: [0]\n"
     ]
    },
    {
     "data": {
      "image/png": "[encoded data removed]",
      "text/plain": [
       "<Figure size 1080x1080 with 1 Axes>"
      ]
     },
     "metadata": {
      "needs_background": "light",
      "tags": []
     },
     "output_type": "display_data"
    },
    {
     "data": {
      "image/png": "[encoded data removed]",
      "text/plain": [
       "<Figure size 1080x1080 with 1 Axes>"
      ]
     },
     "metadata": {
      "needs_background": "light",
      "tags": []
     },
     "output_type": "display_data"
    }
   ],
   "source": [
    "images,labels = next(iter(test_loader_adam))\n",
    "images = images[0:10]\n",
    "labels = [0]\n",
    "grid = torchvision.utils.make_grid(images.reshape(10,1,28,28), nrow=10)\n",
    "\n",
    "plt.figure(figsize=(15,15))\n",
    "plt.imshow(np.transpose(grid,(1,2,0)))\n",
    "\n",
    "images = images.to(device)\n",
    "outputs = adam_128(images)\n",
    "outputs = outputs.to('cpu')\n",
    "\n",
    "grid_output = torchvision.utils.make_grid(outputs.reshape(10,1,28,28), nrow=10)\n",
    "\n",
    "plt.figure(figsize=(15,15))\n",
    "plt.imshow(np.transpose(grid_output,(1,2,0)))\n",
    "\n",
    "print('labels:',labels)"
   ]
  },
  {
   "cell_type": "markdown",
   "metadata": {
    "id": "so0NVzn2-06f"
   },
   "source": [
    "# 2 RMSProp"
   ]
  },
  {
   "cell_type": "code",
   "execution_count": null,
   "metadata": {
    "id": "Asr2F5-f5wsi"
   },
   "outputs": [],
   "source": [
    "train_loader_rms = torch.utils.data.DataLoader(train_set,batch_size=30)\n",
    "test_loader_rms = torch.utils.data.DataLoader(test_set,batch_size=1)"
   ]
  },
  {
   "cell_type": "code",
   "execution_count": null,
   "metadata": {
    "colab": {
     "base_uri": "https://localhost:8080/"
    },
    "id": "v6dE-NFCuSQJ",
    "outputId": "3c1eb7d5-25b0-4df7-9e23-12c7bd406ef1"
   },
   "outputs": [
    {
     "name": "stdout",
     "output_type": "stream",
     "text": [
      "epoch:  0 loss:  98.97861056402326\n",
      "epoch:  1 loss:  79.85144584998488\n",
      "epoch:  2 loss:  74.29806890897453\n",
      "epoch:  3 loss:  68.47978068329394\n",
      "epoch:  4 loss:  65.61021810211241\n",
      "epoch:  5 loss:  64.09288437850773\n",
      "epoch:  6 loss:  63.00812012515962\n",
      "epoch:  7 loss:  62.14971813745797\n",
      "epoch:  8 loss:  61.449261935427785\n",
      "epoch:  9 loss:  61.05765891820192\n",
      "epoch:  10 loss:  60.7315758485347\n",
      "epoch:  11 loss:  59.98747601546347\n",
      "epoch:  12 loss:  58.59406063891947\n",
      "epoch:  13 loss:  57.83276551216841\n",
      "epoch:  14 loss:  56.72465164773166\n",
      "epoch:  15 loss:  56.25126931257546\n",
      "epoch:  16 loss:  55.643848814070225\n",
      "epoch:  17 loss:  55.32024993933737\n",
      "epoch:  18 loss:  55.00151577591896\n",
      "epoch:  19 loss:  54.79859402962029\n",
      "epoch:  20 loss:  54.63204579986632\n",
      "epoch:  21 loss:  54.4690564032644\n",
      "epoch:  22 loss:  54.33488933555782\n",
      "epoch:  23 loss:  54.133113553747535\n",
      "epoch:  24 loss:  53.993899738416076\n",
      "epoch:  25 loss:  53.8871011454612\n",
      "epoch:  26 loss:  53.7894206866622\n",
      "epoch:  27 loss:  53.71371532604098\n",
      "epoch:  28 loss:  53.433734541758895\n",
      "epoch:  29 loss:  53.22135470062494\n",
      "Average loss for each image :  0.0008870225783437491\n"
     ]
    }
   ],
   "source": [
    "# hidden size will be 8 , 32 , 128\n",
    "rms_8 = AE(8)\n",
    "rms_8.to(device)\n",
    "\n",
    "optimizer_8 = optim.RMSprop(rms_8.parameters(), lr=0.001)\n",
    "\n",
    "rms_8_loss = []\n",
    "criterion = nn.MSELoss()\n",
    "for epoch in range(30):\n",
    "    total_loss = 0.0\n",
    "    for batch in train_loader_rms:\n",
    "        images, labels = batch[0].to(device),batch[1].to(device)\n",
    "        #print(images.shape)\n",
    "        preds = rms_8(images)\n",
    "        #print(preds.shape)\n",
    "        loss = criterion(preds,images)\n",
    "        \n",
    "        optimizer_8.zero_grad()\n",
    "        loss.backward()\n",
    "        optimizer_8.step()\n",
    "        \n",
    "        total_loss += loss.item()\n",
    "    rms_8_loss.append(total_loss)\n",
    "    print(\"epoch: \",epoch,\"loss: \",total_loss)\n",
    "print(\"Average loss for each image : \", total_loss/len(train_set))"
   ]
  },
  {
   "cell_type": "code",
   "execution_count": null,
   "metadata": {
    "colab": {
     "base_uri": "https://localhost:8080/"
    },
    "id": "3PAu0MNSATeO",
    "outputId": "5fb0d531-398a-4e9f-f4dd-8e1c8d09a9e1"
   },
   "outputs": [
    {
     "name": "stdout",
     "output_type": "stream",
     "text": [
      "total reconstruction loss using RMSProp and 8 neurons :  218695.4240834713\n",
      "average loss  21.86954240834713\n"
     ]
    }
   ],
   "source": [
    "test_loss_rms_8 = 0\n",
    "for data in test_loader_rms:\n",
    "    images, labels = data[0].to(device),data[1].to(device)\n",
    "    outputs = rms_8(images)\n",
    "    loss = ((outputs-images)**2).sum()\n",
    "    #loss = criterion(outputs,images)\n",
    "    test_loss_rms_8 += loss.item()*images.shape[0]\n",
    "print(\"total reconstruction loss using RMSProp and 8 neurons : \", test_loss_rms_8)\n",
    "print(\"average loss \", test_loss_rms_8/len(test_set))"
   ]
  },
  {
   "cell_type": "code",
   "execution_count": null,
   "metadata": {
    "colab": {
     "base_uri": "https://localhost:8080/"
    },
    "id": "gobE6wEBvOrb",
    "outputId": "3400e604-8213-4d4f-8cc6-0887d0f607d5"
   },
   "outputs": [
    {
     "name": "stdout",
     "output_type": "stream",
     "text": [
      "epoch:  0 loss:  65.3197382837534\n",
      "epoch:  1 loss:  45.816262061707675\n",
      "epoch:  2 loss:  41.201605967245996\n",
      "epoch:  3 loss:  39.689677365124226\n",
      "epoch:  4 loss:  38.402964632958174\n",
      "epoch:  5 loss:  36.983089200221\n",
      "epoch:  6 loss:  36.037843939848244\n",
      "epoch:  7 loss:  34.88794922363013\n",
      "epoch:  8 loss:  33.82630089391023\n",
      "epoch:  9 loss:  33.16253725718707\n",
      "epoch:  10 loss:  32.58891011308879\n",
      "epoch:  11 loss:  32.1165161812678\n",
      "epoch:  12 loss:  31.75668359734118\n",
      "epoch:  13 loss:  31.503747446462512\n",
      "epoch:  14 loss:  31.302310191094875\n",
      "epoch:  15 loss:  31.161744718439877\n",
      "epoch:  16 loss:  31.008347779512405\n",
      "epoch:  17 loss:  30.86531018279493\n",
      "epoch:  18 loss:  30.763107942417264\n",
      "epoch:  19 loss:  30.660372076556087\n",
      "epoch:  20 loss:  30.49744138866663\n",
      "epoch:  21 loss:  29.258646667934954\n",
      "epoch:  22 loss:  28.630972222425044\n",
      "epoch:  23 loss:  28.461908317171037\n",
      "epoch:  24 loss:  28.32315069064498\n",
      "epoch:  25 loss:  28.203437683172524\n",
      "epoch:  26 loss:  28.110469684936106\n",
      "epoch:  27 loss:  28.02910775411874\n",
      "epoch:  28 loss:  27.60167308105156\n",
      "epoch:  29 loss:  27.059084253851324\n",
      "Average loss for each image :  0.00045098473756418874\n"
     ]
    }
   ],
   "source": [
    "rms_32 = AE(32)\n",
    "rms_32.to(device)\n",
    "\n",
    "optimizer_32 = optim.RMSprop(rms_32.parameters(), lr=0.001)\n",
    "\n",
    "rms_32_loss = []\n",
    "criterion = nn.MSELoss()\n",
    "for epoch in range(30):\n",
    "    total_loss = 0.0\n",
    "    for batch in train_loader_rms:\n",
    "        images, labels = batch[0].to(device),batch[1].to(device)\n",
    "        #print(images.shape)\n",
    "        preds = rms_32(images)\n",
    "        #print(preds.shape)\n",
    "        loss = criterion(preds,images)\n",
    "        \n",
    "        optimizer_32.zero_grad()\n",
    "        loss.backward()\n",
    "        optimizer_32.step()\n",
    "        \n",
    "        total_loss += loss.item()\n",
    "    rms_32_loss.append(total_loss)\n",
    "    print(\"epoch: \",epoch,\"loss: \",total_loss)\n",
    "print(\"Average loss for each image : \", total_loss/len(train_set))"
   ]
  },
  {
   "cell_type": "code",
   "execution_count": null,
   "metadata": {
    "colab": {
     "base_uri": "https://localhost:8080/"
    },
    "id": "YFY9zO-IBImd",
    "outputId": "4a5a2331-f22a-4918-906a-aea0606ffb10"
   },
   "outputs": [
    {
     "name": "stdout",
     "output_type": "stream",
     "text": [
      "total reconstruction loss using RMSProp and 32 neurons :  108473.15914863348\n",
      "average loss  10.847315914863348\n"
     ]
    }
   ],
   "source": [
    "test_loss_rms_32 = 0\n",
    "for data in test_loader_rms:\n",
    "    images, labels = data[0].to(device),data[1].to(device)\n",
    "    outputs = rms_32(images)\n",
    "    loss = ((outputs-images)**2).sum()\n",
    "    #loss = criterion(outputs,images)\n",
    "    test_loss_rms_32 += loss.item()*images.shape[0]\n",
    "print(\"total reconstruction loss using RMSProp and 32 neurons : \", test_loss_rms_32)\n",
    "print(\"average loss \", test_loss_rms_32/len(test_set))"
   ]
  },
  {
   "cell_type": "code",
   "execution_count": null,
   "metadata": {
    "colab": {
     "base_uri": "https://localhost:8080/"
    },
    "id": "RtgW7VSVOACk",
    "outputId": "e01e4069-174f-4142-e338-cd76e9593e6b"
   },
   "outputs": [
    {
     "name": "stdout",
     "output_type": "stream",
     "text": [
      "epoch:  0 loss:  55.053910235874355\n",
      "epoch:  1 loss:  36.38364825677127\n",
      "epoch:  2 loss:  32.73473520576954\n",
      "epoch:  3 loss:  30.51058075018227\n",
      "epoch:  4 loss:  29.445023430511355\n",
      "epoch:  5 loss:  28.61896280758083\n",
      "epoch:  6 loss:  27.95720075070858\n",
      "epoch:  7 loss:  27.43512862920761\n",
      "epoch:  8 loss:  26.730283685028553\n",
      "epoch:  9 loss:  26.216637381352484\n",
      "epoch:  10 loss:  24.537234839983284\n",
      "epoch:  11 loss:  23.712699219584465\n",
      "epoch:  12 loss:  23.429423414636403\n",
      "epoch:  13 loss:  23.141192322131246\n",
      "epoch:  14 loss:  22.895411274861544\n",
      "epoch:  15 loss:  22.67315013287589\n",
      "epoch:  16 loss:  22.493155556265265\n",
      "epoch:  17 loss:  22.31163749843836\n",
      "epoch:  18 loss:  22.174506069160998\n",
      "epoch:  19 loss:  22.036648138426244\n",
      "epoch:  20 loss:  21.94172699516639\n",
      "epoch:  21 loss:  21.837900636252016\n",
      "epoch:  22 loss:  21.731655448675156\n",
      "epoch:  23 loss:  21.655675283633173\n",
      "epoch:  24 loss:  21.577952787280083\n",
      "epoch:  25 loss:  21.52412937907502\n",
      "epoch:  26 loss:  21.44195823604241\n",
      "epoch:  27 loss:  21.359768227208406\n",
      "epoch:  28 loss:  21.297168674413115\n",
      "epoch:  29 loss:  21.258675422985107\n",
      "Average loss for each image :  0.00035431125704975177\n"
     ]
    }
   ],
   "source": [
    "rms_128 = AE(128)\n",
    "rms_128.to(device)\n",
    "\n",
    "optimizer_128 = optim.RMSprop(rms_128.parameters(), lr=0.001)\n",
    "\n",
    "rms_128_loss = []\n",
    "criterion = nn.MSELoss()\n",
    "for epoch in range(30):\n",
    "    total_loss = 0.0\n",
    "    for batch in train_loader_rms:\n",
    "        images, labels = batch[0].to(device),batch[1].to(device)\n",
    "        #print(images.shape)\n",
    "        preds = rms_128(images)\n",
    "        #print(preds.shape)\n",
    "        loss = criterion(preds,images)\n",
    "        \n",
    "        optimizer_128.zero_grad()\n",
    "        loss.backward()\n",
    "        optimizer_128.step()\n",
    "        \n",
    "        total_loss += loss.item()\n",
    "    rms_128_loss.append(total_loss)\n",
    "    print(\"epoch: \",epoch,\"loss: \",total_loss)\n",
    "print(\"Average loss for each image : \", total_loss/len(train_set))"
   ]
  },
  {
   "cell_type": "code",
   "execution_count": null,
   "metadata": {
    "colab": {
     "base_uri": "https://localhost:8080/"
    },
    "id": "wU8t4ZXbBsN_",
    "outputId": "8c555411-4eaf-4982-d4af-db39b3e5a05f"
   },
   "outputs": [
    {
     "name": "stdout",
     "output_type": "stream",
     "text": [
      "total reconstruction loss using RMSProp and 128 neurons :  86432.51908928156\n",
      "average loss  8.643251908928155\n"
     ]
    }
   ],
   "source": [
    "test_loss_rms_128 = 0\n",
    "for data in test_loader_rms:\n",
    "    images, labels = data[0].to(device),data[1].to(device)\n",
    "    outputs = rms_128(images)\n",
    "    #loss = criterion(outputs,images)\n",
    "    loss = ((outputs-images)**2).sum()\n",
    "    test_loss_rms_128 += loss.item()*images.shape[0]\n",
    "print(\"total reconstruction loss using RMSProp and 128 neurons : \", test_loss_rms_128)\n",
    "print(\"average loss \", test_loss_rms_128/len(test_set))"
   ]
  },
  {
   "cell_type": "code",
   "execution_count": null,
   "metadata": {
    "colab": {
     "base_uri": "https://localhost:8080/",
     "height": 312
    },
    "id": "UYVm9IfSCDSJ",
    "outputId": "c52b9e30-e8dd-4c39-bec1-5ff1bb2edbbd"
   },
   "outputs": [
    {
     "data": {
      "text/plain": [
       "Text(0, 0.5, 'Sum of MSE loss on all test data')"
      ]
     },
     "execution_count": 296,
     "metadata": {
      "tags": []
     },
     "output_type": "execute_result"
    },
    {
     "data": {
      "image/png": "[encoded data removed]",
      "text/plain": [
       "<Figure size 432x288 with 1 Axes>"
      ]
     },
     "metadata": {
      "needs_background": "light",
      "tags": []
     },
     "output_type": "display_data"
    }
   ],
   "source": [
    "plt.scatter([8,32,128],[test_loss_rms_8/len(test_set),test_loss_rms_32/len(test_set),test_loss_rms_128/len(test_set)])\n",
    "plt.title(\"RMSProp\")\n",
    "plt.xlabel(\"Number of hidden neurons\")\n",
    "plt.ylabel(\"Sum of MSE loss on all test data\")"
   ]
  },
  {
   "cell_type": "code",
   "execution_count": null,
   "metadata": {
    "colab": {
     "base_uri": "https://localhost:8080/",
     "height": 295
    },
    "id": "BZfSER6KCXoS",
    "outputId": "8dd1315e-e789-4b85-e8ad-cf7c2eca7492"
   },
   "outputs": [
    {
     "name": "stderr",
     "output_type": "stream",
     "text": [
      "Clipping input data to the valid range for imshow with RGB data ([0..1] for floats or [0..255] for integers).\n"
     ]
    },
    {
     "data": {
      "text/plain": [
       "<matplotlib.image.AxesImage at 0x7fd31d2e14d0>"
      ]
     },
     "execution_count": 92,
     "metadata": {
      "tags": []
     },
     "output_type": "execute_result"
    },
    {
     "data": {
      "image/png": "[encoded data removed]",
      "text/plain": [
       "<Figure size 1080x1080 with 1 Axes>"
      ]
     },
     "metadata": {
      "needs_background": "light",
      "tags": []
     },
     "output_type": "display_data"
    },
    {
     "data": {
      "image/png": "[encoded data removed]",
      "text/plain": [
       "<Figure size 1080x1080 with 1 Axes>"
      ]
     },
     "metadata": {
      "needs_background": "light",
      "tags": []
     },
     "output_type": "display_data"
    }
   ],
   "source": [
    "images,labels = next(iter(test_loader_rms))\n",
    "images = images[0:10]\n",
    "labels = [0]\n",
    "grid = torchvision.utils.make_grid(images.reshape(10,1,28,28), nrow=10)\n",
    "\n",
    "plt.figure(figsize=(15,15))\n",
    "plt.imshow(np.transpose(grid,(1,2,0)))\n",
    "\n",
    "images = images.to(device)\n",
    "outputs = rms_128(images)\n",
    "outputs = outputs.to('cpu')\n",
    "\n",
    "grid_output = torchvision.utils.make_grid(outputs.reshape(10,1,28,28), nrow=10)\n",
    "\n",
    "plt.figure(figsize=(15,15))\n",
    "plt.imshow(np.transpose(grid_output,(1,2,0)))"
   ]
  },
  {
   "cell_type": "code",
   "execution_count": null,
   "metadata": {
    "id": "LO4tkJJYI32G"
   },
   "outputs": [],
   "source": []
  },
  {
   "cell_type": "markdown",
   "metadata": {
    "id": "3XgW-Z0PI4LC"
   },
   "source": [
    "# 3 SGD with momentum"
   ]
  },
  {
   "cell_type": "code",
   "execution_count": null,
   "metadata": {
    "id": "_oVWYeuoI_Kv"
   },
   "outputs": [],
   "source": [
    "train_loader_sgd_mom = torch.utils.data.DataLoader(train_set,batch_size=100)\n",
    "test_loader_sgd_mom = torch.utils.data.DataLoader(test_set,batch_size=1)"
   ]
  },
  {
   "cell_type": "code",
   "execution_count": null,
   "metadata": {
    "colab": {
     "base_uri": "https://localhost:8080/"
    },
    "id": "5QaFJkTWJKFd",
    "outputId": "4843abc9-7742-4c3b-e074-e03323c1b9b5"
   },
   "outputs": [
    {
     "name": "stdout",
     "output_type": "stream",
     "text": [
      "epoch:  0 loss:  56.846047334373\n",
      "epoch:  1 loss:  49.3935838714242\n",
      "epoch:  2 loss:  48.43526580184698\n",
      "epoch:  3 loss:  47.889263954013586\n",
      "epoch:  4 loss:  47.12593552470207\n",
      "epoch:  5 loss:  46.30682601034641\n",
      "epoch:  6 loss:  44.72178288549185\n",
      "epoch:  7 loss:  43.320319436490536\n",
      "epoch:  8 loss:  41.79546408355236\n",
      "epoch:  9 loss:  39.99434042349458\n",
      "epoch:  10 loss:  38.522341299802065\n",
      "epoch:  11 loss:  37.34003126621246\n",
      "epoch:  12 loss:  36.4755302965641\n",
      "epoch:  13 loss:  35.46739298850298\n",
      "epoch:  14 loss:  34.41028103232384\n",
      "epoch:  15 loss:  33.559485483914614\n",
      "epoch:  16 loss:  32.74185900390148\n",
      "epoch:  17 loss:  32.265717666596174\n",
      "epoch:  18 loss:  31.88883428275585\n",
      "epoch:  19 loss:  31.54987244307995\n",
      "epoch:  20 loss:  31.189618535339832\n",
      "epoch:  21 loss:  30.917268734425306\n",
      "epoch:  22 loss:  30.69233626499772\n",
      "epoch:  23 loss:  30.511022705584764\n",
      "epoch:  24 loss:  30.329077418893576\n",
      "epoch:  25 loss:  30.144390039145947\n",
      "epoch:  26 loss:  29.90082323178649\n",
      "epoch:  27 loss:  29.67018411681056\n",
      "epoch:  28 loss:  29.49197492748499\n",
      "epoch:  29 loss:  29.35876688733697\n",
      "Average loss for each image :  0.0004893127814556161\n"
     ]
    }
   ],
   "source": [
    "# hidden size will be 8 , 32 , 128\n",
    "sgd_mom_8 = AE(8)\n",
    "sgd_mom_8.to(device)\n",
    "\n",
    "optimizer_8 = optim.SGD(sgd_mom_8.parameters(), lr=0.01, momentum=0.9)\n",
    "\n",
    "sgd_mom_8_loss = []\n",
    "criterion = nn.MSELoss()\n",
    "for epoch in range(30):\n",
    "    total_loss = 0.0\n",
    "    for batch in train_loader_sgd_mom:\n",
    "        images, labels = batch[0].to(device),batch[1].to(device)\n",
    "        #print(images.shape)\n",
    "        preds = sgd_mom_8(images)\n",
    "        #print(preds.shape)\n",
    "        loss = criterion(preds,images)\n",
    "        \n",
    "        optimizer_8.zero_grad()\n",
    "        loss.backward()\n",
    "        optimizer_8.step()\n",
    "        \n",
    "        total_loss += loss.item()\n",
    "    sgd_mom_8_loss.append(total_loss)\n",
    "    print(\"epoch: \",epoch,\"loss: \",total_loss)\n",
    "print(\"Average loss for each image : \", total_loss/len(train_set))"
   ]
  },
  {
   "cell_type": "code",
   "execution_count": null,
   "metadata": {
    "colab": {
     "base_uri": "https://localhost:8080/"
    },
    "id": "tv7zhv1nKio4",
    "outputId": "4ab82a47-b2c6-41ba-b93b-2a3c06fc5d50"
   },
   "outputs": [
    {
     "name": "stdout",
     "output_type": "stream",
     "text": [
      "total reconstruction loss using SGD with momentum and 8 neurons :  383853.0274963379\n",
      "average loss  38.38530274963379\n"
     ]
    }
   ],
   "source": [
    "test_loss_sgd_mom_8 = 0\n",
    "for data in test_loader_sgd_mom:\n",
    "    images, labels = data[0].to(device),data[1].to(device)\n",
    "    outputs = sgd_mom_8(images)\n",
    "    loss = ((outputs-images)**2).sum()\n",
    "    #loss = criterion(outputs,images)\n",
    "    test_loss_sgd_mom_8 += loss.item()*images.shape[0]\n",
    "print(\"total reconstruction loss using SGD with momentum and 8 neurons : \", test_loss_sgd_mom_8)\n",
    "print(\"average loss \", test_loss_sgd_mom_8/len(test_set))"
   ]
  },
  {
   "cell_type": "code",
   "execution_count": null,
   "metadata": {
    "colab": {
     "base_uri": "https://localhost:8080/"
    },
    "id": "2xvO8QDrKzyF",
    "outputId": "ad3d74d7-c7fb-42e5-c4b1-964c47c22de2"
   },
   "outputs": [
    {
     "name": "stdout",
     "output_type": "stream",
     "text": [
      "epoch:  0 loss:  58.92016039043665\n",
      "epoch:  1 loss:  48.085606306791306\n",
      "epoch:  2 loss:  47.10367774963379\n",
      "epoch:  3 loss:  46.870754808187485\n",
      "epoch:  4 loss:  46.53682102635503\n",
      "epoch:  5 loss:  46.22871470451355\n",
      "epoch:  6 loss:  45.747337125241756\n",
      "epoch:  7 loss:  44.86169607937336\n",
      "epoch:  8 loss:  43.495222482830286\n",
      "epoch:  9 loss:  41.509653855115175\n",
      "epoch:  10 loss:  39.37236586213112\n",
      "epoch:  11 loss:  37.277917079627514\n",
      "epoch:  12 loss:  35.326634515076876\n",
      "epoch:  13 loss:  33.45510548353195\n",
      "epoch:  14 loss:  32.11840010434389\n",
      "epoch:  15 loss:  31.160747438669205\n",
      "epoch:  16 loss:  30.33724496513605\n",
      "epoch:  17 loss:  29.66995220631361\n",
      "epoch:  18 loss:  29.0077665746212\n",
      "epoch:  19 loss:  28.462098203599453\n",
      "epoch:  20 loss:  27.964672476053238\n",
      "epoch:  21 loss:  27.50925688818097\n",
      "epoch:  22 loss:  27.082334972918034\n",
      "epoch:  23 loss:  26.675996996462345\n",
      "epoch:  24 loss:  26.276405181735754\n",
      "epoch:  25 loss:  25.75782909616828\n",
      "epoch:  26 loss:  25.33922917023301\n",
      "epoch:  27 loss:  24.984693687409163\n",
      "epoch:  28 loss:  24.656802602112293\n",
      "epoch:  29 loss:  24.35160605236888\n",
      "Average loss for each image :  0.0004058601008728147\n"
     ]
    }
   ],
   "source": [
    "sgd_mom_32 = AE(32)\n",
    "sgd_mom_32.to(device)\n",
    "\n",
    "optimizer_32 = optim.SGD(sgd_mom_32.parameters(), lr=0.01, momentum=0.9)\n",
    "\n",
    "sgd_mom_32_loss = []\n",
    "criterion = nn.MSELoss()\n",
    "for epoch in range(30):\n",
    "    total_loss = 0.0\n",
    "    for batch in train_loader_sgd_mom:\n",
    "        images, labels = batch[0].to(device),batch[1].to(device)\n",
    "        #print(images.shape)\n",
    "        preds = sgd_mom_32(images)\n",
    "        #print(preds.shape)\n",
    "        loss = criterion(preds,images)\n",
    "        \n",
    "        optimizer_32.zero_grad()\n",
    "        loss.backward()\n",
    "        optimizer_32.step()\n",
    "        \n",
    "        total_loss += loss.item()\n",
    "    sgd_mom_32_loss.append(total_loss)\n",
    "    print(\"epoch: \",epoch,\"loss: \",total_loss)\n",
    "print(\"Average loss for each image : \", total_loss/len(train_set))"
   ]
  },
  {
   "cell_type": "code",
   "execution_count": null,
   "metadata": {
    "colab": {
     "base_uri": "https://localhost:8080/"
    },
    "id": "gEkJs7ogLOSR",
    "outputId": "fa23c078-c8e2-4b9d-9a92-8b05c9760c21"
   },
   "outputs": [
    {
     "name": "stdout",
     "output_type": "stream",
     "text": [
      "total reconstruction loss using SGD with momentum and 32 neurons :  315960.57715177536\n",
      "average loss  31.596057715177537\n"
     ]
    }
   ],
   "source": [
    "test_loss_sgd_mom_32 = 0\n",
    "for data in test_loader_sgd_mom:\n",
    "    images, labels = data[0].to(device),data[1].to(device)\n",
    "    outputs = sgd_mom_32(images)\n",
    "    loss = ((outputs-images)**2).sum()\n",
    "    #loss = criterion(outputs,images)\n",
    "    test_loss_sgd_mom_32 += loss.item()*images.shape[0]\n",
    "print(\"total reconstruction loss using SGD with momentum and 32 neurons : \", test_loss_sgd_mom_32)\n",
    "print(\"average loss \", test_loss_sgd_mom_32/len(test_set))"
   ]
  },
  {
   "cell_type": "code",
   "execution_count": null,
   "metadata": {
    "colab": {
     "base_uri": "https://localhost:8080/"
    },
    "id": "4FEBQtOyLfFz",
    "outputId": "9772cb1f-a674-4a6b-b330-e2d85f2ba631"
   },
   "outputs": [
    {
     "name": "stdout",
     "output_type": "stream",
     "text": [
      "epoch:  0 loss:  61.88498619943857\n",
      "epoch:  1 loss:  49.767485693097115\n",
      "epoch:  2 loss:  44.92334616556764\n",
      "epoch:  3 loss:  44.46622909605503\n",
      "epoch:  4 loss:  43.92136548832059\n",
      "epoch:  5 loss:  43.12945319339633\n",
      "epoch:  6 loss:  41.944933865219355\n",
      "epoch:  7 loss:  40.5793116055429\n",
      "epoch:  8 loss:  39.17847225815058\n",
      "epoch:  9 loss:  37.51818963512778\n",
      "epoch:  10 loss:  35.85438107699156\n",
      "epoch:  11 loss:  33.99366529285908\n",
      "epoch:  12 loss:  32.56544867530465\n",
      "epoch:  13 loss:  31.337924540042877\n",
      "epoch:  14 loss:  30.159352257847786\n",
      "epoch:  15 loss:  29.11181540414691\n",
      "epoch:  16 loss:  28.258820302784443\n",
      "epoch:  17 loss:  27.519438818097115\n",
      "epoch:  18 loss:  26.917464450001717\n",
      "epoch:  19 loss:  26.30805106461048\n",
      "epoch:  20 loss:  25.78890984132886\n",
      "epoch:  21 loss:  25.35720444470644\n",
      "epoch:  22 loss:  24.964035104960203\n",
      "epoch:  23 loss:  24.596735551953316\n",
      "epoch:  24 loss:  24.24480451270938\n",
      "epoch:  25 loss:  23.864564334973693\n",
      "epoch:  26 loss:  23.4761271905154\n",
      "epoch:  27 loss:  22.999135280027986\n",
      "epoch:  28 loss:  22.611496064811945\n",
      "epoch:  29 loss:  22.25386395677924\n",
      "Average loss for each image :  0.00037089773261298733\n"
     ]
    }
   ],
   "source": [
    "sgd_mom_128 = AE(128)\n",
    "sgd_mom_128.to(device)\n",
    "\n",
    "optimizer_128 = optim.SGD(sgd_mom_128.parameters(), lr=0.01, momentum=0.9)\n",
    "\n",
    "sgd_mom_128_loss = []\n",
    "criterion = nn.MSELoss()\n",
    "for epoch in range(30):\n",
    "    total_loss = 0.0\n",
    "    for batch in train_loader_sgd_mom:\n",
    "        images, labels = batch[0].to(device),batch[1].to(device)\n",
    "        #print(images.shape)\n",
    "        preds = sgd_mom_128(images)\n",
    "        #print(preds.shape)\n",
    "        loss = criterion(preds,images)\n",
    "        \n",
    "        optimizer_128.zero_grad()\n",
    "        loss.backward()\n",
    "        optimizer_128.step()\n",
    "        \n",
    "        total_loss += loss.item()\n",
    "    sgd_mom_128_loss.append(total_loss)\n",
    "    print(\"epoch: \",epoch,\"loss: \",total_loss)\n",
    "print(\"Average loss for each image : \", total_loss/len(train_set))"
   ]
  },
  {
   "cell_type": "code",
   "execution_count": null,
   "metadata": {
    "colab": {
     "base_uri": "https://localhost:8080/"
    },
    "id": "y8Dv-1pnL0L2",
    "outputId": "80156a42-ddaa-4a26-bce9-414bf8941d3b"
   },
   "outputs": [
    {
     "name": "stdout",
     "output_type": "stream",
     "text": [
      "total reconstruction loss using SGD with momentum and 128 neurons :  286776.0129189491\n",
      "average loss  28.677601291894913\n"
     ]
    }
   ],
   "source": [
    "test_loss_sgd_mom_128 = 0\n",
    "for data in test_loader_sgd_mom:\n",
    "    images, labels = data[0].to(device),data[1].to(device)\n",
    "    outputs = sgd_mom_128(images)\n",
    "    #loss = criterion(outputs,images)\n",
    "    loss = ((outputs-images)**2).sum()\n",
    "    test_loss_sgd_mom_128 += loss.item()*images.shape[0]\n",
    "print(\"total reconstruction loss using SGD with momentum and 128 neurons : \", test_loss_sgd_mom_128)\n",
    "print(\"average loss \", test_loss_sgd_mom_128/len(test_set))"
   ]
  },
  {
   "cell_type": "code",
   "execution_count": null,
   "metadata": {
    "colab": {
     "base_uri": "https://localhost:8080/",
     "height": 312
    },
    "id": "vRxkCuRpMAmk",
    "outputId": "fb997fbe-ddf2-443c-9b75-a3bc10ad2205"
   },
   "outputs": [
    {
     "data": {
      "text/plain": [
       "Text(0, 0.5, 'MSE loss on all test data')"
      ]
     },
     "execution_count": 300,
     "metadata": {
      "tags": []
     },
     "output_type": "execute_result"
    },
    {
     "data": {
      "image/png": "[encoded data removed]",
      "text/plain": [
       "<Figure size 432x288 with 1 Axes>"
      ]
     },
     "metadata": {
      "needs_background": "light",
      "tags": []
     },
     "output_type": "display_data"
    }
   ],
   "source": [
    "plt.scatter([8,32,128],[test_loss_sgd_mom_8/len(test_set),test_loss_sgd_mom_32/len(test_set),test_loss_sgd_mom_128/len(test_set)])\n",
    "plt.title(\"SGD with momentum\")\n",
    "plt.xlabel(\"Number of hidden neurons\")\n",
    "plt.ylabel(\"MSE loss on all test data\")"
   ]
  },
  {
   "cell_type": "code",
   "execution_count": null,
   "metadata": {
    "colab": {
     "base_uri": "https://localhost:8080/",
     "height": 295
    },
    "id": "N9LGB8z6ML6f",
    "outputId": "36985988-0e59-48be-d577-df3399278542"
   },
   "outputs": [
    {
     "name": "stderr",
     "output_type": "stream",
     "text": [
      "Clipping input data to the valid range for imshow with RGB data ([0..1] for floats or [0..255] for integers).\n"
     ]
    },
    {
     "data": {
      "text/plain": [
       "<matplotlib.image.AxesImage at 0x7fd31d0fa890>"
      ]
     },
     "execution_count": 125,
     "metadata": {
      "tags": []
     },
     "output_type": "execute_result"
    },
    {
     "data": {
      "image/png": "[encoded data removed]",
      "text/plain": [
       "<Figure size 1080x1080 with 1 Axes>"
      ]
     },
     "metadata": {
      "needs_background": "light",
      "tags": []
     },
     "output_type": "display_data"
    },
    {
     "data": {
      "image/png": "[encoded data removed]",
      "text/plain": [
       "<Figure size 1080x1080 with 1 Axes>"
      ]
     },
     "metadata": {
      "needs_background": "light",
      "tags": []
     },
     "output_type": "display_data"
    }
   ],
   "source": [
    "images,labels = next(iter(test_loader_sgd_mom))\n",
    "images = images[0:10]\n",
    "grid = torchvision.utils.make_grid(images.reshape(10,1,28,28), nrow=10)\n",
    "\n",
    "plt.figure(figsize=(15,15))\n",
    "plt.imshow(np.transpose(grid,(1,2,0)))\n",
    "\n",
    "images = images.to(device)\n",
    "outputs = sgd_mom_128(images)\n",
    "outputs = outputs.to('cpu')\n",
    "\n",
    "grid_output = torchvision.utils.make_grid(outputs.reshape(10,1,28,28), nrow=10)\n",
    "\n",
    "plt.figure(figsize=(15,15))\n",
    "plt.imshow(np.transpose(grid_output,(1,2,0)))\n"
   ]
  },
  {
   "cell_type": "code",
   "execution_count": null,
   "metadata": {
    "id": "ZJTnGxBbNEfu"
   },
   "outputs": [],
   "source": []
  },
  {
   "cell_type": "markdown",
   "metadata": {
    "id": "G4cH1jyCNFGu"
   },
   "source": [
    "# 4 SGD without Momentum"
   ]
  },
  {
   "cell_type": "code",
   "execution_count": null,
   "metadata": {
    "id": "vMuutidyNH5v"
   },
   "outputs": [],
   "source": [
    "train_loader_sgd = torch.utils.data.DataLoader(train_set,batch_size=10)\n",
    "test_loader_sgd = torch.utils.data.DataLoader(test_set,batch_size=1)"
   ]
  },
  {
   "cell_type": "code",
   "execution_count": null,
   "metadata": {
    "colab": {
     "base_uri": "https://localhost:8080/"
    },
    "id": "FOFy-VFmNOME",
    "outputId": "6c3162a8-c1ab-4049-fc5d-74e61bbb49f3"
   },
   "outputs": [
    {
     "name": "stdout",
     "output_type": "stream",
     "text": [
      "epoch:  0 loss:  268.1662784013897\n",
      "epoch:  1 loss:  186.17201978899539\n",
      "epoch:  2 loss:  166.10369482915848\n",
      "epoch:  3 loss:  154.68308679386973\n",
      "epoch:  4 loss:  147.6214573662728\n",
      "epoch:  5 loss:  143.38169212453067\n",
      "epoch:  6 loss:  140.06778173707426\n",
      "epoch:  7 loss:  137.2829598635435\n",
      "epoch:  8 loss:  132.95703397877514\n",
      "epoch:  9 loss:  131.02091454993933\n",
      "epoch:  10 loss:  129.32257605157793\n",
      "epoch:  11 loss:  127.99208067078143\n",
      "epoch:  12 loss:  126.83474249858409\n",
      "epoch:  13 loss:  125.6580613637343\n",
      "epoch:  14 loss:  124.77232187846676\n",
      "epoch:  15 loss:  123.9145931955427\n",
      "epoch:  16 loss:  123.239581621252\n",
      "epoch:  17 loss:  122.61954035330564\n",
      "epoch:  18 loss:  120.46345658693463\n",
      "epoch:  19 loss:  119.88234202610329\n",
      "epoch:  20 loss:  119.31681401468813\n",
      "epoch:  21 loss:  117.1489140521735\n",
      "epoch:  22 loss:  116.54024902591482\n",
      "epoch:  23 loss:  116.0550985308364\n",
      "epoch:  24 loss:  115.79668885888532\n",
      "epoch:  25 loss:  115.40888170804828\n",
      "epoch:  26 loss:  115.08580809365958\n",
      "epoch:  27 loss:  114.7387950248085\n",
      "epoch:  28 loss:  114.43452717131004\n",
      "epoch:  29 loss:  114.13655224023387\n",
      "Average loss for each image :  0.0019022758706705644\n"
     ]
    }
   ],
   "source": [
    "# hidden size will be 8 , 32 , 128\n",
    "sgd_8 = AE(8)\n",
    "sgd_8.to(device)\n",
    "\n",
    "optimizer_8 = optim.SGD(sgd_8.parameters(), lr=1)\n",
    "\n",
    "sgd_8_loss = []\n",
    "criterion = nn.MSELoss()\n",
    "for epoch in range(30):\n",
    "    total_loss = 0.0\n",
    "    for batch in train_loader_sgd:\n",
    "        images, labels = batch[0].to(device),batch[1].to(device)\n",
    "        #print(images.shape)\n",
    "        preds = sgd_8(images)\n",
    "        #print(preds.shape)\n",
    "        loss = criterion(preds,images)\n",
    "        \n",
    "        optimizer_8.zero_grad()\n",
    "        loss.backward()\n",
    "        optimizer_8.step()\n",
    "        \n",
    "        total_loss += loss.item()\n",
    "    sgd_8_loss.append(total_loss)\n",
    "    print(\"epoch: \",epoch,\"loss: \",total_loss)\n",
    "print(\"Average loss for each image : \", total_loss/len(train_set))"
   ]
  },
  {
   "cell_type": "code",
   "execution_count": null,
   "metadata": {
    "colab": {
     "base_uri": "https://localhost:8080/"
    },
    "id": "KenFtpQoN2Ib",
    "outputId": "b0b0a5be-ecde-47b2-f555-15e784cefad0"
   },
   "outputs": [
    {
     "name": "stdout",
     "output_type": "stream",
     "text": [
      "total reconstruction loss using SGD and 8 neurons :  156094.97482693195\n",
      "average loss  15.609497482693195\n"
     ]
    }
   ],
   "source": [
    "test_loss_sgd_8 = 0\n",
    "for data in test_loader_sgd:\n",
    "    images, labels = data[0].to(device),data[1].to(device)\n",
    "    outputs = sgd_8(images)\n",
    "    loss = ((outputs-images)**2).sum()\n",
    "    #loss = criterion(outputs,images)\n",
    "    test_loss_sgd_8 += loss.item()*images.shape[0]\n",
    "print(\"total reconstruction loss using SGD and 8 neurons : \", test_loss_sgd_8)\n",
    "print(\"average loss \", test_loss_sgd_8/len(test_set))"
   ]
  },
  {
   "cell_type": "code",
   "execution_count": null,
   "metadata": {
    "colab": {
     "base_uri": "https://localhost:8080/"
    },
    "id": "6qrHCA-6OI5T",
    "outputId": "593a24a1-05f4-48fb-f5cb-f0fc00cf4e2a"
   },
   "outputs": [
    {
     "name": "stdout",
     "output_type": "stream",
     "text": [
      "epoch:  0 loss:  209.70330344885588\n",
      "epoch:  1 loss:  117.33505623787642\n",
      "epoch:  2 loss:  105.9504716694355\n",
      "epoch:  3 loss:  98.19657637085766\n",
      "epoch:  4 loss:  90.79842579411343\n",
      "epoch:  5 loss:  85.5306830178015\n",
      "epoch:  6 loss:  82.4413750837557\n",
      "epoch:  7 loss:  79.7288607978262\n",
      "epoch:  8 loss:  75.76951962010935\n",
      "epoch:  9 loss:  73.49026231840253\n",
      "epoch:  10 loss:  72.09969548787922\n",
      "epoch:  11 loss:  70.84403528785333\n",
      "epoch:  12 loss:  69.94394815526903\n",
      "epoch:  13 loss:  69.1468305294402\n",
      "epoch:  14 loss:  68.45718533545732\n",
      "epoch:  15 loss:  67.80001174705103\n",
      "epoch:  16 loss:  67.08443069458008\n",
      "epoch:  17 loss:  66.69340139767155\n",
      "epoch:  18 loss:  64.27232484146953\n",
      "epoch:  19 loss:  63.46612144145183\n",
      "epoch:  20 loss:  62.919852160383016\n",
      "epoch:  21 loss:  62.40819588745944\n",
      "epoch:  22 loss:  62.198017480550334\n",
      "epoch:  23 loss:  61.70901079266332\n",
      "epoch:  24 loss:  61.56646842812188\n",
      "epoch:  25 loss:  61.397115593310446\n",
      "epoch:  26 loss:  60.930241839261726\n",
      "epoch:  27 loss:  60.68932223203592\n",
      "epoch:  28 loss:  60.29670911747962\n",
      "epoch:  29 loss:  59.5285206141416\n",
      "Average loss for each image :  0.0009921420102356933\n"
     ]
    }
   ],
   "source": [
    "sgd_32 = AE(32)\n",
    "sgd_32.to(device)\n",
    "\n",
    "optimizer_32 = optim.SGD(sgd_32.parameters(), lr=1)\n",
    "\n",
    "sgd_32_loss = []\n",
    "criterion = nn.MSELoss()\n",
    "for epoch in range(30):\n",
    "    total_loss = 0.0\n",
    "    for batch in train_loader_sgd:\n",
    "        images, labels = batch[0].to(device),batch[1].to(device)\n",
    "        #print(images.shape)\n",
    "        preds = sgd_32(images)\n",
    "        #print(preds.shape)\n",
    "        loss = criterion(preds,images)\n",
    "        \n",
    "        optimizer_32.zero_grad()\n",
    "        loss.backward()\n",
    "        optimizer_32.step()\n",
    "        \n",
    "        total_loss += loss.item()\n",
    "    sgd_32_loss.append(total_loss)\n",
    "    print(\"epoch: \",epoch,\"loss: \",total_loss)\n",
    "print(\"Average loss for each image : \", total_loss/len(train_set))"
   ]
  },
  {
   "cell_type": "code",
   "execution_count": null,
   "metadata": {
    "colab": {
     "base_uri": "https://localhost:8080/"
    },
    "id": "qAzImVEkOf4A",
    "outputId": "8d8df0d5-34c7-4ac4-cd8b-2308134952b1"
   },
   "outputs": [
    {
     "name": "stdout",
     "output_type": "stream",
     "text": [
      "total reconstruction loss using SGD and 32 neurons :  79147.48773831129\n",
      "average loss  7.914748773831129\n"
     ]
    }
   ],
   "source": [
    "test_loss_sgd_32 = 0\n",
    "for data in test_loader_sgd:\n",
    "    images, labels = data[0].to(device),data[1].to(device)\n",
    "    outputs = sgd_32(images)\n",
    "    loss = ((outputs-images)**2).sum()\n",
    "    #loss = criterion(outputs,images)\n",
    "    test_loss_sgd_32 += loss.item()*images.shape[0]\n",
    "print(\"total reconstruction loss using SGD and 32 neurons : \", test_loss_sgd_32)\n",
    "print(\"average loss \", test_loss_sgd_32/len(test_set))"
   ]
  },
  {
   "cell_type": "code",
   "execution_count": null,
   "metadata": {
    "colab": {
     "base_uri": "https://localhost:8080/"
    },
    "id": "RXfSGWB8Oufy",
    "outputId": "932cf738-5fa8-43e0-d64c-1211cf17004e"
   },
   "outputs": [
    {
     "name": "stdout",
     "output_type": "stream",
     "text": [
      "epoch:  0 loss:  221.0764884306118\n",
      "epoch:  1 loss:  112.26090134866536\n",
      "epoch:  2 loss:  92.63366095069796\n",
      "epoch:  3 loss:  80.96131339343265\n",
      "epoch:  4 loss:  73.4027621424757\n",
      "epoch:  5 loss:  68.62649787217379\n",
      "epoch:  6 loss:  65.99487343430519\n",
      "epoch:  7 loss:  63.974699115380645\n",
      "epoch:  8 loss:  62.20261520566419\n",
      "epoch:  9 loss:  60.38341276906431\n",
      "epoch:  10 loss:  59.1931411055848\n",
      "epoch:  11 loss:  58.05167404725216\n",
      "epoch:  12 loss:  57.13216901384294\n",
      "epoch:  13 loss:  56.39307567384094\n",
      "epoch:  14 loss:  55.725320416502655\n",
      "epoch:  15 loss:  55.1458750590682\n",
      "epoch:  16 loss:  54.54113844782114\n",
      "epoch:  17 loss:  54.128758929204196\n",
      "epoch:  18 loss:  53.62656418886036\n",
      "epoch:  19 loss:  53.29577594459988\n",
      "epoch:  20 loss:  52.89992044866085\n",
      "epoch:  21 loss:  52.55669915350154\n",
      "epoch:  22 loss:  52.26433048886247\n",
      "epoch:  23 loss:  52.00425956049003\n",
      "epoch:  24 loss:  51.76240149606019\n",
      "epoch:  25 loss:  51.53480523615144\n",
      "epoch:  26 loss:  51.28443654696457\n",
      "epoch:  27 loss:  51.08393807918765\n",
      "epoch:  28 loss:  50.891370931174606\n",
      "epoch:  29 loss:  50.719651371007785\n",
      "Average loss for each image :  0.0008453275228501297\n"
     ]
    }
   ],
   "source": [
    "sgd_128 = AE(128)\n",
    "sgd_128.to(device)\n",
    "\n",
    "optimizer_128 = optim.SGD(sgd_128.parameters(), lr=1)\n",
    "\n",
    "sgd_128_loss = []\n",
    "criterion = nn.MSELoss()\n",
    "for epoch in range(30):\n",
    "    total_loss = 0.0\n",
    "    for batch in train_loader_sgd:\n",
    "        images, labels = batch[0].to(device),batch[1].to(device)\n",
    "        #print(images.shape)\n",
    "        preds = sgd_128(images)\n",
    "        #print(preds.shape)\n",
    "        loss = criterion(preds,images)\n",
    "        \n",
    "        optimizer_128.zero_grad()\n",
    "        loss.backward()\n",
    "        optimizer_128.step()\n",
    "        \n",
    "        total_loss += loss.item()\n",
    "    sgd_128_loss.append(total_loss)\n",
    "    print(\"epoch: \",epoch,\"loss: \",total_loss)\n",
    "print(\"Average loss for each image : \", total_loss/len(train_set))"
   ]
  },
  {
   "cell_type": "code",
   "execution_count": null,
   "metadata": {
    "colab": {
     "base_uri": "https://localhost:8080/"
    },
    "id": "p-cGt1wtPKgP",
    "outputId": "5ba4f5e3-08d1-419b-8b78-69de601ff420"
   },
   "outputs": [
    {
     "name": "stdout",
     "output_type": "stream",
     "text": [
      "total reconstruction loss using SGD and 128 neurons :  66904.97422200441\n",
      "average loss  6.690497422200441\n"
     ]
    }
   ],
   "source": [
    "test_loss_sgd_128 = 0\n",
    "for data in test_loader_sgd:\n",
    "    images, labels = data[0].to(device),data[1].to(device)\n",
    "    outputs = sgd_128(images)\n",
    "    loss = ((outputs-images)**2).sum()\n",
    "    #loss = criterion(outputs,images)\n",
    "    test_loss_sgd_128 += loss.item()*images.shape[0]\n",
    "print(\"total reconstruction loss using SGD and 128 neurons : \", test_loss_sgd_128)\n",
    "print(\"average loss \", test_loss_sgd_128/len(test_set))"
   ]
  },
  {
   "cell_type": "code",
   "execution_count": null,
   "metadata": {
    "colab": {
     "base_uri": "https://localhost:8080/",
     "height": 312
    },
    "id": "ASJDYL5PPwa7",
    "outputId": "1906aa8f-6218-4466-a560-35b520a6eca1"
   },
   "outputs": [
    {
     "data": {
      "text/plain": [
       "Text(0, 0.5, 'MSE loss on all test data')"
      ]
     },
     "execution_count": 304,
     "metadata": {
      "tags": []
     },
     "output_type": "execute_result"
    },
    {
     "data": {
      "image/png": "[encoded data removed]",
      "text/plain": [
       "<Figure size 432x288 with 1 Axes>"
      ]
     },
     "metadata": {
      "needs_background": "light",
      "tags": []
     },
     "output_type": "display_data"
    }
   ],
   "source": [
    "plt.scatter([8,32,128],[test_loss_sgd_8/len(test_set),test_loss_sgd_32/len(test_set),test_loss_sgd_128/len(test_set)])\n",
    "plt.title(\"SGD\")\n",
    "plt.xlabel(\"Number of hidden neurons\")\n",
    "plt.ylabel(\"MSE loss on all test data\")"
   ]
  },
  {
   "cell_type": "code",
   "execution_count": null,
   "metadata": {
    "colab": {
     "base_uri": "https://localhost:8080/",
     "height": 295
    },
    "id": "9lPNnL35P-04",
    "outputId": "019ac07d-f0ef-4bd7-fdfa-fdbbc62ef30d"
   },
   "outputs": [
    {
     "name": "stderr",
     "output_type": "stream",
     "text": [
      "Clipping input data to the valid range for imshow with RGB data ([0..1] for floats or [0..255] for integers).\n"
     ]
    },
    {
     "data": {
      "text/plain": [
       "<matplotlib.image.AxesImage at 0x7fd2cabc13d0>"
      ]
     },
     "execution_count": 314,
     "metadata": {
      "tags": []
     },
     "output_type": "execute_result"
    },
    {
     "data": {
      "image/png": "[encoded data removed]",
      "text/plain": [
       "<Figure size 1080x1080 with 1 Axes>"
      ]
     },
     "metadata": {
      "needs_background": "light",
      "tags": []
     },
     "output_type": "display_data"
    },
    {
     "data": {
      "image/png": "[encoded data removed]",
      "text/plain": [
       "<Figure size 1080x1080 with 1 Axes>"
      ]
     },
     "metadata": {
      "needs_background": "light",
      "tags": []
     },
     "output_type": "display_data"
    }
   ],
   "source": [
    "images,labels = next(iter(train_loader_sgd))\n",
    "images = images[0:10]\n",
    "grid = torchvision.utils.make_grid(images.reshape(10,1,28,28), nrow=10)\n",
    "\n",
    "plt.figure(figsize=(15,15))\n",
    "plt.imshow(np.transpose(grid,(1,2,0)))\n",
    "\n",
    "images = images.to(device)\n",
    "outputs = sgd_128(images)\n",
    "outputs = outputs.to('cpu')\n",
    "\n",
    "grid_output = torchvision.utils.make_grid(outputs.reshape(10,1,28,28), nrow=10)\n",
    "\n",
    "plt.figure(figsize=(15,15))\n",
    "plt.imshow(np.transpose(grid_output,(1,2,0)))"
   ]
  },
  {
   "cell_type": "markdown",
   "metadata": {
    "id": "QDaJalgEZdfY"
   },
   "source": [
    "# PCA reconstruction"
   ]
  },
  {
   "cell_type": "code",
   "execution_count": 28,
   "metadata": {
    "id": "i1JPgfP9eh2u"
   },
   "outputs": [],
   "source": [
    "from keras.datasets import mnist\n",
    "from sklearn.decomposition import PCA"
   ]
  },
  {
   "cell_type": "code",
   "execution_count": 46,
   "metadata": {
    "id": "DPvVIXUygDXS"
   },
   "outputs": [],
   "source": [
    "(train_X, train_y), (test_X, test_y) = mnist.load_data()"
   ]
  },
  {
   "cell_type": "code",
   "execution_count": 47,
   "metadata": {
    "id": "H-KNfEr9BhOT"
   },
   "outputs": [],
   "source": [
    "train_X = train_X.astype('float32')\n",
    "train_X/=255\n",
    "test_X = test_X.astype('float32')\n",
    "test_X/=255"
   ]
  },
  {
   "cell_type": "code",
   "execution_count": 71,
   "metadata": {
    "colab": {
     "base_uri": "https://localhost:8080/"
    },
    "id": "epPyz6r_gLJL",
    "outputId": "d91981fa-203c-4900-ae4c-6bb52bc25efe"
   },
   "outputs": [
    {
     "name": "stdout",
     "output_type": "stream",
     "text": [
      "pca loss with 8 :  29.226255\n"
     ]
    }
   ],
   "source": [
    "pca_8 = PCA(n_components=8)\n",
    "X_test_pca_8 = pca_8.fit_transform(test_X_reshaped)\n",
    "proj_8 = pca_8.inverse_transform(X_test_pca_8)\n",
    "pca_loss_8 = ((test_X_reshaped - proj_8) ** 2)\n",
    "pca_loss_8 = np.sum(pca_loss_8,axis=1).mean()\n",
    "print(\"pca loss with 8 : \",pca_loss_8)"
   ]
  },
  {
   "cell_type": "code",
   "execution_count": 66,
   "metadata": {
    "colab": {
     "base_uri": "https://localhost:8080/"
    },
    "id": "V0qeTC-qhOWT",
    "outputId": "6b24391a-18ca-4d86-c659-e71b8fcb4be6"
   },
   "outputs": [
    {
     "name": "stdout",
     "output_type": "stream",
     "text": [
      "pca loss with 32 :  13.073651\n"
     ]
    }
   ],
   "source": [
    "pca_32 = PCA(n_components=32)\n",
    "X_test_pca_32 = pca_32.fit_transform(test_X_reshaped)\n",
    "proj_32 = pca_32.inverse_transform(X_test_pca_32)\n",
    "pca_loss_32 = ((test_X_reshaped - proj_32) ** 2)\n",
    "pca_loss_32 = np.sum(pca_loss_32,axis=1).mean()\n",
    "print(\"pca loss with 32 : \",pca_loss_32)"
   ]
  },
  {
   "cell_type": "code",
   "execution_count": 67,
   "metadata": {
    "colab": {
     "base_uri": "https://localhost:8080/"
    },
    "id": "XTq8e0PZhUy0",
    "outputId": "83e2c628-03d6-4704-b429-e05506b2653d"
   },
   "outputs": [
    {
     "name": "stdout",
     "output_type": "stream",
     "text": [
      "pca loss with 128 :  3.232734\n"
     ]
    }
   ],
   "source": [
    "pca_128 = PCA(n_components=128)\n",
    "X_test_pca_128 = pca_128.fit_transform(test_X_reshaped)\n",
    "proj_128 = pca_128.inverse_transform(X_test_pca_128)\n",
    "pca_loss_128 = ((test_X_reshaped - proj_128) ** 2)\n",
    "pca_loss_128 = np.sum(pca_loss_128,axis=1).mean()\n",
    "print(\"pca loss with 128 : \",pca_loss_128)"
   ]
  },
  {
   "cell_type": "code",
   "execution_count": null,
   "metadata": {
    "colab": {
     "base_uri": "https://localhost:8080/"
    },
    "id": "X7p3YG5ehegq",
    "outputId": "354d0285-6f77-44c4-d6f6-c6f39c3923f4"
   },
   "outputs": [
    {
     "name": "stdout",
     "output_type": "stream",
     "text": [
      "+---------------------------+--------------------+--------------------+--------------------+--------------------+--------------------+\n",
      "| Sum of MSE of 10,000 test |       Adam         |      RMSProp       |    SGD Momentum    |        SGD         |        PCA         |\n",
      "+---------------------------+--------------------+--------------------+--------------------+--------------------+--------------------+\n",
      "|             8             | 22.144848379075526 | 21.86954240834713  | 38.38530274963379  | 15.609497482693195 | 2424.0272316051687 |\n",
      "|             32            | 14.11356001933813  | 10.847315914863348 | 31.596057715177537 | 7.914748773831129  | 1084.3046719460535 |\n",
      "|            128            | 12.67792068155408  | 8.643251908928155  | 28.677601291894913 | 6.690497422200441  | 267.84070961454535 |\n",
      "+---------------------------+--------------------+--------------------+--------------------+--------------------+--------------------+\n"
     ]
    }
   ],
   "source": [
    "from prettytable import PrettyTable\n",
    "t = PrettyTable(['Sum of MSE of 10,000 test','Adam ', 'RMSProp ','SGD Momentum','SGD','PCA'])\n",
    "t.add_row(['8',test_loss_adam_8/len(test_set),test_loss_rms_8/len(test_set),test_loss_sgd_mom_8/len(test_set),test_loss_sgd_8/len(test_set),pca_loss_8 ])\n",
    "t.add_row(['32', test_loss_adam_32/len(test_set),test_loss_rms_32/len(test_set),test_loss_sgd_mom_32/len(test_set),test_loss_sgd_32/len(test_set),pca_loss_32])\n",
    "t.add_row(['128', test_loss_adam_128/len(test_set),test_loss_rms_128/len(test_set),test_loss_sgd_mom_128/len(test_set),test_loss_sgd_128/len(test_set),pca_loss_128])\n",
    "print(t)"
   ]
  },
  {
   "cell_type": "markdown",
   "metadata": {
    "id": "MrlooeqiciVP"
   },
   "source": [
    "# Ignore PCA colum above"
   ]
  },
  {
   "cell_type": "code",
   "execution_count": 68,
   "metadata": {
    "colab": {
     "base_uri": "https://localhost:8080/"
    },
    "id": "mBJLpzuFcpFP",
    "outputId": "2cf9353f-34e8-4aea-fb7b-899339b34f33"
   },
   "outputs": [
    {
     "name": "stdout",
     "output_type": "stream",
     "text": [
      "pca with 8 dimension :  29.226255\n",
      "pca with 32 dimension :  13.073651\n",
      "pca with 128 dimension :  3.232734\n"
     ]
    }
   ],
   "source": [
    "print( \"pca with 8 dimension : \",pca_loss_8)\n",
    "print( \"pca with 32 dimension : \",pca_loss_32)\n",
    "print( \"pca with 128 dimension : \",pca_loss_128)"
   ]
  }
 ],
 "metadata": {
  "accelerator": "GPU",
  "colab": {
   "collapsed_sections": [],
   "name": "Ass3Q2.ipynb",
   "provenance": []
  },
  "kernelspec": {
   "display_name": "Python 3",
   "language": "python",
   "name": "python3"
  },
  "language_info": {
   "codemirror_mode": {
    "name": "ipython",
    "version": 3
   },
   "file_extension": ".py",
   "mimetype": "text/x-python",
   "name": "python",
   "nbconvert_exporter": "python",
   "pygments_lexer": "ipython3",
   "version": "3.7.0"
  },
  "widgets": {
   "application/vnd.jupyter.widget-state+json": {
    "0569b50d4ba94a36aed6822f43d3bab5": {
     "model_module": "@jupyter-widgets/controls",
     "model_name": "HBoxModel",
     "state": {
      "_dom_classes": [],
      "_model_module": "@jupyter-widgets/controls",
      "_model_module_version": "1.5.0",
      "_model_name": "HBoxModel",
      "_view_count": null,
      "_view_module": "@jupyter-widgets/controls",
      "_view_module_version": "1.5.0",
      "_view_name": "HBoxView",
      "box_style": "",
      "children": [
       "IPY_MODEL_d6e6ec05da5f41c0bbf4db8d3ce8e56c",
       "IPY_MODEL_da1ebfdd3c504cda8df2e46afcaa284e"
      ],
      "layout": "IPY_MODEL_74b2e430e93f45759cb9132e8a3b3d6c"
     }
    },
    "080866a0ab6840dea830f47422840bad": {
     "model_module": "@jupyter-widgets/controls",
     "model_name": "ProgressStyleModel",
     "state": {
      "_model_module": "@jupyter-widgets/controls",
      "_model_module_version": "1.5.0",
      "_model_name": "ProgressStyleModel",
      "_view_count": null,
      "_view_module": "@jupyter-widgets/base",
      "_view_module_version": "1.2.0",
      "_view_name": "StyleView",
      "bar_color": null,
      "description_width": "initial"
     }
    },
    "0d13fa345c0e46aabda7a845fbdf83a7": {
     "model_module": "@jupyter-widgets/controls",
     "model_name": "HTMLModel",
     "state": {
      "_dom_classes": [],
      "_model_module": "@jupyter-widgets/controls",
      "_model_module_version": "1.5.0",
      "_model_name": "HTMLModel",
      "_view_count": null,
      "_view_module": "@jupyter-widgets/controls",
      "_view_module_version": "1.5.0",
      "_view_name": "HTMLView",
      "description": "",
      "description_tooltip": null,
      "layout": "IPY_MODEL_25158aa5442d42359456585363a96952",
      "placeholder": "​",
      "style": "IPY_MODEL_8b037ed8612649f5bd36a982728a1ee6",
      "value": " 1649664/? [00:00&lt;00:00, 4000192.12it/s]"
     }
    },
    "14391cc3d0c3450bb8677255a76996d3": {
     "model_module": "@jupyter-widgets/controls",
     "model_name": "ProgressStyleModel",
     "state": {
      "_model_module": "@jupyter-widgets/controls",
      "_model_module_version": "1.5.0",
      "_model_name": "ProgressStyleModel",
      "_view_count": null,
      "_view_module": "@jupyter-widgets/base",
      "_view_module_version": "1.2.0",
      "_view_name": "StyleView",
      "bar_color": null,
      "description_width": "initial"
     }
    },
    "190aa556f9b34ef3976b931cb5788ab9": {
     "model_module": "@jupyter-widgets/base",
     "model_name": "LayoutModel",
     "state": {
      "_model_module": "@jupyter-widgets/base",
      "_model_module_version": "1.2.0",
      "_model_name": "LayoutModel",
      "_view_count": null,
      "_view_module": "@jupyter-widgets/base",
      "_view_module_version": "1.2.0",
      "_view_name": "LayoutView",
      "align_content": null,
      "align_items": null,
      "align_self": null,
      "border": null,
      "bottom": null,
      "display": null,
      "flex": null,
      "flex_flow": null,
      "grid_area": null,
      "grid_auto_columns": null,
      "grid_auto_flow": null,
      "grid_auto_rows": null,
      "grid_column": null,
      "grid_gap": null,
      "grid_row": null,
      "grid_template_areas": null,
      "grid_template_columns": null,
      "grid_template_rows": null,
      "height": null,
      "justify_content": null,
      "justify_items": null,
      "left": null,
      "margin": null,
      "max_height": null,
      "max_width": null,
      "min_height": null,
      "min_width": null,
      "object_fit": null,
      "object_position": null,
      "order": null,
      "overflow": null,
      "overflow_x": null,
      "overflow_y": null,
      "padding": null,
      "right": null,
      "top": null,
      "visibility": null,
      "width": null
     }
    },
    "195224e0451a4c5aa42fa3be12015988": {
     "model_module": "@jupyter-widgets/controls",
     "model_name": "DescriptionStyleModel",
     "state": {
      "_model_module": "@jupyter-widgets/controls",
      "_model_module_version": "1.5.0",
      "_model_name": "DescriptionStyleModel",
      "_view_count": null,
      "_view_module": "@jupyter-widgets/base",
      "_view_module_version": "1.2.0",
      "_view_name": "StyleView",
      "description_width": ""
     }
    },
    "25158aa5442d42359456585363a96952": {
     "model_module": "@jupyter-widgets/base",
     "model_name": "LayoutModel",
     "state": {
      "_model_module": "@jupyter-widgets/base",
      "_model_module_version": "1.2.0",
      "_model_name": "LayoutModel",
      "_view_count": null,
      "_view_module": "@jupyter-widgets/base",
      "_view_module_version": "1.2.0",
      "_view_name": "LayoutView",
      "align_content": null,
      "align_items": null,
      "align_self": null,
      "border": null,
      "bottom": null,
      "display": null,
      "flex": null,
      "flex_flow": null,
      "grid_area": null,
      "grid_auto_columns": null,
      "grid_auto_flow": null,
      "grid_auto_rows": null,
      "grid_column": null,
      "grid_gap": null,
      "grid_row": null,
      "grid_template_areas": null,
      "grid_template_columns": null,
      "grid_template_rows": null,
      "height": null,
      "justify_content": null,
      "justify_items": null,
      "left": null,
      "margin": null,
      "max_height": null,
      "max_width": null,
      "min_height": null,
      "min_width": null,
      "object_fit": null,
      "object_position": null,
      "order": null,
      "overflow": null,
      "overflow_x": null,
      "overflow_y": null,
      "padding": null,
      "right": null,
      "top": null,
      "visibility": null,
      "width": null
     }
    },
    "264857990e1c40da9728ed6702cc4fb3": {
     "model_module": "@jupyter-widgets/controls",
     "model_name": "FloatProgressModel",
     "state": {
      "_dom_classes": [],
      "_model_module": "@jupyter-widgets/controls",
      "_model_module_version": "1.5.0",
      "_model_name": "FloatProgressModel",
      "_view_count": null,
      "_view_module": "@jupyter-widgets/controls",
      "_view_module_version": "1.5.0",
      "_view_name": "ProgressView",
      "bar_style": "success",
      "description": "",
      "description_tooltip": null,
      "layout": "IPY_MODEL_e03231243fa947a38a26e64cf1d05555",
      "max": 1648877,
      "min": 0,
      "orientation": "horizontal",
      "style": "IPY_MODEL_14391cc3d0c3450bb8677255a76996d3",
      "value": 1648877
     }
    },
    "32f54c1762604b9bb25ba7a4810a7b31": {
     "model_module": "@jupyter-widgets/controls",
     "model_name": "DescriptionStyleModel",
     "state": {
      "_model_module": "@jupyter-widgets/controls",
      "_model_module_version": "1.5.0",
      "_model_name": "DescriptionStyleModel",
      "_view_count": null,
      "_view_module": "@jupyter-widgets/base",
      "_view_module_version": "1.2.0",
      "_view_name": "StyleView",
      "description_width": ""
     }
    },
    "40e5bf291a2847fbb4b0298848a7b3b5": {
     "model_module": "@jupyter-widgets/controls",
     "model_name": "HBoxModel",
     "state": {
      "_dom_classes": [],
      "_model_module": "@jupyter-widgets/controls",
      "_model_module_version": "1.5.0",
      "_model_name": "HBoxModel",
      "_view_count": null,
      "_view_module": "@jupyter-widgets/controls",
      "_view_module_version": "1.5.0",
      "_view_name": "HBoxView",
      "box_style": "",
      "children": [
       "IPY_MODEL_264857990e1c40da9728ed6702cc4fb3",
       "IPY_MODEL_0d13fa345c0e46aabda7a845fbdf83a7"
      ],
      "layout": "IPY_MODEL_cc90428530a24efdb2ee09889fa4d219"
     }
    },
    "4347228814274c3191445773cf631ecc": {
     "model_module": "@jupyter-widgets/controls",
     "model_name": "HTMLModel",
     "state": {
      "_dom_classes": [],
      "_model_module": "@jupyter-widgets/controls",
      "_model_module_version": "1.5.0",
      "_model_name": "HTMLModel",
      "_view_count": null,
      "_view_module": "@jupyter-widgets/controls",
      "_view_module_version": "1.5.0",
      "_view_name": "HTMLView",
      "description": "",
      "description_tooltip": null,
      "layout": "IPY_MODEL_c86e2694af7a4de091f69d79f84b6554",
      "placeholder": "​",
      "style": "IPY_MODEL_32f54c1762604b9bb25ba7a4810a7b31",
      "value": " 5120/? [05:30&lt;00:00, 15.51it/s]"
     }
    },
    "5ac9754d93db4b4aad1871f04999bf32": {
     "model_module": "@jupyter-widgets/controls",
     "model_name": "DescriptionStyleModel",
     "state": {
      "_model_module": "@jupyter-widgets/controls",
      "_model_module_version": "1.5.0",
      "_model_name": "DescriptionStyleModel",
      "_view_count": null,
      "_view_module": "@jupyter-widgets/base",
      "_view_module_version": "1.2.0",
      "_view_name": "StyleView",
      "description_width": ""
     }
    },
    "649bb95a75a84a09905230e99fe4554c": {
     "model_module": "@jupyter-widgets/base",
     "model_name": "LayoutModel",
     "state": {
      "_model_module": "@jupyter-widgets/base",
      "_model_module_version": "1.2.0",
      "_model_name": "LayoutModel",
      "_view_count": null,
      "_view_module": "@jupyter-widgets/base",
      "_view_module_version": "1.2.0",
      "_view_name": "LayoutView",
      "align_content": null,
      "align_items": null,
      "align_self": null,
      "border": null,
      "bottom": null,
      "display": null,
      "flex": null,
      "flex_flow": null,
      "grid_area": null,
      "grid_auto_columns": null,
      "grid_auto_flow": null,
      "grid_auto_rows": null,
      "grid_column": null,
      "grid_gap": null,
      "grid_row": null,
      "grid_template_areas": null,
      "grid_template_columns": null,
      "grid_template_rows": null,
      "height": null,
      "justify_content": null,
      "justify_items": null,
      "left": null,
      "margin": null,
      "max_height": null,
      "max_width": null,
      "min_height": null,
      "min_width": null,
      "object_fit": null,
      "object_position": null,
      "order": null,
      "overflow": null,
      "overflow_x": null,
      "overflow_y": null,
      "padding": null,
      "right": null,
      "top": null,
      "visibility": null,
      "width": null
     }
    },
    "74b2e430e93f45759cb9132e8a3b3d6c": {
     "model_module": "@jupyter-widgets/base",
     "model_name": "LayoutModel",
     "state": {
      "_model_module": "@jupyter-widgets/base",
      "_model_module_version": "1.2.0",
      "_model_name": "LayoutModel",
      "_view_count": null,
      "_view_module": "@jupyter-widgets/base",
      "_view_module_version": "1.2.0",
      "_view_name": "LayoutView",
      "align_content": null,
      "align_items": null,
      "align_self": null,
      "border": null,
      "bottom": null,
      "display": null,
      "flex": null,
      "flex_flow": null,
      "grid_area": null,
      "grid_auto_columns": null,
      "grid_auto_flow": null,
      "grid_auto_rows": null,
      "grid_column": null,
      "grid_gap": null,
      "grid_row": null,
      "grid_template_areas": null,
      "grid_template_columns": null,
      "grid_template_rows": null,
      "height": null,
      "justify_content": null,
      "justify_items": null,
      "left": null,
      "margin": null,
      "max_height": null,
      "max_width": null,
      "min_height": null,
      "min_width": null,
      "object_fit": null,
      "object_position": null,
      "order": null,
      "overflow": null,
      "overflow_x": null,
      "overflow_y": null,
      "padding": null,
      "right": null,
      "top": null,
      "visibility": null,
      "width": null
     }
    },
    "80567b7d516448e1ac8305c3af36cc00": {
     "model_module": "@jupyter-widgets/controls",
     "model_name": "HBoxModel",
     "state": {
      "_dom_classes": [],
      "_model_module": "@jupyter-widgets/controls",
      "_model_module_version": "1.5.0",
      "_model_name": "HBoxModel",
      "_view_count": null,
      "_view_module": "@jupyter-widgets/controls",
      "_view_module_version": "1.5.0",
      "_view_name": "HBoxView",
      "box_style": "",
      "children": [
       "IPY_MODEL_e8259cc6bb2c47179617dd6560ca4cb6",
       "IPY_MODEL_a19d3c7ae6c5483da118eb2d55cf108f"
      ],
      "layout": "IPY_MODEL_190aa556f9b34ef3976b931cb5788ab9"
     }
    },
    "84ae20c96fbc4256900ad7ce469c310a": {
     "model_module": "@jupyter-widgets/base",
     "model_name": "LayoutModel",
     "state": {
      "_model_module": "@jupyter-widgets/base",
      "_model_module_version": "1.2.0",
      "_model_name": "LayoutModel",
      "_view_count": null,
      "_view_module": "@jupyter-widgets/base",
      "_view_module_version": "1.2.0",
      "_view_name": "LayoutView",
      "align_content": null,
      "align_items": null,
      "align_self": null,
      "border": null,
      "bottom": null,
      "display": null,
      "flex": null,
      "flex_flow": null,
      "grid_area": null,
      "grid_auto_columns": null,
      "grid_auto_flow": null,
      "grid_auto_rows": null,
      "grid_column": null,
      "grid_gap": null,
      "grid_row": null,
      "grid_template_areas": null,
      "grid_template_columns": null,
      "grid_template_rows": null,
      "height": null,
      "justify_content": null,
      "justify_items": null,
      "left": null,
      "margin": null,
      "max_height": null,
      "max_width": null,
      "min_height": null,
      "min_width": null,
      "object_fit": null,
      "object_position": null,
      "order": null,
      "overflow": null,
      "overflow_x": null,
      "overflow_y": null,
      "padding": null,
      "right": null,
      "top": null,
      "visibility": null,
      "width": null
     }
    },
    "8b037ed8612649f5bd36a982728a1ee6": {
     "model_module": "@jupyter-widgets/controls",
     "model_name": "DescriptionStyleModel",
     "state": {
      "_model_module": "@jupyter-widgets/controls",
      "_model_module_version": "1.5.0",
      "_model_name": "DescriptionStyleModel",
      "_view_count": null,
      "_view_module": "@jupyter-widgets/base",
      "_view_module_version": "1.2.0",
      "_view_name": "StyleView",
      "description_width": ""
     }
    },
    "a19d3c7ae6c5483da118eb2d55cf108f": {
     "model_module": "@jupyter-widgets/controls",
     "model_name": "HTMLModel",
     "state": {
      "_dom_classes": [],
      "_model_module": "@jupyter-widgets/controls",
      "_model_module_version": "1.5.0",
      "_model_name": "HTMLModel",
      "_view_count": null,
      "_view_module": "@jupyter-widgets/controls",
      "_view_module_version": "1.5.0",
      "_view_name": "HTMLView",
      "description": "",
      "description_tooltip": null,
      "layout": "IPY_MODEL_84ae20c96fbc4256900ad7ce469c310a",
      "placeholder": "​",
      "style": "IPY_MODEL_195224e0451a4c5aa42fa3be12015988",
      "value": " 29696/? [00:00&lt;00:00, 44168.15it/s]"
     }
    },
    "addd92028977492e8fcb4af5b7953d2a": {
     "model_module": "@jupyter-widgets/controls",
     "model_name": "HBoxModel",
     "state": {
      "_dom_classes": [],
      "_model_module": "@jupyter-widgets/controls",
      "_model_module_version": "1.5.0",
      "_model_name": "HBoxModel",
      "_view_count": null,
      "_view_module": "@jupyter-widgets/controls",
      "_view_module_version": "1.5.0",
      "_view_name": "HBoxView",
      "box_style": "",
      "children": [
       "IPY_MODEL_f5e1b9f10ed44ab581c6fa4d654f1ec0",
       "IPY_MODEL_4347228814274c3191445773cf631ecc"
      ],
      "layout": "IPY_MODEL_e4267b8c5c9b48a9b946cc3317595123"
     }
    },
    "c86e2694af7a4de091f69d79f84b6554": {
     "model_module": "@jupyter-widgets/base",
     "model_name": "LayoutModel",
     "state": {
      "_model_module": "@jupyter-widgets/base",
      "_model_module_version": "1.2.0",
      "_model_name": "LayoutModel",
      "_view_count": null,
      "_view_module": "@jupyter-widgets/base",
      "_view_module_version": "1.2.0",
      "_view_name": "LayoutView",
      "align_content": null,
      "align_items": null,
      "align_self": null,
      "border": null,
      "bottom": null,
      "display": null,
      "flex": null,
      "flex_flow": null,
      "grid_area": null,
      "grid_auto_columns": null,
      "grid_auto_flow": null,
      "grid_auto_rows": null,
      "grid_column": null,
      "grid_gap": null,
      "grid_row": null,
      "grid_template_areas": null,
      "grid_template_columns": null,
      "grid_template_rows": null,
      "height": null,
      "justify_content": null,
      "justify_items": null,
      "left": null,
      "margin": null,
      "max_height": null,
      "max_width": null,
      "min_height": null,
      "min_width": null,
      "object_fit": null,
      "object_position": null,
      "order": null,
      "overflow": null,
      "overflow_x": null,
      "overflow_y": null,
      "padding": null,
      "right": null,
      "top": null,
      "visibility": null,
      "width": null
     }
    },
    "cc90428530a24efdb2ee09889fa4d219": {
     "model_module": "@jupyter-widgets/base",
     "model_name": "LayoutModel",
     "state": {
      "_model_module": "@jupyter-widgets/base",
      "_model_module_version": "1.2.0",
      "_model_name": "LayoutModel",
      "_view_count": null,
      "_view_module": "@jupyter-widgets/base",
      "_view_module_version": "1.2.0",
      "_view_name": "LayoutView",
      "align_content": null,
      "align_items": null,
      "align_self": null,
      "border": null,
      "bottom": null,
      "display": null,
      "flex": null,
      "flex_flow": null,
      "grid_area": null,
      "grid_auto_columns": null,
      "grid_auto_flow": null,
      "grid_auto_rows": null,
      "grid_column": null,
      "grid_gap": null,
      "grid_row": null,
      "grid_template_areas": null,
      "grid_template_columns": null,
      "grid_template_rows": null,
      "height": null,
      "justify_content": null,
      "justify_items": null,
      "left": null,
      "margin": null,
      "max_height": null,
      "max_width": null,
      "min_height": null,
      "min_width": null,
      "object_fit": null,
      "object_position": null,
      "order": null,
      "overflow": null,
      "overflow_x": null,
      "overflow_y": null,
      "padding": null,
      "right": null,
      "top": null,
      "visibility": null,
      "width": null
     }
    },
    "cf80ca8a0452462b88b6eeea2821b334": {
     "model_module": "@jupyter-widgets/controls",
     "model_name": "ProgressStyleModel",
     "state": {
      "_model_module": "@jupyter-widgets/controls",
      "_model_module_version": "1.5.0",
      "_model_name": "ProgressStyleModel",
      "_view_count": null,
      "_view_module": "@jupyter-widgets/base",
      "_view_module_version": "1.2.0",
      "_view_name": "StyleView",
      "bar_color": null,
      "description_width": "initial"
     }
    },
    "d1c94b39a53a4dcb8a764ffb494b4a94": {
     "model_module": "@jupyter-widgets/base",
     "model_name": "LayoutModel",
     "state": {
      "_model_module": "@jupyter-widgets/base",
      "_model_module_version": "1.2.0",
      "_model_name": "LayoutModel",
      "_view_count": null,
      "_view_module": "@jupyter-widgets/base",
      "_view_module_version": "1.2.0",
      "_view_name": "LayoutView",
      "align_content": null,
      "align_items": null,
      "align_self": null,
      "border": null,
      "bottom": null,
      "display": null,
      "flex": null,
      "flex_flow": null,
      "grid_area": null,
      "grid_auto_columns": null,
      "grid_auto_flow": null,
      "grid_auto_rows": null,
      "grid_column": null,
      "grid_gap": null,
      "grid_row": null,
      "grid_template_areas": null,
      "grid_template_columns": null,
      "grid_template_rows": null,
      "height": null,
      "justify_content": null,
      "justify_items": null,
      "left": null,
      "margin": null,
      "max_height": null,
      "max_width": null,
      "min_height": null,
      "min_width": null,
      "object_fit": null,
      "object_position": null,
      "order": null,
      "overflow": null,
      "overflow_x": null,
      "overflow_y": null,
      "padding": null,
      "right": null,
      "top": null,
      "visibility": null,
      "width": null
     }
    },
    "d6e6ec05da5f41c0bbf4db8d3ce8e56c": {
     "model_module": "@jupyter-widgets/controls",
     "model_name": "FloatProgressModel",
     "state": {
      "_dom_classes": [],
      "_model_module": "@jupyter-widgets/controls",
      "_model_module_version": "1.5.0",
      "_model_name": "FloatProgressModel",
      "_view_count": null,
      "_view_module": "@jupyter-widgets/controls",
      "_view_module_version": "1.5.0",
      "_view_name": "ProgressView",
      "bar_style": "success",
      "description": "",
      "description_tooltip": null,
      "layout": "IPY_MODEL_f0bcf088564746dca8426dba16a419ee",
      "max": 9912422,
      "min": 0,
      "orientation": "horizontal",
      "style": "IPY_MODEL_e026187142334f92adbe965ea2a4cc24",
      "value": 9912422
     }
    },
    "da1ebfdd3c504cda8df2e46afcaa284e": {
     "model_module": "@jupyter-widgets/controls",
     "model_name": "HTMLModel",
     "state": {
      "_dom_classes": [],
      "_model_module": "@jupyter-widgets/controls",
      "_model_module_version": "1.5.0",
      "_model_name": "HTMLModel",
      "_view_count": null,
      "_view_module": "@jupyter-widgets/controls",
      "_view_module_version": "1.5.0",
      "_view_name": "HTMLView",
      "description": "",
      "description_tooltip": null,
      "layout": "IPY_MODEL_649bb95a75a84a09905230e99fe4554c",
      "placeholder": "​",
      "style": "IPY_MODEL_5ac9754d93db4b4aad1871f04999bf32",
      "value": " 9913344/? [05:31&lt;00:00, 29892.16it/s]"
     }
    },
    "e026187142334f92adbe965ea2a4cc24": {
     "model_module": "@jupyter-widgets/controls",
     "model_name": "ProgressStyleModel",
     "state": {
      "_model_module": "@jupyter-widgets/controls",
      "_model_module_version": "1.5.0",
      "_model_name": "ProgressStyleModel",
      "_view_count": null,
      "_view_module": "@jupyter-widgets/base",
      "_view_module_version": "1.2.0",
      "_view_name": "StyleView",
      "bar_color": null,
      "description_width": "initial"
     }
    },
    "e03231243fa947a38a26e64cf1d05555": {
     "model_module": "@jupyter-widgets/base",
     "model_name": "LayoutModel",
     "state": {
      "_model_module": "@jupyter-widgets/base",
      "_model_module_version": "1.2.0",
      "_model_name": "LayoutModel",
      "_view_count": null,
      "_view_module": "@jupyter-widgets/base",
      "_view_module_version": "1.2.0",
      "_view_name": "LayoutView",
      "align_content": null,
      "align_items": null,
      "align_self": null,
      "border": null,
      "bottom": null,
      "display": null,
      "flex": null,
      "flex_flow": null,
      "grid_area": null,
      "grid_auto_columns": null,
      "grid_auto_flow": null,
      "grid_auto_rows": null,
      "grid_column": null,
      "grid_gap": null,
      "grid_row": null,
      "grid_template_areas": null,
      "grid_template_columns": null,
      "grid_template_rows": null,
      "height": null,
      "justify_content": null,
      "justify_items": null,
      "left": null,
      "margin": null,
      "max_height": null,
      "max_width": null,
      "min_height": null,
      "min_width": null,
      "object_fit": null,
      "object_position": null,
      "order": null,
      "overflow": null,
      "overflow_x": null,
      "overflow_y": null,
      "padding": null,
      "right": null,
      "top": null,
      "visibility": null,
      "width": null
     }
    },
    "e4267b8c5c9b48a9b946cc3317595123": {
     "model_module": "@jupyter-widgets/base",
     "model_name": "LayoutModel",
     "state": {
      "_model_module": "@jupyter-widgets/base",
      "_model_module_version": "1.2.0",
      "_model_name": "LayoutModel",
      "_view_count": null,
      "_view_module": "@jupyter-widgets/base",
      "_view_module_version": "1.2.0",
      "_view_name": "LayoutView",
      "align_content": null,
      "align_items": null,
      "align_self": null,
      "border": null,
      "bottom": null,
      "display": null,
      "flex": null,
      "flex_flow": null,
      "grid_area": null,
      "grid_auto_columns": null,
      "grid_auto_flow": null,
      "grid_auto_rows": null,
      "grid_column": null,
      "grid_gap": null,
      "grid_row": null,
      "grid_template_areas": null,
      "grid_template_columns": null,
      "grid_template_rows": null,
      "height": null,
      "justify_content": null,
      "justify_items": null,
      "left": null,
      "margin": null,
      "max_height": null,
      "max_width": null,
      "min_height": null,
      "min_width": null,
      "object_fit": null,
      "object_position": null,
      "order": null,
      "overflow": null,
      "overflow_x": null,
      "overflow_y": null,
      "padding": null,
      "right": null,
      "top": null,
      "visibility": null,
      "width": null
     }
    },
    "e8259cc6bb2c47179617dd6560ca4cb6": {
     "model_module": "@jupyter-widgets/controls",
     "model_name": "FloatProgressModel",
     "state": {
      "_dom_classes": [],
      "_model_module": "@jupyter-widgets/controls",
      "_model_module_version": "1.5.0",
      "_model_name": "FloatProgressModel",
      "_view_count": null,
      "_view_module": "@jupyter-widgets/controls",
      "_view_module_version": "1.5.0",
      "_view_name": "ProgressView",
      "bar_style": "success",
      "description": "",
      "description_tooltip": null,
      "layout": "IPY_MODEL_fab899d4e6d04ccaa9808bd8c586b671",
      "max": 28881,
      "min": 0,
      "orientation": "horizontal",
      "style": "IPY_MODEL_080866a0ab6840dea830f47422840bad",
      "value": 28881
     }
    },
    "f0bcf088564746dca8426dba16a419ee": {
     "model_module": "@jupyter-widgets/base",
     "model_name": "LayoutModel",
     "state": {
      "_model_module": "@jupyter-widgets/base",
      "_model_module_version": "1.2.0",
      "_model_name": "LayoutModel",
      "_view_count": null,
      "_view_module": "@jupyter-widgets/base",
      "_view_module_version": "1.2.0",
      "_view_name": "LayoutView",
      "align_content": null,
      "align_items": null,
      "align_self": null,
      "border": null,
      "bottom": null,
      "display": null,
      "flex": null,
      "flex_flow": null,
      "grid_area": null,
      "grid_auto_columns": null,
      "grid_auto_flow": null,
      "grid_auto_rows": null,
      "grid_column": null,
      "grid_gap": null,
      "grid_row": null,
      "grid_template_areas": null,
      "grid_template_columns": null,
      "grid_template_rows": null,
      "height": null,
      "justify_content": null,
      "justify_items": null,
      "left": null,
      "margin": null,
      "max_height": null,
      "max_width": null,
      "min_height": null,
      "min_width": null,
      "object_fit": null,
      "object_position": null,
      "order": null,
      "overflow": null,
      "overflow_x": null,
      "overflow_y": null,
      "padding": null,
      "right": null,
      "top": null,
      "visibility": null,
      "width": null
     }
    },
    "f5e1b9f10ed44ab581c6fa4d654f1ec0": {
     "model_module": "@jupyter-widgets/controls",
     "model_name": "FloatProgressModel",
     "state": {
      "_dom_classes": [],
      "_model_module": "@jupyter-widgets/controls",
      "_model_module_version": "1.5.0",
      "_model_name": "FloatProgressModel",
      "_view_count": null,
      "_view_module": "@jupyter-widgets/controls",
      "_view_module_version": "1.5.0",
      "_view_name": "ProgressView",
      "bar_style": "success",
      "description": "",
      "description_tooltip": null,
      "layout": "IPY_MODEL_d1c94b39a53a4dcb8a764ffb494b4a94",
      "max": 4542,
      "min": 0,
      "orientation": "horizontal",
      "style": "IPY_MODEL_cf80ca8a0452462b88b6eeea2821b334",
      "value": 4542
     }
    },
    "fab899d4e6d04ccaa9808bd8c586b671": {
     "model_module": "@jupyter-widgets/base",
     "model_name": "LayoutModel",
     "state": {
      "_model_module": "@jupyter-widgets/base",
      "_model_module_version": "1.2.0",
      "_model_name": "LayoutModel",
      "_view_count": null,
      "_view_module": "@jupyter-widgets/base",
      "_view_module_version": "1.2.0",
      "_view_name": "LayoutView",
      "align_content": null,
      "align_items": null,
      "align_self": null,
      "border": null,
      "bottom": null,
      "display": null,
      "flex": null,
      "flex_flow": null,
      "grid_area": null,
      "grid_auto_columns": null,
      "grid_auto_flow": null,
      "grid_auto_rows": null,
      "grid_column": null,
      "grid_gap": null,
      "grid_row": null,
      "grid_template_areas": null,
      "grid_template_columns": null,
      "grid_template_rows": null,
      "height": null,
      "justify_content": null,
      "justify_items": null,
      "left": null,
      "margin": null,
      "max_height": null,
      "max_width": null,
      "min_height": null,
      "min_width": null,
      "object_fit": null,
      "object_position": null,
      "order": null,
      "overflow": null,
      "overflow_x": null,
      "overflow_y": null,
      "padding": null,
      "right": null,
      "top": null,
      "visibility": null,
      "width": null
     }
    }
   }
  }
 },
 "nbformat": 4,
 "nbformat_minor": 1
}
