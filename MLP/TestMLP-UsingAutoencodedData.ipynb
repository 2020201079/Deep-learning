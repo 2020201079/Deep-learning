{
 "cells": [
  {
   "cell_type": "markdown",
   "metadata": {
    "id": "pWwFN0X9vo6O"
   },
   "source": [
    "## From part 2 selecting autoencode with 128 hidden values and RMSprop as the optimizer"
   ]
  },
  {
   "cell_type": "code",
   "execution_count": 1,
   "metadata": {
    "id": "fETyMsRxv-8K"
   },
   "outputs": [],
   "source": [
    "import torch\n",
    "import torchvision\n",
    "import torchvision.transforms as transforms\n",
    "import matplotlib.pyplot as plt\n",
    "import numpy as np\n",
    "import torch.nn as nn\n",
    "import torch.nn.functional as F\n",
    "import torch.optim as optim\n",
    "from torchsummary import summary\n",
    "import torchvision.transforms as T\n",
    "from torch.optim.lr_scheduler import ExponentialLR"
   ]
  },
  {
   "cell_type": "code",
   "execution_count": 2,
   "metadata": {
    "colab": {
     "base_uri": "https://localhost:8080/"
    },
    "id": "ZyIS90_0xPve",
    "outputId": "5823ad61-2842-4d23-c61c-9cd402ac6f11"
   },
   "outputs": [
    {
     "name": "stdout",
     "output_type": "stream",
     "text": [
      "cuda:0\n"
     ]
    }
   ],
   "source": [
    "device = torch.device(\"cuda:0\" if torch.cuda.is_available() else \"cpu\")\n",
    "\n",
    "# Assuming that we are on a CUDA machine, this should print a CUDA device:\n",
    "\n",
    "print(device)"
   ]
  },
  {
   "cell_type": "code",
   "execution_count": 3,
   "metadata": {
    "colab": {
     "base_uri": "https://localhost:8080/",
     "height": 859,
     "referenced_widgets": [
      "09d6a9d503d74feead721b4816a21c5a",
      "db3c9f88239144a4bb24e891e732c9a1",
      "8d6388001ae941e68a53eb71b94b517d",
      "827518aefc0547a6a5463d94c8e5bb9d",
      "61dbb9f42c204a4d9ee4b1728dbaeb9e",
      "1e7e4eb968a54ac985042c3b7931a8c0",
      "63d5e7ad4007481dbf06f6e5a2b595b5",
      "350c8a4a0bd94ee9a4641f9f4e976dea",
      "a9a2cdf062c34ade99dd5ad978735d17",
      "ff5a8b24799a410793f4eb3c6f60e187",
      "5036a8be193e4e04ae6e4c48d9ad8dea",
      "5de5745292b7403cb4516a5667209ea0",
      "35ec96b1ccac4459ba5f4194d2378384",
      "c1115ccdf6164686bd2f8856e0202be0",
      "c1e3a12630ca44b99980bb45eafb4a8c",
      "63f3bc42cd984ab0a3154e0d7776b1ce",
      "093a1ec6bdac4f5b843aedae428bd057",
      "06dd628c2fc94f9b987f2fc3e37bb783",
      "5bae9430b5b24aa6bfeb1d73eb0ad259",
      "2590a3898ac447e7a6ffb55748cb898e",
      "625f8a83590843698ceaaabf4ef2d4c1",
      "e12f697d69bf4771864ffd92885b9a95",
      "7cf1797231f94cda81c53e6765e1f57c",
      "8b5ed9b3cf944beb8bf697bf2b2446f3",
      "df160111bdc64e348025eaa20dac33f9",
      "af4d5e0e607642d3a3d256588644a116",
      "a00da367f6804e859eea15130274eb9c",
      "e2317a013dcd41268f51598cb9adb3df",
      "21d407f8d5bf47a4872266a4e0d97761",
      "a3a6439cc9ce466199430bc854669a31",
      "40d4c7ddbd01434aa12d31f7e9fdf634",
      "b87e114ca4794424913e21ff878e8ac4"
     ]
    },
    "id": "gNr7NFtjxVRs",
    "outputId": "f3009b7c-1e40-4648-f25a-1953474bc436"
   },
   "outputs": [
    {
     "name": "stdout",
     "output_type": "stream",
     "text": [
      "Downloading http://yann.lecun.com/exdb/mnist/train-images-idx3-ubyte.gz\n",
      "Failed to download (trying next):\n",
      "HTTP Error 503: Service Unavailable\n",
      "\n",
      "Downloading https://ossci-datasets.s3.amazonaws.com/mnist/train-images-idx3-ubyte.gz\n",
      "Downloading https://ossci-datasets.s3.amazonaws.com/mnist/train-images-idx3-ubyte.gz to dataset/MNIST/MNIST/raw/train-images-idx3-ubyte.gz\n"
     ]
    },
    {
     "data": {
      "application/vnd.jupyter.widget-view+json": {
       "model_id": "09d6a9d503d74feead721b4816a21c5a",
       "version_major": 2,
       "version_minor": 0
      },
      "text/plain": [
       "HBox(children=(FloatProgress(value=0.0, max=9912422.0), HTML(value='')))"
      ]
     },
     "metadata": {
      "tags": []
     },
     "output_type": "display_data"
    },
    {
     "name": "stdout",
     "output_type": "stream",
     "text": [
      "\n",
      "Extracting dataset/MNIST/MNIST/raw/train-images-idx3-ubyte.gz to dataset/MNIST/MNIST/raw\n",
      "\n",
      "Downloading http://yann.lecun.com/exdb/mnist/train-labels-idx1-ubyte.gz\n",
      "Failed to download (trying next):\n",
      "HTTP Error 503: Service Unavailable\n",
      "\n",
      "Downloading https://ossci-datasets.s3.amazonaws.com/mnist/train-labels-idx1-ubyte.gz\n",
      "Downloading https://ossci-datasets.s3.amazonaws.com/mnist/train-labels-idx1-ubyte.gz to dataset/MNIST/MNIST/raw/train-labels-idx1-ubyte.gz\n"
     ]
    },
    {
     "data": {
      "application/vnd.jupyter.widget-view+json": {
       "model_id": "a9a2cdf062c34ade99dd5ad978735d17",
       "version_major": 2,
       "version_minor": 0
      },
      "text/plain": [
       "HBox(children=(FloatProgress(value=0.0, max=28881.0), HTML(value='')))"
      ]
     },
     "metadata": {
      "tags": []
     },
     "output_type": "display_data"
    },
    {
     "name": "stdout",
     "output_type": "stream",
     "text": [
      "\n",
      "Extracting dataset/MNIST/MNIST/raw/train-labels-idx1-ubyte.gz to dataset/MNIST/MNIST/raw\n",
      "\n",
      "Downloading http://yann.lecun.com/exdb/mnist/t10k-images-idx3-ubyte.gz\n",
      "Failed to download (trying next):\n",
      "HTTP Error 503: Service Unavailable\n",
      "\n",
      "Downloading https://ossci-datasets.s3.amazonaws.com/mnist/t10k-images-idx3-ubyte.gz\n",
      "Downloading https://ossci-datasets.s3.amazonaws.com/mnist/t10k-images-idx3-ubyte.gz to dataset/MNIST/MNIST/raw/t10k-images-idx3-ubyte.gz\n"
     ]
    },
    {
     "data": {
      "application/vnd.jupyter.widget-view+json": {
       "model_id": "093a1ec6bdac4f5b843aedae428bd057",
       "version_major": 2,
       "version_minor": 0
      },
      "text/plain": [
       "HBox(children=(FloatProgress(value=0.0, max=1648877.0), HTML(value='')))"
      ]
     },
     "metadata": {
      "tags": []
     },
     "output_type": "display_data"
    },
    {
     "name": "stdout",
     "output_type": "stream",
     "text": [
      "\n",
      "Extracting dataset/MNIST/MNIST/raw/t10k-images-idx3-ubyte.gz to dataset/MNIST/MNIST/raw\n",
      "\n",
      "Downloading http://yann.lecun.com/exdb/mnist/t10k-labels-idx1-ubyte.gz\n",
      "Failed to download (trying next):\n",
      "HTTP Error 503: Service Unavailable\n",
      "\n",
      "Downloading https://ossci-datasets.s3.amazonaws.com/mnist/t10k-labels-idx1-ubyte.gz\n",
      "Downloading https://ossci-datasets.s3.amazonaws.com/mnist/t10k-labels-idx1-ubyte.gz to dataset/MNIST/MNIST/raw/t10k-labels-idx1-ubyte.gz\n"
     ]
    },
    {
     "data": {
      "application/vnd.jupyter.widget-view+json": {
       "model_id": "df160111bdc64e348025eaa20dac33f9",
       "version_major": 2,
       "version_minor": 0
      },
      "text/plain": [
       "HBox(children=(FloatProgress(value=0.0, max=4542.0), HTML(value='')))"
      ]
     },
     "metadata": {
      "tags": []
     },
     "output_type": "display_data"
    },
    {
     "name": "stdout",
     "output_type": "stream",
     "text": [
      "\n",
      "Extracting dataset/MNIST/MNIST/raw/t10k-labels-idx1-ubyte.gz to dataset/MNIST/MNIST/raw\n",
      "\n",
      "Processing...\n",
      "Done!\n"
     ]
    },
    {
     "name": "stderr",
     "output_type": "stream",
     "text": [
      "/usr/local/lib/python3.7/dist-packages/torchvision/datasets/mnist.py:502: UserWarning: The given NumPy array is not writeable, and PyTorch does not support non-writeable tensors. This means you can write to the underlying (supposedly non-writeable) NumPy array using the tensor. You may want to copy the array to protect its data or make it writeable before converting it to a tensor. This type of warning will be suppressed for the rest of this program. (Triggered internally at  /pytorch/torch/csrc/utils/tensor_numpy.cpp:143.)\n",
      "  return torch.from_numpy(parsed.astype(m[2], copy=False)).view(*s)\n"
     ]
    }
   ],
   "source": [
    "train_set =torchvision.datasets.MNIST(root='dataset/MNIST', train= True,download=True, transform=T.Compose([T.ToTensor(), T.Lambda(lambda x: torch.flatten(x))]))\n",
    "test_set =torchvision.datasets.MNIST(root='dataset/MNIST',train=False, download=True, transform=T.Compose([T.ToTensor(), T.Lambda(lambda x: torch.flatten(x))]))"
   ]
  },
  {
   "cell_type": "code",
   "execution_count": 4,
   "metadata": {
    "id": "DiB25QgJxpLW"
   },
   "outputs": [],
   "source": [
    "class AE(nn.Module):\n",
    "    def __init__(self,hiddenNueron):\n",
    "        super(AE,self).__init__()\n",
    "        self.encode1 = nn.Linear(in_features=28*28,out_features=256) # encoding 28*28 to 256\n",
    "        self.encode2 = nn.Linear(in_features=256,out_features=hiddenNueron)\n",
    "\n",
    "        self.decode1 = nn.Linear(in_features=hiddenNueron,out_features=256)\n",
    "        self.decode2 = nn.Linear(in_features=256,out_features=28*28)\n",
    "    \n",
    "    def forward(self,x):\n",
    "        x = F.relu(self.encode1(x))\n",
    "        encoded = F.relu(self.encode2(x))\n",
    "\n",
    "        x = F.relu(self.decode1(encoded))\n",
    "        x = F.relu(self.decode2(x))\n",
    "      \n",
    "        return x,encoded"
   ]
  },
  {
   "cell_type": "code",
   "execution_count": 5,
   "metadata": {
    "id": "EaVgzOSsxycV"
   },
   "outputs": [],
   "source": [
    "train_loader_rms = torch.utils.data.DataLoader(train_set,batch_size=30)\n",
    "test_loader_rms = torch.utils.data.DataLoader(test_set,batch_size=1)"
   ]
  },
  {
   "cell_type": "code",
   "execution_count": 6,
   "metadata": {
    "colab": {
     "base_uri": "https://localhost:8080/"
    },
    "id": "mF3mWXBsvWKe",
    "outputId": "0d79deaa-01c7-42c0-a3b4-7091c3ac5ec0"
   },
   "outputs": [
    {
     "name": "stdout",
     "output_type": "stream",
     "text": [
      "epoch:  0 loss:  55.002180320210755\n",
      "epoch:  1 loss:  34.78141256142408\n",
      "epoch:  2 loss:  30.797765146009624\n",
      "epoch:  3 loss:  28.926329661160707\n",
      "epoch:  4 loss:  27.828163342550397\n",
      "epoch:  5 loss:  27.012353745289147\n",
      "epoch:  6 loss:  26.270270014181733\n",
      "epoch:  7 loss:  25.475392046384513\n",
      "epoch:  8 loss:  24.79135626554489\n",
      "epoch:  9 loss:  24.32353418599814\n",
      "epoch:  10 loss:  23.483348552603275\n",
      "epoch:  11 loss:  23.15310848504305\n",
      "epoch:  12 loss:  22.64346775226295\n",
      "epoch:  13 loss:  22.218445777893066\n",
      "epoch:  14 loss:  21.96589741157368\n",
      "epoch:  15 loss:  21.776352158747613\n",
      "epoch:  16 loss:  21.529459373559803\n",
      "epoch:  17 loss:  21.302554299123585\n",
      "epoch:  18 loss:  21.174692823085934\n",
      "epoch:  19 loss:  21.013316281605512\n",
      "epoch:  20 loss:  20.93442225176841\n",
      "epoch:  21 loss:  20.784262370318174\n",
      "epoch:  22 loss:  20.68069474492222\n",
      "epoch:  23 loss:  20.590264934580773\n",
      "epoch:  24 loss:  20.48984089680016\n",
      "epoch:  25 loss:  20.40304408967495\n",
      "epoch:  26 loss:  20.32988614635542\n",
      "epoch:  27 loss:  20.2548437891528\n",
      "epoch:  28 loss:  20.187303378712386\n",
      "epoch:  29 loss:  20.160798989236355\n",
      "Average loss for each image :  0.00033601331648727256\n"
     ]
    }
   ],
   "source": [
    "rms_128 = AE(128)\n",
    "rms_128.to(device)\n",
    "\n",
    "optimizer_128 = optim.RMSprop(rms_128.parameters(), lr=0.001)\n",
    "\n",
    "rms_128_loss = []\n",
    "criterion = nn.MSELoss()\n",
    "for epoch in range(30):\n",
    "    total_loss = 0.0\n",
    "    for batch in train_loader_rms:\n",
    "        images, labels = batch[0].to(device),batch[1].to(device)\n",
    "        #print(images.shape)\n",
    "        preds,_ = rms_128(images)\n",
    "        #print(preds.shape)\n",
    "        loss = criterion(preds,images)\n",
    "        \n",
    "        optimizer_128.zero_grad()\n",
    "        loss.backward()\n",
    "        optimizer_128.step()\n",
    "        \n",
    "        total_loss += loss.item()\n",
    "    rms_128_loss.append(total_loss)\n",
    "    print(\"epoch: \",epoch,\"loss: \",total_loss)\n",
    "print(\"Average loss for each image : \", total_loss/len(train_set))"
   ]
  },
  {
   "cell_type": "code",
   "execution_count": 7,
   "metadata": {
    "id": "VPoGGdzyyrKV"
   },
   "outputs": [],
   "source": [
    "class Network(nn.Module):\n",
    "    def __init__(self):\n",
    "        super(Network,self).__init__()\n",
    "        self.fc1 = nn.Linear(in_features=128,out_features=64) # 128 --> 64\n",
    "        self.fc2 = nn.Linear(in_features=64,out_features=64) # 64 --> 64\n",
    "        self.fc3 = nn.Linear(in_features=64,out_features=10) # 64 --> 10\n",
    "        self.dropout = nn.Dropout(0.2)\n",
    "    \n",
    "    def forward(self,x):\n",
    "        x = F.relu(self.fc1(x))\n",
    "        x = self.dropout(x)\n",
    "        x = F.relu(self.fc2(x))\n",
    "        x = self.dropout(x)\n",
    "        x = self.fc3(x)\n",
    "        return x"
   ]
  },
  {
   "cell_type": "code",
   "execution_count": 8,
   "metadata": {
    "id": "XrISP31A2k_5"
   },
   "outputs": [],
   "source": [
    "def weights_init_normal(m):\n",
    "    '''Takes in a module and initializes all linear layers with weight\n",
    "        values taken from a normal distribution.'''\n",
    "\n",
    "    classname = m.__class__.__name__\n",
    "    # for every Linear layer in a model\n",
    "    if classname.find('Linear') != -1:\n",
    "        y = m.in_features\n",
    "    # m.weight.data shoud be taken from a normal distribution\n",
    "        m.weight.data.normal_(0.0,1/np.sqrt(y))\n",
    "    # m.bias.data should be 0\n",
    "        m.bias.data.fill_(0)"
   ]
  },
  {
   "cell_type": "code",
   "execution_count": 9,
   "metadata": {
    "id": "-HYuKyTozVvP"
   },
   "outputs": [],
   "source": [
    "network_normal = Network()\n",
    "network_normal.to(device)\n",
    "network_normal.apply(weights_init_normal)\n",
    "optimizer_normal = optim.Adam(network_normal.parameters(),lr=0.0001)\n",
    "scheduler_normal = ExponentialLR(optimizer_normal, gamma=0.95)"
   ]
  },
  {
   "cell_type": "code",
   "execution_count": 10,
   "metadata": {
    "colab": {
     "base_uri": "https://localhost:8080/"
    },
    "id": "17YU7F3AzjQP",
    "outputId": "18702aa5-6233-49e0-9f57-72da20132abe"
   },
   "outputs": [
    {
     "name": "stdout",
     "output_type": "stream",
     "text": [
      "epoch:  0  lr:  9.5e-05 loss:  2779.087939977646 accuracy:  0.7535\n",
      "epoch:  1  lr:  9.025e-05 loss:  1317.2240497395396 accuracy:  0.8304\n",
      "epoch:  2  lr:  8.573749999999999e-05 loss:  1033.3732672929764 accuracy:  0.8576\n",
      "epoch:  3  lr:  8.145062499999998e-05 loss:  906.2123279869556 accuracy:  0.8766\n",
      "epoch:  4  lr:  7.737809374999998e-05 loss:  809.0637224987149 accuracy:  0.8876\n",
      "epoch:  5  lr:  7.350918906249998e-05 loss:  754.7476269416511 accuracy:  0.8954\n",
      "epoch:  6  lr:  6.983372960937497e-05 loss:  705.5107932072133 accuracy:  0.8986\n",
      "epoch:  7  lr:  6.634204312890622e-05 loss:  671.0444374810904 accuracy:  0.9036\n",
      "epoch:  8  lr:  6.30249409724609e-05 loss:  642.5999474152923 accuracy:  0.9121\n",
      "epoch:  9  lr:  5.987369392383786e-05 loss:  616.054161965847 accuracy:  0.9131\n",
      "epoch:  10  lr:  5.688000922764596e-05 loss:  599.9122199993581 accuracy:  0.9166\n",
      "epoch:  11  lr:  5.4036008766263664e-05 loss:  577.8182939048856 accuracy:  0.9174\n",
      "epoch:  12  lr:  5.133420832795048e-05 loss:  559.0332931317389 accuracy:  0.9159\n",
      "epoch:  13  lr:  4.876749791155295e-05 loss:  544.58149080351 accuracy:  0.9209\n",
      "epoch:  14  lr:  4.6329123015975305e-05 loss:  534.0124572571367 accuracy:  0.918\n",
      "epoch:  15  lr:  4.4012666865176535e-05 loss:  520.2726980177686 accuracy:  0.9221\n",
      "epoch:  16  lr:  4.181203352191771e-05 loss:  514.7663059923798 accuracy:  0.9202\n",
      "epoch:  17  lr:  3.972143184582182e-05 loss:  504.4170150756836 accuracy:  0.9256\n",
      "epoch:  18  lr:  3.7735360253530726e-05 loss:  498.4125923188403 accuracy:  0.9246\n",
      "epoch:  19  lr:  3.584859224085419e-05 loss:  488.69501439575106 accuracy:  0.9222\n",
      "epoch:  20  lr:  3.405616262881148e-05 loss:  479.46527046104893 accuracy:  0.9255\n",
      "epoch:  21  lr:  3.2353354497370904e-05 loss:  476.39403245970607 accuracy:  0.9296\n",
      "epoch:  22  lr:  3.0735686772502355e-05 loss:  471.37938509415835 accuracy:  0.9304\n",
      "epoch:  23  lr:  2.9198902433877236e-05 loss:  465.3036404075101 accuracy:  0.9284\n",
      "epoch:  24  lr:  2.7738957312183373e-05 loss:  457.8473492525518 accuracy:  0.9308\n",
      "epoch:  25  lr:  2.6352009446574204e-05 loss:  455.4711850332096 accuracy:  0.9323\n",
      "epoch:  26  lr:  2.5034408974245492e-05 loss:  445.8487880527973 accuracy:  0.9307\n",
      "epoch:  27  lr:  2.3782688525533216e-05 loss:  445.4294927883893 accuracy:  0.9291\n",
      "epoch:  28  lr:  2.2593554099256555e-05 loss:  445.4679020596668 accuracy:  0.9313\n",
      "epoch:  29  lr:  2.1463876394293726e-05 loss:  431.0544103300199 accuracy:  0.9337\n"
     ]
    }
   ],
   "source": [
    "network_normal_loss = []\n",
    "network_normal_accuracy = []\n",
    "for epoch in range(30):\n",
    "    total_loss = 0.0\n",
    "    for batch in train_loader_rms:\n",
    "        images, labels = batch[0].to(device),batch[1].to(device)\n",
    "        _,encoded_images = rms_128(images)\n",
    "        \n",
    "        preds = network_normal(encoded_images)\n",
    "        loss = F.cross_entropy(preds,labels)\n",
    "        \n",
    "        optimizer_normal.zero_grad()\n",
    "        loss.backward()\n",
    "        optimizer_normal.step()\n",
    "        total_loss += loss.item()\n",
    "    scheduler_normal.step()\n",
    "    network_normal_loss.append(total_loss)\n",
    "\n",
    "    total = 0\n",
    "    correct = 0\n",
    "    for data in test_loader_rms:\n",
    "        images, labels = data[0].to(device),data[1].to(device)\n",
    "        _,encoded_images = rms_128(images)\n",
    "        outputs = network_normal(encoded_images)\n",
    "        _, predicted = torch.max(outputs.data, 1)\n",
    "        total += labels.size(0)\n",
    "        correct += (predicted == labels).sum().item()\n",
    "\n",
    "    network_normal_accuracy.append(correct/total)\n",
    "    print(\"epoch: \",epoch,\" lr: \",optimizer_normal.param_groups[0]['lr'],\"loss: \",total_loss,\"accuracy: \",correct/total)"
   ]
  },
  {
   "cell_type": "code",
   "execution_count": 12,
   "metadata": {
    "colab": {
     "base_uri": "https://localhost:8080/",
     "height": 283
    },
    "id": "HGkb5bZe8HKo",
    "outputId": "181793b0-6f97-49f8-9c06-0dacd076cfbc"
   },
   "outputs": [
    {
     "data": {
      "image/png": "[encoded data removed]",
      "text/plain": [
       "<Figure size 432x288 with 1 Axes>"
      ]
     },
     "metadata": {
      "needs_background": "light",
      "tags": []
     },
     "output_type": "display_data"
    },
    {
     "name": "stdout",
     "output_type": "stream",
     "text": [
      "best accuracy is :  0.9337\n"
     ]
    }
   ],
   "source": [
    "plt.plot(network_normal_accuracy,'ro')\n",
    "plt.ylabel('normal initialization accuracy')\n",
    "plt.show()\n",
    "print(\"best accuracy is : \",network_normal_accuracy[-1])"
   ]
  },
  {
   "cell_type": "markdown",
   "metadata": {
    "id": "eSAD9r3o8XCJ"
   },
   "source": [
    "## Best Model from Part 1 MLP on all data accuracy : 97.8% \n",
    "## Classification based on encoded data accuracy : 93.3%"
   ]
  }
 ],
 "metadata": {
  "accelerator": "GPU",
  "colab": {
   "name": "Q3Part2.ipynb",
   "provenance": []
  },
  "kernelspec": {
   "display_name": "Python 3",
   "language": "python",
   "name": "python3"
  },
  "language_info": {
   "codemirror_mode": {
    "name": "ipython",
    "version": 3
   },
   "file_extension": ".py",
   "mimetype": "text/x-python",
   "name": "python",
   "nbconvert_exporter": "python",
   "pygments_lexer": "ipython3",
   "version": "3.7.0"
  },
  "widgets": {
   "application/vnd.jupyter.widget-state+json": {
    "06dd628c2fc94f9b987f2fc3e37bb783": {
     "model_module": "@jupyter-widgets/base",
     "model_name": "LayoutModel",
     "state": {
      "_model_module": "@jupyter-widgets/base",
      "_model_module_version": "1.2.0",
      "_model_name": "LayoutModel",
      "_view_count": null,
      "_view_module": "@jupyter-widgets/base",
      "_view_module_version": "1.2.0",
      "_view_name": "LayoutView",
      "align_content": null,
      "align_items": null,
      "align_self": null,
      "border": null,
      "bottom": null,
      "display": null,
      "flex": null,
      "flex_flow": null,
      "grid_area": null,
      "grid_auto_columns": null,
      "grid_auto_flow": null,
      "grid_auto_rows": null,
      "grid_column": null,
      "grid_gap": null,
      "grid_row": null,
      "grid_template_areas": null,
      "grid_template_columns": null,
      "grid_template_rows": null,
      "height": null,
      "justify_content": null,
      "justify_items": null,
      "left": null,
      "margin": null,
      "max_height": null,
      "max_width": null,
      "min_height": null,
      "min_width": null,
      "object_fit": null,
      "object_position": null,
      "order": null,
      "overflow": null,
      "overflow_x": null,
      "overflow_y": null,
      "padding": null,
      "right": null,
      "top": null,
      "visibility": null,
      "width": null
     }
    },
    "093a1ec6bdac4f5b843aedae428bd057": {
     "model_module": "@jupyter-widgets/controls",
     "model_name": "HBoxModel",
     "state": {
      "_dom_classes": [],
      "_model_module": "@jupyter-widgets/controls",
      "_model_module_version": "1.5.0",
      "_model_name": "HBoxModel",
      "_view_count": null,
      "_view_module": "@jupyter-widgets/controls",
      "_view_module_version": "1.5.0",
      "_view_name": "HBoxView",
      "box_style": "",
      "children": [
       "IPY_MODEL_5bae9430b5b24aa6bfeb1d73eb0ad259",
       "IPY_MODEL_2590a3898ac447e7a6ffb55748cb898e"
      ],
      "layout": "IPY_MODEL_06dd628c2fc94f9b987f2fc3e37bb783"
     }
    },
    "09d6a9d503d74feead721b4816a21c5a": {
     "model_module": "@jupyter-widgets/controls",
     "model_name": "HBoxModel",
     "state": {
      "_dom_classes": [],
      "_model_module": "@jupyter-widgets/controls",
      "_model_module_version": "1.5.0",
      "_model_name": "HBoxModel",
      "_view_count": null,
      "_view_module": "@jupyter-widgets/controls",
      "_view_module_version": "1.5.0",
      "_view_name": "HBoxView",
      "box_style": "",
      "children": [
       "IPY_MODEL_8d6388001ae941e68a53eb71b94b517d",
       "IPY_MODEL_827518aefc0547a6a5463d94c8e5bb9d"
      ],
      "layout": "IPY_MODEL_db3c9f88239144a4bb24e891e732c9a1"
     }
    },
    "1e7e4eb968a54ac985042c3b7931a8c0": {
     "model_module": "@jupyter-widgets/base",
     "model_name": "LayoutModel",
     "state": {
      "_model_module": "@jupyter-widgets/base",
      "_model_module_version": "1.2.0",
      "_model_name": "LayoutModel",
      "_view_count": null,
      "_view_module": "@jupyter-widgets/base",
      "_view_module_version": "1.2.0",
      "_view_name": "LayoutView",
      "align_content": null,
      "align_items": null,
      "align_self": null,
      "border": null,
      "bottom": null,
      "display": null,
      "flex": null,
      "flex_flow": null,
      "grid_area": null,
      "grid_auto_columns": null,
      "grid_auto_flow": null,
      "grid_auto_rows": null,
      "grid_column": null,
      "grid_gap": null,
      "grid_row": null,
      "grid_template_areas": null,
      "grid_template_columns": null,
      "grid_template_rows": null,
      "height": null,
      "justify_content": null,
      "justify_items": null,
      "left": null,
      "margin": null,
      "max_height": null,
      "max_width": null,
      "min_height": null,
      "min_width": null,
      "object_fit": null,
      "object_position": null,
      "order": null,
      "overflow": null,
      "overflow_x": null,
      "overflow_y": null,
      "padding": null,
      "right": null,
      "top": null,
      "visibility": null,
      "width": null
     }
    },
    "21d407f8d5bf47a4872266a4e0d97761": {
     "model_module": "@jupyter-widgets/controls",
     "model_name": "ProgressStyleModel",
     "state": {
      "_model_module": "@jupyter-widgets/controls",
      "_model_module_version": "1.5.0",
      "_model_name": "ProgressStyleModel",
      "_view_count": null,
      "_view_module": "@jupyter-widgets/base",
      "_view_module_version": "1.2.0",
      "_view_name": "StyleView",
      "bar_color": null,
      "description_width": "initial"
     }
    },
    "2590a3898ac447e7a6ffb55748cb898e": {
     "model_module": "@jupyter-widgets/controls",
     "model_name": "HTMLModel",
     "state": {
      "_dom_classes": [],
      "_model_module": "@jupyter-widgets/controls",
      "_model_module_version": "1.5.0",
      "_model_name": "HTMLModel",
      "_view_count": null,
      "_view_module": "@jupyter-widgets/controls",
      "_view_module_version": "1.5.0",
      "_view_name": "HTMLView",
      "description": "",
      "description_tooltip": null,
      "layout": "IPY_MODEL_8b5ed9b3cf944beb8bf697bf2b2446f3",
      "placeholder": "​",
      "style": "IPY_MODEL_7cf1797231f94cda81c53e6765e1f57c",
      "value": " 1649664/? [00:14&lt;00:00, 110142.59it/s]"
     }
    },
    "350c8a4a0bd94ee9a4641f9f4e976dea": {
     "model_module": "@jupyter-widgets/base",
     "model_name": "LayoutModel",
     "state": {
      "_model_module": "@jupyter-widgets/base",
      "_model_module_version": "1.2.0",
      "_model_name": "LayoutModel",
      "_view_count": null,
      "_view_module": "@jupyter-widgets/base",
      "_view_module_version": "1.2.0",
      "_view_name": "LayoutView",
      "align_content": null,
      "align_items": null,
      "align_self": null,
      "border": null,
      "bottom": null,
      "display": null,
      "flex": null,
      "flex_flow": null,
      "grid_area": null,
      "grid_auto_columns": null,
      "grid_auto_flow": null,
      "grid_auto_rows": null,
      "grid_column": null,
      "grid_gap": null,
      "grid_row": null,
      "grid_template_areas": null,
      "grid_template_columns": null,
      "grid_template_rows": null,
      "height": null,
      "justify_content": null,
      "justify_items": null,
      "left": null,
      "margin": null,
      "max_height": null,
      "max_width": null,
      "min_height": null,
      "min_width": null,
      "object_fit": null,
      "object_position": null,
      "order": null,
      "overflow": null,
      "overflow_x": null,
      "overflow_y": null,
      "padding": null,
      "right": null,
      "top": null,
      "visibility": null,
      "width": null
     }
    },
    "35ec96b1ccac4459ba5f4194d2378384": {
     "model_module": "@jupyter-widgets/controls",
     "model_name": "ProgressStyleModel",
     "state": {
      "_model_module": "@jupyter-widgets/controls",
      "_model_module_version": "1.5.0",
      "_model_name": "ProgressStyleModel",
      "_view_count": null,
      "_view_module": "@jupyter-widgets/base",
      "_view_module_version": "1.2.0",
      "_view_name": "StyleView",
      "bar_color": null,
      "description_width": "initial"
     }
    },
    "40d4c7ddbd01434aa12d31f7e9fdf634": {
     "model_module": "@jupyter-widgets/controls",
     "model_name": "DescriptionStyleModel",
     "state": {
      "_model_module": "@jupyter-widgets/controls",
      "_model_module_version": "1.5.0",
      "_model_name": "DescriptionStyleModel",
      "_view_count": null,
      "_view_module": "@jupyter-widgets/base",
      "_view_module_version": "1.2.0",
      "_view_name": "StyleView",
      "description_width": ""
     }
    },
    "5036a8be193e4e04ae6e4c48d9ad8dea": {
     "model_module": "@jupyter-widgets/controls",
     "model_name": "FloatProgressModel",
     "state": {
      "_dom_classes": [],
      "_model_module": "@jupyter-widgets/controls",
      "_model_module_version": "1.5.0",
      "_model_name": "FloatProgressModel",
      "_view_count": null,
      "_view_module": "@jupyter-widgets/controls",
      "_view_module_version": "1.5.0",
      "_view_name": "ProgressView",
      "bar_style": "success",
      "description": "",
      "description_tooltip": null,
      "layout": "IPY_MODEL_c1115ccdf6164686bd2f8856e0202be0",
      "max": 28881,
      "min": 0,
      "orientation": "horizontal",
      "style": "IPY_MODEL_35ec96b1ccac4459ba5f4194d2378384",
      "value": 28881
     }
    },
    "5bae9430b5b24aa6bfeb1d73eb0ad259": {
     "model_module": "@jupyter-widgets/controls",
     "model_name": "FloatProgressModel",
     "state": {
      "_dom_classes": [],
      "_model_module": "@jupyter-widgets/controls",
      "_model_module_version": "1.5.0",
      "_model_name": "FloatProgressModel",
      "_view_count": null,
      "_view_module": "@jupyter-widgets/controls",
      "_view_module_version": "1.5.0",
      "_view_name": "ProgressView",
      "bar_style": "success",
      "description": "",
      "description_tooltip": null,
      "layout": "IPY_MODEL_e12f697d69bf4771864ffd92885b9a95",
      "max": 1648877,
      "min": 0,
      "orientation": "horizontal",
      "style": "IPY_MODEL_625f8a83590843698ceaaabf4ef2d4c1",
      "value": 1648877
     }
    },
    "5de5745292b7403cb4516a5667209ea0": {
     "model_module": "@jupyter-widgets/controls",
     "model_name": "HTMLModel",
     "state": {
      "_dom_classes": [],
      "_model_module": "@jupyter-widgets/controls",
      "_model_module_version": "1.5.0",
      "_model_name": "HTMLModel",
      "_view_count": null,
      "_view_module": "@jupyter-widgets/controls",
      "_view_module_version": "1.5.0",
      "_view_name": "HTMLView",
      "description": "",
      "description_tooltip": null,
      "layout": "IPY_MODEL_63f3bc42cd984ab0a3154e0d7776b1ce",
      "placeholder": "​",
      "style": "IPY_MODEL_c1e3a12630ca44b99980bb45eafb4a8c",
      "value": " 29696/? [13:15&lt;00:00, 37.31it/s]"
     }
    },
    "61dbb9f42c204a4d9ee4b1728dbaeb9e": {
     "model_module": "@jupyter-widgets/controls",
     "model_name": "ProgressStyleModel",
     "state": {
      "_model_module": "@jupyter-widgets/controls",
      "_model_module_version": "1.5.0",
      "_model_name": "ProgressStyleModel",
      "_view_count": null,
      "_view_module": "@jupyter-widgets/base",
      "_view_module_version": "1.2.0",
      "_view_name": "StyleView",
      "bar_color": null,
      "description_width": "initial"
     }
    },
    "625f8a83590843698ceaaabf4ef2d4c1": {
     "model_module": "@jupyter-widgets/controls",
     "model_name": "ProgressStyleModel",
     "state": {
      "_model_module": "@jupyter-widgets/controls",
      "_model_module_version": "1.5.0",
      "_model_name": "ProgressStyleModel",
      "_view_count": null,
      "_view_module": "@jupyter-widgets/base",
      "_view_module_version": "1.2.0",
      "_view_name": "StyleView",
      "bar_color": null,
      "description_width": "initial"
     }
    },
    "63d5e7ad4007481dbf06f6e5a2b595b5": {
     "model_module": "@jupyter-widgets/controls",
     "model_name": "DescriptionStyleModel",
     "state": {
      "_model_module": "@jupyter-widgets/controls",
      "_model_module_version": "1.5.0",
      "_model_name": "DescriptionStyleModel",
      "_view_count": null,
      "_view_module": "@jupyter-widgets/base",
      "_view_module_version": "1.2.0",
      "_view_name": "StyleView",
      "description_width": ""
     }
    },
    "63f3bc42cd984ab0a3154e0d7776b1ce": {
     "model_module": "@jupyter-widgets/base",
     "model_name": "LayoutModel",
     "state": {
      "_model_module": "@jupyter-widgets/base",
      "_model_module_version": "1.2.0",
      "_model_name": "LayoutModel",
      "_view_count": null,
      "_view_module": "@jupyter-widgets/base",
      "_view_module_version": "1.2.0",
      "_view_name": "LayoutView",
      "align_content": null,
      "align_items": null,
      "align_self": null,
      "border": null,
      "bottom": null,
      "display": null,
      "flex": null,
      "flex_flow": null,
      "grid_area": null,
      "grid_auto_columns": null,
      "grid_auto_flow": null,
      "grid_auto_rows": null,
      "grid_column": null,
      "grid_gap": null,
      "grid_row": null,
      "grid_template_areas": null,
      "grid_template_columns": null,
      "grid_template_rows": null,
      "height": null,
      "justify_content": null,
      "justify_items": null,
      "left": null,
      "margin": null,
      "max_height": null,
      "max_width": null,
      "min_height": null,
      "min_width": null,
      "object_fit": null,
      "object_position": null,
      "order": null,
      "overflow": null,
      "overflow_x": null,
      "overflow_y": null,
      "padding": null,
      "right": null,
      "top": null,
      "visibility": null,
      "width": null
     }
    },
    "7cf1797231f94cda81c53e6765e1f57c": {
     "model_module": "@jupyter-widgets/controls",
     "model_name": "DescriptionStyleModel",
     "state": {
      "_model_module": "@jupyter-widgets/controls",
      "_model_module_version": "1.5.0",
      "_model_name": "DescriptionStyleModel",
      "_view_count": null,
      "_view_module": "@jupyter-widgets/base",
      "_view_module_version": "1.2.0",
      "_view_name": "StyleView",
      "description_width": ""
     }
    },
    "827518aefc0547a6a5463d94c8e5bb9d": {
     "model_module": "@jupyter-widgets/controls",
     "model_name": "HTMLModel",
     "state": {
      "_dom_classes": [],
      "_model_module": "@jupyter-widgets/controls",
      "_model_module_version": "1.5.0",
      "_model_name": "HTMLModel",
      "_view_count": null,
      "_view_module": "@jupyter-widgets/controls",
      "_view_module_version": "1.5.0",
      "_view_name": "HTMLView",
      "description": "",
      "description_tooltip": null,
      "layout": "IPY_MODEL_350c8a4a0bd94ee9a4641f9f4e976dea",
      "placeholder": "​",
      "style": "IPY_MODEL_63d5e7ad4007481dbf06f6e5a2b595b5",
      "value": " 9913344/? [13:16&lt;00:00, 12443.31it/s]"
     }
    },
    "8b5ed9b3cf944beb8bf697bf2b2446f3": {
     "model_module": "@jupyter-widgets/base",
     "model_name": "LayoutModel",
     "state": {
      "_model_module": "@jupyter-widgets/base",
      "_model_module_version": "1.2.0",
      "_model_name": "LayoutModel",
      "_view_count": null,
      "_view_module": "@jupyter-widgets/base",
      "_view_module_version": "1.2.0",
      "_view_name": "LayoutView",
      "align_content": null,
      "align_items": null,
      "align_self": null,
      "border": null,
      "bottom": null,
      "display": null,
      "flex": null,
      "flex_flow": null,
      "grid_area": null,
      "grid_auto_columns": null,
      "grid_auto_flow": null,
      "grid_auto_rows": null,
      "grid_column": null,
      "grid_gap": null,
      "grid_row": null,
      "grid_template_areas": null,
      "grid_template_columns": null,
      "grid_template_rows": null,
      "height": null,
      "justify_content": null,
      "justify_items": null,
      "left": null,
      "margin": null,
      "max_height": null,
      "max_width": null,
      "min_height": null,
      "min_width": null,
      "object_fit": null,
      "object_position": null,
      "order": null,
      "overflow": null,
      "overflow_x": null,
      "overflow_y": null,
      "padding": null,
      "right": null,
      "top": null,
      "visibility": null,
      "width": null
     }
    },
    "8d6388001ae941e68a53eb71b94b517d": {
     "model_module": "@jupyter-widgets/controls",
     "model_name": "FloatProgressModel",
     "state": {
      "_dom_classes": [],
      "_model_module": "@jupyter-widgets/controls",
      "_model_module_version": "1.5.0",
      "_model_name": "FloatProgressModel",
      "_view_count": null,
      "_view_module": "@jupyter-widgets/controls",
      "_view_module_version": "1.5.0",
      "_view_name": "ProgressView",
      "bar_style": "success",
      "description": "",
      "description_tooltip": null,
      "layout": "IPY_MODEL_1e7e4eb968a54ac985042c3b7931a8c0",
      "max": 9912422,
      "min": 0,
      "orientation": "horizontal",
      "style": "IPY_MODEL_61dbb9f42c204a4d9ee4b1728dbaeb9e",
      "value": 9912422
     }
    },
    "a00da367f6804e859eea15130274eb9c": {
     "model_module": "@jupyter-widgets/controls",
     "model_name": "FloatProgressModel",
     "state": {
      "_dom_classes": [],
      "_model_module": "@jupyter-widgets/controls",
      "_model_module_version": "1.5.0",
      "_model_name": "FloatProgressModel",
      "_view_count": null,
      "_view_module": "@jupyter-widgets/controls",
      "_view_module_version": "1.5.0",
      "_view_name": "ProgressView",
      "bar_style": "success",
      "description": "",
      "description_tooltip": null,
      "layout": "IPY_MODEL_a3a6439cc9ce466199430bc854669a31",
      "max": 4542,
      "min": 0,
      "orientation": "horizontal",
      "style": "IPY_MODEL_21d407f8d5bf47a4872266a4e0d97761",
      "value": 4542
     }
    },
    "a3a6439cc9ce466199430bc854669a31": {
     "model_module": "@jupyter-widgets/base",
     "model_name": "LayoutModel",
     "state": {
      "_model_module": "@jupyter-widgets/base",
      "_model_module_version": "1.2.0",
      "_model_name": "LayoutModel",
      "_view_count": null,
      "_view_module": "@jupyter-widgets/base",
      "_view_module_version": "1.2.0",
      "_view_name": "LayoutView",
      "align_content": null,
      "align_items": null,
      "align_self": null,
      "border": null,
      "bottom": null,
      "display": null,
      "flex": null,
      "flex_flow": null,
      "grid_area": null,
      "grid_auto_columns": null,
      "grid_auto_flow": null,
      "grid_auto_rows": null,
      "grid_column": null,
      "grid_gap": null,
      "grid_row": null,
      "grid_template_areas": null,
      "grid_template_columns": null,
      "grid_template_rows": null,
      "height": null,
      "justify_content": null,
      "justify_items": null,
      "left": null,
      "margin": null,
      "max_height": null,
      "max_width": null,
      "min_height": null,
      "min_width": null,
      "object_fit": null,
      "object_position": null,
      "order": null,
      "overflow": null,
      "overflow_x": null,
      "overflow_y": null,
      "padding": null,
      "right": null,
      "top": null,
      "visibility": null,
      "width": null
     }
    },
    "a9a2cdf062c34ade99dd5ad978735d17": {
     "model_module": "@jupyter-widgets/controls",
     "model_name": "HBoxModel",
     "state": {
      "_dom_classes": [],
      "_model_module": "@jupyter-widgets/controls",
      "_model_module_version": "1.5.0",
      "_model_name": "HBoxModel",
      "_view_count": null,
      "_view_module": "@jupyter-widgets/controls",
      "_view_module_version": "1.5.0",
      "_view_name": "HBoxView",
      "box_style": "",
      "children": [
       "IPY_MODEL_5036a8be193e4e04ae6e4c48d9ad8dea",
       "IPY_MODEL_5de5745292b7403cb4516a5667209ea0"
      ],
      "layout": "IPY_MODEL_ff5a8b24799a410793f4eb3c6f60e187"
     }
    },
    "af4d5e0e607642d3a3d256588644a116": {
     "model_module": "@jupyter-widgets/base",
     "model_name": "LayoutModel",
     "state": {
      "_model_module": "@jupyter-widgets/base",
      "_model_module_version": "1.2.0",
      "_model_name": "LayoutModel",
      "_view_count": null,
      "_view_module": "@jupyter-widgets/base",
      "_view_module_version": "1.2.0",
      "_view_name": "LayoutView",
      "align_content": null,
      "align_items": null,
      "align_self": null,
      "border": null,
      "bottom": null,
      "display": null,
      "flex": null,
      "flex_flow": null,
      "grid_area": null,
      "grid_auto_columns": null,
      "grid_auto_flow": null,
      "grid_auto_rows": null,
      "grid_column": null,
      "grid_gap": null,
      "grid_row": null,
      "grid_template_areas": null,
      "grid_template_columns": null,
      "grid_template_rows": null,
      "height": null,
      "justify_content": null,
      "justify_items": null,
      "left": null,
      "margin": null,
      "max_height": null,
      "max_width": null,
      "min_height": null,
      "min_width": null,
      "object_fit": null,
      "object_position": null,
      "order": null,
      "overflow": null,
      "overflow_x": null,
      "overflow_y": null,
      "padding": null,
      "right": null,
      "top": null,
      "visibility": null,
      "width": null
     }
    },
    "b87e114ca4794424913e21ff878e8ac4": {
     "model_module": "@jupyter-widgets/base",
     "model_name": "LayoutModel",
     "state": {
      "_model_module": "@jupyter-widgets/base",
      "_model_module_version": "1.2.0",
      "_model_name": "LayoutModel",
      "_view_count": null,
      "_view_module": "@jupyter-widgets/base",
      "_view_module_version": "1.2.0",
      "_view_name": "LayoutView",
      "align_content": null,
      "align_items": null,
      "align_self": null,
      "border": null,
      "bottom": null,
      "display": null,
      "flex": null,
      "flex_flow": null,
      "grid_area": null,
      "grid_auto_columns": null,
      "grid_auto_flow": null,
      "grid_auto_rows": null,
      "grid_column": null,
      "grid_gap": null,
      "grid_row": null,
      "grid_template_areas": null,
      "grid_template_columns": null,
      "grid_template_rows": null,
      "height": null,
      "justify_content": null,
      "justify_items": null,
      "left": null,
      "margin": null,
      "max_height": null,
      "max_width": null,
      "min_height": null,
      "min_width": null,
      "object_fit": null,
      "object_position": null,
      "order": null,
      "overflow": null,
      "overflow_x": null,
      "overflow_y": null,
      "padding": null,
      "right": null,
      "top": null,
      "visibility": null,
      "width": null
     }
    },
    "c1115ccdf6164686bd2f8856e0202be0": {
     "model_module": "@jupyter-widgets/base",
     "model_name": "LayoutModel",
     "state": {
      "_model_module": "@jupyter-widgets/base",
      "_model_module_version": "1.2.0",
      "_model_name": "LayoutModel",
      "_view_count": null,
      "_view_module": "@jupyter-widgets/base",
      "_view_module_version": "1.2.0",
      "_view_name": "LayoutView",
      "align_content": null,
      "align_items": null,
      "align_self": null,
      "border": null,
      "bottom": null,
      "display": null,
      "flex": null,
      "flex_flow": null,
      "grid_area": null,
      "grid_auto_columns": null,
      "grid_auto_flow": null,
      "grid_auto_rows": null,
      "grid_column": null,
      "grid_gap": null,
      "grid_row": null,
      "grid_template_areas": null,
      "grid_template_columns": null,
      "grid_template_rows": null,
      "height": null,
      "justify_content": null,
      "justify_items": null,
      "left": null,
      "margin": null,
      "max_height": null,
      "max_width": null,
      "min_height": null,
      "min_width": null,
      "object_fit": null,
      "object_position": null,
      "order": null,
      "overflow": null,
      "overflow_x": null,
      "overflow_y": null,
      "padding": null,
      "right": null,
      "top": null,
      "visibility": null,
      "width": null
     }
    },
    "c1e3a12630ca44b99980bb45eafb4a8c": {
     "model_module": "@jupyter-widgets/controls",
     "model_name": "DescriptionStyleModel",
     "state": {
      "_model_module": "@jupyter-widgets/controls",
      "_model_module_version": "1.5.0",
      "_model_name": "DescriptionStyleModel",
      "_view_count": null,
      "_view_module": "@jupyter-widgets/base",
      "_view_module_version": "1.2.0",
      "_view_name": "StyleView",
      "description_width": ""
     }
    },
    "db3c9f88239144a4bb24e891e732c9a1": {
     "model_module": "@jupyter-widgets/base",
     "model_name": "LayoutModel",
     "state": {
      "_model_module": "@jupyter-widgets/base",
      "_model_module_version": "1.2.0",
      "_model_name": "LayoutModel",
      "_view_count": null,
      "_view_module": "@jupyter-widgets/base",
      "_view_module_version": "1.2.0",
      "_view_name": "LayoutView",
      "align_content": null,
      "align_items": null,
      "align_self": null,
      "border": null,
      "bottom": null,
      "display": null,
      "flex": null,
      "flex_flow": null,
      "grid_area": null,
      "grid_auto_columns": null,
      "grid_auto_flow": null,
      "grid_auto_rows": null,
      "grid_column": null,
      "grid_gap": null,
      "grid_row": null,
      "grid_template_areas": null,
      "grid_template_columns": null,
      "grid_template_rows": null,
      "height": null,
      "justify_content": null,
      "justify_items": null,
      "left": null,
      "margin": null,
      "max_height": null,
      "max_width": null,
      "min_height": null,
      "min_width": null,
      "object_fit": null,
      "object_position": null,
      "order": null,
      "overflow": null,
      "overflow_x": null,
      "overflow_y": null,
      "padding": null,
      "right": null,
      "top": null,
      "visibility": null,
      "width": null
     }
    },
    "df160111bdc64e348025eaa20dac33f9": {
     "model_module": "@jupyter-widgets/controls",
     "model_name": "HBoxModel",
     "state": {
      "_dom_classes": [],
      "_model_module": "@jupyter-widgets/controls",
      "_model_module_version": "1.5.0",
      "_model_name": "HBoxModel",
      "_view_count": null,
      "_view_module": "@jupyter-widgets/controls",
      "_view_module_version": "1.5.0",
      "_view_name": "HBoxView",
      "box_style": "",
      "children": [
       "IPY_MODEL_a00da367f6804e859eea15130274eb9c",
       "IPY_MODEL_e2317a013dcd41268f51598cb9adb3df"
      ],
      "layout": "IPY_MODEL_af4d5e0e607642d3a3d256588644a116"
     }
    },
    "e12f697d69bf4771864ffd92885b9a95": {
     "model_module": "@jupyter-widgets/base",
     "model_name": "LayoutModel",
     "state": {
      "_model_module": "@jupyter-widgets/base",
      "_model_module_version": "1.2.0",
      "_model_name": "LayoutModel",
      "_view_count": null,
      "_view_module": "@jupyter-widgets/base",
      "_view_module_version": "1.2.0",
      "_view_name": "LayoutView",
      "align_content": null,
      "align_items": null,
      "align_self": null,
      "border": null,
      "bottom": null,
      "display": null,
      "flex": null,
      "flex_flow": null,
      "grid_area": null,
      "grid_auto_columns": null,
      "grid_auto_flow": null,
      "grid_auto_rows": null,
      "grid_column": null,
      "grid_gap": null,
      "grid_row": null,
      "grid_template_areas": null,
      "grid_template_columns": null,
      "grid_template_rows": null,
      "height": null,
      "justify_content": null,
      "justify_items": null,
      "left": null,
      "margin": null,
      "max_height": null,
      "max_width": null,
      "min_height": null,
      "min_width": null,
      "object_fit": null,
      "object_position": null,
      "order": null,
      "overflow": null,
      "overflow_x": null,
      "overflow_y": null,
      "padding": null,
      "right": null,
      "top": null,
      "visibility": null,
      "width": null
     }
    },
    "e2317a013dcd41268f51598cb9adb3df": {
     "model_module": "@jupyter-widgets/controls",
     "model_name": "HTMLModel",
     "state": {
      "_dom_classes": [],
      "_model_module": "@jupyter-widgets/controls",
      "_model_module_version": "1.5.0",
      "_model_name": "HTMLModel",
      "_view_count": null,
      "_view_module": "@jupyter-widgets/controls",
      "_view_module_version": "1.5.0",
      "_view_name": "HTMLView",
      "description": "",
      "description_tooltip": null,
      "layout": "IPY_MODEL_b87e114ca4794424913e21ff878e8ac4",
      "placeholder": "​",
      "style": "IPY_MODEL_40d4c7ddbd01434aa12d31f7e9fdf634",
      "value": " 5120/? [00:14&lt;00:00, 348.91it/s]"
     }
    },
    "ff5a8b24799a410793f4eb3c6f60e187": {
     "model_module": "@jupyter-widgets/base",
     "model_name": "LayoutModel",
     "state": {
      "_model_module": "@jupyter-widgets/base",
      "_model_module_version": "1.2.0",
      "_model_name": "LayoutModel",
      "_view_count": null,
      "_view_module": "@jupyter-widgets/base",
      "_view_module_version": "1.2.0",
      "_view_name": "LayoutView",
      "align_content": null,
      "align_items": null,
      "align_self": null,
      "border": null,
      "bottom": null,
      "display": null,
      "flex": null,
      "flex_flow": null,
      "grid_area": null,
      "grid_auto_columns": null,
      "grid_auto_flow": null,
      "grid_auto_rows": null,
      "grid_column": null,
      "grid_gap": null,
      "grid_row": null,
      "grid_template_areas": null,
      "grid_template_columns": null,
      "grid_template_rows": null,
      "height": null,
      "justify_content": null,
      "justify_items": null,
      "left": null,
      "margin": null,
      "max_height": null,
      "max_width": null,
      "min_height": null,
      "min_width": null,
      "object_fit": null,
      "object_position": null,
      "order": null,
      "overflow": null,
      "overflow_x": null,
      "overflow_y": null,
      "padding": null,
      "right": null,
      "top": null,
      "visibility": null,
      "width": null
     }
    }
   }
  }
 },
 "nbformat": 4,
 "nbformat_minor": 1
}
