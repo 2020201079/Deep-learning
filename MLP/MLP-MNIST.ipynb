{
 "cells": [
  {
   "cell_type": "code",
   "execution_count": 1,
   "metadata": {
    "id": "G9WhxBsHEa1U"
   },
   "outputs": [],
   "source": [
    "import torch\n",
    "import torchvision\n",
    "import torchvision.transforms as transforms\n",
    "import matplotlib.pyplot as plt\n",
    "import numpy as np\n",
    "import torch.nn as nn\n",
    "import torch.nn.functional as F\n",
    "import torch.optim as optim\n",
    "from torchsummary import summary\n",
    "from torch.optim.lr_scheduler import ExponentialLR"
   ]
  },
  {
   "cell_type": "code",
   "execution_count": 2,
   "metadata": {
    "colab": {
     "base_uri": "https://localhost:8080/"
    },
    "id": "JyAca6BsEsfg",
    "outputId": "ba8162b4-d8a1-451f-b46c-0e36d7fe2287"
   },
   "outputs": [
    {
     "name": "stdout",
     "output_type": "stream",
     "text": [
      "cuda:0\n"
     ]
    }
   ],
   "source": [
    "device = torch.device(\"cuda:0\" if torch.cuda.is_available() else \"cpu\")\n",
    "\n",
    "# Assuming that we are on a CUDA machine, this should print a CUDA device:\n",
    "\n",
    "print(device)"
   ]
  },
  {
   "cell_type": "code",
   "execution_count": 3,
   "metadata": {
    "colab": {
     "base_uri": "https://localhost:8080/",
     "height": 573,
     "referenced_widgets": [
      "ad29b77e1254410ebeb54164363ed938",
      "43dd5d444a284e8e90f57f3f7484bdc3",
      "60ae379976144ab18009df6acbe49030",
      "29a85f9cb77b466cb2f5b636b5838dcc",
      "d04697e5fcc54161af46169b73f30e51",
      "869bda046cc84cafac38ee34a410631e",
      "96a01fd8e00343189becf98102833031",
      "7d470b6b6d064833bd4f3178d7a16fba",
      "93c4696450884b4a8e6ff2d22e8d36f2",
      "60bbfd103ab84b42b4893d0e8c6a2318",
      "5d72b5767012448e82d382d60f277bc4",
      "aaa84726ffb545e2aa607490c407a018",
      "ed4eaac6803f4ac39b02055859c92569",
      "68f4359c497e4f79ac93b9f195ef407d",
      "11dcb783631a4dcd9fa2a3ea6a9b73e0",
      "d23d0dbd8cf148449fe4216d49e3999b",
      "ad5fa924556c434abdce119ae98236d4",
      "62297f3169d1400896e0d05fd0319a09",
      "88dbe7c3ad974935bf57d76a7400ec3e",
      "5b21754f9ac34ef4b27748c92e9b012b",
      "1e6d55d96ed24d6d96fe2bbca0c3d43c",
      "47883c25477d4f65a63a654226e7465a",
      "69fbaef0130e4807b961bab267c918ad",
      "3d2b7c9a23ed41b48c945589e6c03107",
      "2f5c0174570b4424a777100659adb70b",
      "429e2babcdd84f65a959be1780c373e7",
      "cd9748ad7e56435886ad7334e328d961",
      "ba39d9d94484434d8ca77974fb48c159",
      "5a8112c9b9974b32a2a3cae3a4f9f7f6",
      "26c8bc4bee714b82b477f69d62157de3",
      "e3f808f1bf2f41cb8a9b3f16ae5a3750",
      "f15d3a39531e43a79a7b240844873fda"
     ]
    },
    "id": "tLJsnjYTFLlf",
    "outputId": "44f230f2-f7f6-4219-bcc2-33dc75c8ce92"
   },
   "outputs": [
    {
     "name": "stdout",
     "output_type": "stream",
     "text": [
      "Downloading http://yann.lecun.com/exdb/mnist/train-images-idx3-ubyte.gz\n",
      "Downloading http://yann.lecun.com/exdb/mnist/train-images-idx3-ubyte.gz to dataset/MNIST/raw/train-images-idx3-ubyte.gz\n"
     ]
    },
    {
     "data": {
      "application/vnd.jupyter.widget-view+json": {
       "model_id": "ad29b77e1254410ebeb54164363ed938",
       "version_major": 2,
       "version_minor": 0
      },
      "text/plain": [
       "HBox(children=(FloatProgress(value=0.0, max=9912422.0), HTML(value='')))"
      ]
     },
     "metadata": {
      "tags": []
     },
     "output_type": "display_data"
    },
    {
     "name": "stdout",
     "output_type": "stream",
     "text": [
      "\n",
      "Extracting dataset/MNIST/raw/train-images-idx3-ubyte.gz to dataset/MNIST/raw\n",
      "\n",
      "Downloading http://yann.lecun.com/exdb/mnist/train-labels-idx1-ubyte.gz\n",
      "Downloading http://yann.lecun.com/exdb/mnist/train-labels-idx1-ubyte.gz to dataset/MNIST/raw/train-labels-idx1-ubyte.gz\n"
     ]
    },
    {
     "data": {
      "application/vnd.jupyter.widget-view+json": {
       "model_id": "93c4696450884b4a8e6ff2d22e8d36f2",
       "version_major": 2,
       "version_minor": 0
      },
      "text/plain": [
       "HBox(children=(FloatProgress(value=0.0, max=28881.0), HTML(value='')))"
      ]
     },
     "metadata": {
      "tags": []
     },
     "output_type": "display_data"
    },
    {
     "name": "stdout",
     "output_type": "stream",
     "text": [
      "\n",
      "Extracting dataset/MNIST/raw/train-labels-idx1-ubyte.gz to dataset/MNIST/raw\n",
      "\n",
      "Downloading http://yann.lecun.com/exdb/mnist/t10k-images-idx3-ubyte.gz\n",
      "Downloading http://yann.lecun.com/exdb/mnist/t10k-images-idx3-ubyte.gz to dataset/MNIST/raw/t10k-images-idx3-ubyte.gz\n"
     ]
    },
    {
     "data": {
      "application/vnd.jupyter.widget-view+json": {
       "model_id": "ad5fa924556c434abdce119ae98236d4",
       "version_major": 2,
       "version_minor": 0
      },
      "text/plain": [
       "HBox(children=(FloatProgress(value=0.0, max=1648877.0), HTML(value='')))"
      ]
     },
     "metadata": {
      "tags": []
     },
     "output_type": "display_data"
    },
    {
     "name": "stdout",
     "output_type": "stream",
     "text": [
      "\n",
      "Extracting dataset/MNIST/raw/t10k-images-idx3-ubyte.gz to dataset/MNIST/raw\n",
      "\n",
      "Downloading http://yann.lecun.com/exdb/mnist/t10k-labels-idx1-ubyte.gz\n",
      "Downloading http://yann.lecun.com/exdb/mnist/t10k-labels-idx1-ubyte.gz to dataset/MNIST/raw/t10k-labels-idx1-ubyte.gz\n"
     ]
    },
    {
     "data": {
      "application/vnd.jupyter.widget-view+json": {
       "model_id": "2f5c0174570b4424a777100659adb70b",
       "version_major": 2,
       "version_minor": 0
      },
      "text/plain": [
       "HBox(children=(FloatProgress(value=0.0, max=4542.0), HTML(value='')))"
      ]
     },
     "metadata": {
      "tags": []
     },
     "output_type": "display_data"
    },
    {
     "name": "stdout",
     "output_type": "stream",
     "text": [
      "\n",
      "Extracting dataset/MNIST/raw/t10k-labels-idx1-ubyte.gz to dataset/MNIST/raw\n",
      "\n",
      "Processing...\n",
      "Done!\n"
     ]
    },
    {
     "name": "stderr",
     "output_type": "stream",
     "text": [
      "/usr/local/lib/python3.7/dist-packages/torchvision/datasets/mnist.py:502: UserWarning: The given NumPy array is not writeable, and PyTorch does not support non-writeable tensors. This means you can write to the underlying (supposedly non-writeable) NumPy array using the tensor. You may want to copy the array to protect its data or make it writeable before converting it to a tensor. This type of warning will be suppressed for the rest of this program. (Triggered internally at  /pytorch/torch/csrc/utils/tensor_numpy.cpp:143.)\n",
      "  return torch.from_numpy(parsed.astype(m[2], copy=False)).view(*s)\n"
     ]
    }
   ],
   "source": [
    "train_set = torchvision.datasets.MNIST(root='dataset/',train=True,transform=transforms.ToTensor(),download=True)\n",
    "test_set = torchvision.datasets.MNIST(root='dataset/',train=False,transform=transforms.ToTensor(),download=True)"
   ]
  },
  {
   "cell_type": "code",
   "execution_count": 4,
   "metadata": {
    "id": "N-GUrH7IFUze"
   },
   "outputs": [],
   "source": [
    "train_loader = torch.utils.data.DataLoader(train_set,batch_size=10)\n",
    "test_loader = torch.utils.data.DataLoader(test_set,batch_size=10)"
   ]
  },
  {
   "cell_type": "code",
   "execution_count": 5,
   "metadata": {
    "colab": {
     "base_uri": "https://localhost:8080/",
     "height": 156
    },
    "id": "oTKT6TdKFXPx",
    "outputId": "bf620319-8d95-43e1-9209-05dca7c98df8"
   },
   "outputs": [
    {
     "name": "stdout",
     "output_type": "stream",
     "text": [
      "labels: tensor([5, 0, 4, 1, 9, 2, 1, 3, 1, 4])\n"
     ]
    },
    {
     "data": {
      "image/png": "[encoded data removed]",
      "text/plain": [
       "<Figure size 1080x1080 with 1 Axes>"
      ]
     },
     "metadata": {
      "needs_background": "light",
      "tags": []
     },
     "output_type": "display_data"
    }
   ],
   "source": [
    "batch = next(iter(train_loader))\n",
    "images, labels = batch\n",
    "\n",
    "grid = torchvision.utils.make_grid(images, nrow=10)\n",
    "\n",
    "plt.figure(figsize=(15,15))\n",
    "plt.imshow(np.transpose(grid,(1,2,0)))\n",
    "\n",
    "print('labels:',labels)"
   ]
  },
  {
   "cell_type": "code",
   "execution_count": 6,
   "metadata": {
    "id": "NEZ7AXvxFaIb"
   },
   "outputs": [],
   "source": [
    "class Network(nn.Module):\n",
    "    def __init__(self):\n",
    "        super(Network,self).__init__()\n",
    "        self.fc1 = nn.Linear(in_features=28*28,out_features=512) # 28*28 --> 512\n",
    "        self.fc2 = nn.Linear(in_features=512,out_features=512) # 512 --> 512\n",
    "        self.fc3 = nn.Linear(in_features=512,out_features=10) # 512 --> 10\n",
    "        self.dropout = nn.Dropout(0.2)\n",
    "    \n",
    "    def forward(self,x):\n",
    "        x = x.view(-1,28*28)\n",
    "        x = F.relu(self.fc1(x))\n",
    "        x = self.dropout(x)\n",
    "        x = F.relu(self.fc2(x))\n",
    "        x = self.dropout(x)\n",
    "        x = self.fc3(x)\n",
    "        return x"
   ]
  },
  {
   "cell_type": "markdown",
   "metadata": {
    "id": "SYYLtzPr2QC7"
   },
   "source": [
    "Good practice is to start your weights in the range of [-y, y] where y=1/sqrt(n)\n",
    "(n is the number of inputs to a given neuron)."
   ]
  },
  {
   "cell_type": "code",
   "execution_count": 7,
   "metadata": {
    "id": "Num2DyQ213Ij"
   },
   "outputs": [],
   "source": [
    "def weights_init_uniform_rule(m):\n",
    "    classname = m.__class__.__name__\n",
    "    # for every Linear layer in a model..\n",
    "    if classname.find('Linear') != -1:\n",
    "        # get the number of the inputs\n",
    "        n = m.in_features\n",
    "        y = 1.0/np.sqrt(n)\n",
    "        m.weight.data.uniform_(-y, y)\n",
    "        m.bias.data.fill_(0)"
   ]
  },
  {
   "cell_type": "code",
   "execution_count": 8,
   "metadata": {
    "id": "z0UptF2j2nU3"
   },
   "outputs": [],
   "source": [
    "def weights_init_normal(m):\n",
    "    '''Takes in a module and initializes all linear layers with weight\n",
    "        values taken from a normal distribution.'''\n",
    "\n",
    "    classname = m.__class__.__name__\n",
    "    # for every Linear layer in a model\n",
    "    if classname.find('Linear') != -1:\n",
    "        y = m.in_features\n",
    "    # m.weight.data shoud be taken from a normal distribution\n",
    "        m.weight.data.normal_(0.0,1/np.sqrt(y))\n",
    "    # m.bias.data should be 0\n",
    "        m.bias.data.fill_(0)"
   ]
  },
  {
   "cell_type": "markdown",
   "metadata": {
    "id": "Xzw0lvw7_My8"
   },
   "source": [
    "# 1) Adam Optimizer"
   ]
  },
  {
   "cell_type": "code",
   "execution_count": 9,
   "metadata": {
    "id": "euQ7pJ_eHOL-"
   },
   "outputs": [],
   "source": [
    "#Initialize all the models , optimizers , scheduler in this cell\n",
    "network_uniform = Network()\n",
    "network_uniform.to(device)\n",
    "network_uniform.apply(weights_init_uniform_rule)\n",
    "optimizer_uniform = optim.Adam(network_uniform.parameters(),lr=0.0001)\n",
    "scheduler_uniform = ExponentialLR(optimizer_uniform, gamma=0.95)\n",
    "\n",
    "network_normal = Network()\n",
    "network_normal.to(device)\n",
    "network_normal.apply(weights_init_normal)\n",
    "optimizer_normal = optim.Adam(network_normal.parameters(),lr=0.0001)\n",
    "scheduler_normal = ExponentialLR(optimizer_normal, gamma=0.95)\n",
    "\n",
    "network_xavier = Network()\n",
    "network_xavier.to(device)\n",
    "nn.init.xavier_normal_(network_xavier.fc1.weight)\n",
    "nn.init.xavier_normal_(network_xavier.fc2.weight)\n",
    "nn.init.xavier_normal_(network_xavier.fc3.weight)\n",
    "optimizer_xavier = optim.Adam(network_xavier.parameters(),lr=0.0001)\n",
    "scheduler_xavier = ExponentialLR(optimizer_xavier, gamma=0.95)"
   ]
  },
  {
   "cell_type": "markdown",
   "metadata": {
    "id": "8m6J4bE2_FXJ"
   },
   "source": [
    " ## uniform initialization "
   ]
  },
  {
   "cell_type": "code",
   "execution_count": 10,
   "metadata": {
    "colab": {
     "base_uri": "https://localhost:8080/"
    },
    "id": "fBEvT8hTHgA8",
    "outputId": "cf219929-5be7-4485-e4f7-60a93e080ae3"
   },
   "outputs": [
    {
     "name": "stdout",
     "output_type": "stream",
     "text": [
      "epoch:  0  lr:  9.5e-05 loss:  2113.2050243329722 accuracy:  0.9376\n",
      "epoch:  1  lr:  9.025e-05 loss:  906.6585509361175 accuracy:  0.9605\n",
      "epoch:  2  lr:  8.573749999999999e-05 loss:  616.3994762368238 accuracy:  0.9688\n",
      "epoch:  3  lr:  8.145062499999998e-05 loss:  466.6746101457902 accuracy:  0.9727\n",
      "epoch:  4  lr:  7.737809374999998e-05 loss:  366.70504772903587 accuracy:  0.975\n",
      "epoch:  5  lr:  7.350918906249998e-05 loss:  285.462615416207 accuracy:  0.9773\n",
      "epoch:  6  lr:  6.983372960937497e-05 loss:  238.9858348230964 accuracy:  0.9739\n",
      "epoch:  7  lr:  6.634204312890622e-05 loss:  199.1783985137472 accuracy:  0.9788\n",
      "epoch:  8  lr:  6.30249409724609e-05 loss:  162.15766646860902 accuracy:  0.979\n",
      "epoch:  9  lr:  5.987369392383786e-05 loss:  141.70760258423024 accuracy:  0.9787\n"
     ]
    }
   ],
   "source": [
    "network_uniform_loss = []\n",
    "network_uniform_accuracy = []\n",
    "for epoch in range(10):\n",
    "    total_loss = 0.0\n",
    "    for batch in train_loader:\n",
    "        images, labels = batch[0].to(device),batch[1].to(device)\n",
    "        \n",
    "        preds = network_uniform(images)\n",
    "        loss = F.cross_entropy(preds,labels)\n",
    "        \n",
    "        optimizer_uniform.zero_grad()\n",
    "        loss.backward()\n",
    "        optimizer_uniform.step()\n",
    "        total_loss += loss.item()\n",
    "    scheduler_uniform.step()\n",
    "    network_uniform_loss.append(total_loss)\n",
    "\n",
    "    total = 0\n",
    "    correct = 0\n",
    "    for data in test_loader:\n",
    "        images, labels = data[0].to(device),data[1].to(device)\n",
    "        outputs = network_uniform(images)\n",
    "        _, predicted = torch.max(outputs.data, 1)\n",
    "        total += labels.size(0)\n",
    "        correct += (predicted == labels).sum().item()\n",
    "\n",
    "    network_uniform_accuracy.append(correct/total)\n",
    "    print(\"epoch: \",epoch,\" lr: \",optimizer_uniform.param_groups[0]['lr'],\"loss: \",total_loss,\"accuracy: \",correct/total)"
   ]
  },
  {
   "cell_type": "code",
   "execution_count": 11,
   "metadata": {
    "colab": {
     "base_uri": "https://localhost:8080/",
     "height": 282
    },
    "id": "x1VloJy-H92m",
    "outputId": "cb79a990-c72b-4e42-d894-c46752c9cab9"
   },
   "outputs": [
    {
     "data": {
      "image/png": "[encoded data removed]",
      "text/plain": [
       "<Figure size 432x288 with 1 Axes>"
      ]
     },
     "metadata": {
      "needs_background": "light",
      "tags": []
     },
     "output_type": "display_data"
    },
    {
     "name": "stdout",
     "output_type": "stream",
     "text": [
      "best accuracy is :  0.9787\n"
     ]
    }
   ],
   "source": [
    "plt.plot(network_uniform_accuracy,'ro')\n",
    "plt.ylabel('uniform initialization accuracy')\n",
    "plt.show()\n",
    "print(\"best accuracy is : \",network_uniform_accuracy[-1])"
   ]
  },
  {
   "cell_type": "code",
   "execution_count": 29,
   "metadata": {
    "colab": {
     "base_uri": "https://localhost:8080/",
     "height": 265
    },
    "id": "RALwG0wLsa_4",
    "outputId": "68d6eb61-8266-43ee-8c7c-2b99fbc4c645"
   },
   "outputs": [
    {
     "data": {
      "image/png": "[encoded data removed]",
      "text/plain": [
       "<Figure size 432x288 with 1 Axes>"
      ]
     },
     "metadata": {
      "needs_background": "light",
      "tags": []
     },
     "output_type": "display_data"
    }
   ],
   "source": [
    "plt.plot(network_uniform_loss,'ro')\n",
    "plt.ylabel('uniform initialization loss')\n",
    "plt.show()"
   ]
  },
  {
   "cell_type": "markdown",
   "metadata": {
    "id": "Q64mZPpk_Uvs"
   },
   "source": [
    "## normal initialization"
   ]
  },
  {
   "cell_type": "code",
   "execution_count": 12,
   "metadata": {
    "colab": {
     "base_uri": "https://localhost:8080/"
    },
    "id": "AYAyFEh067gK",
    "outputId": "67c30edf-8a99-4727-a296-a823c1ee8660"
   },
   "outputs": [
    {
     "name": "stdout",
     "output_type": "stream",
     "text": [
      "epoch:  0  lr:  9.5e-05 loss:  1997.2889525550127 accuracy:  0.9387\n",
      "epoch:  1  lr:  9.025e-05 loss:  840.3818051269918 accuracy:  0.9602\n",
      "epoch:  2  lr:  8.573749999999999e-05 loss:  574.6063152455517 accuracy:  0.9696\n",
      "epoch:  3  lr:  8.145062499999998e-05 loss:  426.3311362545164 accuracy:  0.9703\n",
      "epoch:  4  lr:  7.737809374999998e-05 loss:  336.38155954581634 accuracy:  0.9744\n",
      "epoch:  5  lr:  7.350918906249998e-05 loss:  274.2427097621039 accuracy:  0.9757\n",
      "epoch:  6  lr:  6.983372960937497e-05 loss:  221.72888276435788 accuracy:  0.9766\n",
      "epoch:  7  lr:  6.634204312890622e-05 loss:  183.96878065532383 accuracy:  0.9771\n",
      "epoch:  8  lr:  6.30249409724609e-05 loss:  151.53859205221897 accuracy:  0.9802\n",
      "epoch:  9  lr:  5.987369392383786e-05 loss:  125.29309937362837 accuracy:  0.9784\n"
     ]
    }
   ],
   "source": [
    "network_normal_loss = []\n",
    "network_normal_accuracy = []\n",
    "for epoch in range(10):\n",
    "    total_loss = 0.0\n",
    "    for batch in train_loader:\n",
    "        images, labels = batch[0].to(device),batch[1].to(device)\n",
    "        \n",
    "        preds = network_normal(images)\n",
    "        loss = F.cross_entropy(preds,labels)\n",
    "        \n",
    "        optimizer_normal.zero_grad()\n",
    "        loss.backward()\n",
    "        optimizer_normal.step()\n",
    "        total_loss += loss.item()\n",
    "    scheduler_normal.step()\n",
    "    network_normal_loss.append(total_loss)\n",
    "\n",
    "    total = 0\n",
    "    correct = 0\n",
    "    for data in test_loader:\n",
    "        images, labels = data[0].to(device),data[1].to(device)\n",
    "        outputs = network_normal(images)\n",
    "        _, predicted = torch.max(outputs.data, 1)\n",
    "        total += labels.size(0)\n",
    "        correct += (predicted == labels).sum().item()\n",
    "\n",
    "    network_normal_accuracy.append(correct/total)\n",
    "    print(\"epoch: \",epoch,\" lr: \",optimizer_normal.param_groups[0]['lr'],\"loss: \",total_loss,\"accuracy: \",correct/total)"
   ]
  },
  {
   "cell_type": "code",
   "execution_count": 13,
   "metadata": {
    "colab": {
     "base_uri": "https://localhost:8080/",
     "height": 282
    },
    "id": "6bDKwplZ_3dn",
    "outputId": "edf86373-9f20-4fdd-8a31-1cc31e4dfe13"
   },
   "outputs": [
    {
     "data": {
      "image/png": "[encoded data removed]",
      "text/plain": [
       "<Figure size 432x288 with 1 Axes>"
      ]
     },
     "metadata": {
      "needs_background": "light",
      "tags": []
     },
     "output_type": "display_data"
    },
    {
     "name": "stdout",
     "output_type": "stream",
     "text": [
      "best accuracy is :  0.9784\n"
     ]
    }
   ],
   "source": [
    "plt.plot(network_normal_accuracy,'ro')\n",
    "plt.ylabel('normal initialization accuracy')\n",
    "plt.show()\n",
    "print(\"best accuracy is : \",network_normal_accuracy[-1])"
   ]
  },
  {
   "cell_type": "code",
   "execution_count": 30,
   "metadata": {
    "colab": {
     "base_uri": "https://localhost:8080/",
     "height": 265
    },
    "id": "B5ppQ4eu2-gs",
    "outputId": "84ac6710-3fc3-42d9-f358-2598ef7f3c13"
   },
   "outputs": [
    {
     "data": {
      "image/png": "[encoded data removed]",
      "text/plain": [
       "<Figure size 432x288 with 1 Axes>"
      ]
     },
     "metadata": {
      "needs_background": "light",
      "tags": []
     },
     "output_type": "display_data"
    }
   ],
   "source": [
    "plt.plot(network_normal_loss,'ro')\n",
    "plt.ylabel('normal initialization loss')\n",
    "plt.show()"
   ]
  },
  {
   "cell_type": "markdown",
   "metadata": {
    "id": "ayQeyhXzC33K"
   },
   "source": [
    "## Xavier Initialization"
   ]
  },
  {
   "cell_type": "code",
   "execution_count": 14,
   "metadata": {
    "colab": {
     "base_uri": "https://localhost:8080/"
    },
    "id": "M2A5IXMy_-AI",
    "outputId": "5def00e8-0a77-4fd2-f4ea-f1b3ecf24b98"
   },
   "outputs": [
    {
     "name": "stdout",
     "output_type": "stream",
     "text": [
      "epoch:  0  lr:  9.5e-05 loss:  1877.7185508748516 accuracy:  0.9478\n",
      "epoch:  1  lr:  9.025e-05 loss:  790.929168712406 accuracy:  0.9649\n",
      "epoch:  2  lr:  8.573749999999999e-05 loss:  536.0857742841254 accuracy:  0.9667\n",
      "epoch:  3  lr:  8.145062499999998e-05 loss:  398.89230624226 accuracy:  0.9714\n",
      "epoch:  4  lr:  7.737809374999998e-05 loss:  314.17979320324775 accuracy:  0.973\n",
      "epoch:  5  lr:  7.350918906249998e-05 loss:  255.8341552953516 accuracy:  0.9766\n",
      "epoch:  6  lr:  6.983372960937497e-05 loss:  205.9715669527077 accuracy:  0.9753\n",
      "epoch:  7  lr:  6.634204312890622e-05 loss:  169.8597937913678 accuracy:  0.9789\n",
      "epoch:  8  lr:  6.30249409724609e-05 loss:  138.98173008631557 accuracy:  0.9777\n",
      "epoch:  9  lr:  5.987369392383786e-05 loss:  118.09105967790128 accuracy:  0.9798\n"
     ]
    }
   ],
   "source": [
    "network_xavier_loss = []\n",
    "network_xavier_accuracy = []\n",
    "for epoch in range(10):\n",
    "    total_loss = 0.0\n",
    "    for batch in train_loader:\n",
    "        images, labels = batch[0].to(device),batch[1].to(device)\n",
    "        \n",
    "        preds = network_xavier(images)\n",
    "        loss = F.cross_entropy(preds,labels)\n",
    "        \n",
    "        optimizer_xavier.zero_grad()\n",
    "        loss.backward()\n",
    "        optimizer_xavier.step()\n",
    "        total_loss += loss.item()\n",
    "    scheduler_xavier.step()\n",
    "    network_xavier_loss.append(total_loss)\n",
    "\n",
    "    total = 0\n",
    "    correct = 0\n",
    "    for data in test_loader:\n",
    "        images, labels = data[0].to(device),data[1].to(device)\n",
    "        outputs = network_xavier(images)\n",
    "        _, predicted = torch.max(outputs.data, 1)\n",
    "        total += labels.size(0)\n",
    "        correct += (predicted == labels).sum().item()\n",
    "\n",
    "    network_xavier_accuracy.append(correct/total)\n",
    "    print(\"epoch: \",epoch,\" lr: \",optimizer_xavier.param_groups[0]['lr'],\"loss: \",total_loss,\"accuracy: \",correct/total)"
   ]
  },
  {
   "cell_type": "code",
   "execution_count": 15,
   "metadata": {
    "colab": {
     "base_uri": "https://localhost:8080/",
     "height": 282
    },
    "id": "22wPiaplAbX_",
    "outputId": "83111dc9-4ae5-4fd6-f9e3-771fc9a36cdb"
   },
   "outputs": [
    {
     "data": {
      "image/png": "[encoded data removed]",
      "text/plain": [
       "<Figure size 432x288 with 1 Axes>"
      ]
     },
     "metadata": {
      "needs_background": "light",
      "tags": []
     },
     "output_type": "display_data"
    },
    {
     "name": "stdout",
     "output_type": "stream",
     "text": [
      "best accuracy is :  0.9798\n"
     ]
    }
   ],
   "source": [
    "plt.plot(network_xavier_accuracy,'ro')\n",
    "plt.ylabel('xavier initialization accuracy')\n",
    "plt.show()\n",
    "print(\"best accuracy is : \",network_xavier_accuracy[-1])"
   ]
  },
  {
   "cell_type": "code",
   "execution_count": 31,
   "metadata": {
    "colab": {
     "base_uri": "https://localhost:8080/",
     "height": 265
    },
    "id": "CYKGxn7W3IXB",
    "outputId": "cbcfb5de-3989-4d92-9132-5afe343692ce"
   },
   "outputs": [
    {
     "data": {
      "image/png": "[encoded data removed]",
      "text/plain": [
       "<Figure size 432x288 with 1 Axes>"
      ]
     },
     "metadata": {
      "needs_background": "light",
      "tags": []
     },
     "output_type": "display_data"
    }
   ],
   "source": [
    "plt.plot(network_xavier_loss,'ro')\n",
    "plt.ylabel('xavier initialization loss')\n",
    "plt.show()"
   ]
  },
  {
   "cell_type": "markdown",
   "metadata": {
    "id": "UBMO558MBDxR"
   },
   "source": [
    "# 2) RMSPRop Optimizer"
   ]
  },
  {
   "cell_type": "code",
   "execution_count": 16,
   "metadata": {
    "id": "Sr-LGbpyBUMi"
   },
   "outputs": [],
   "source": [
    "network_uniform_rms = Network()\n",
    "network_uniform_rms.to(device)\n",
    "network_uniform_rms.apply(weights_init_uniform_rule)\n",
    "optimizer_uniform_rms = optim.RMSprop(network_uniform_rms.parameters(),lr=0.0001)\n",
    "scheduler_uniform_rms = ExponentialLR(optimizer_uniform_rms, gamma=0.95)\n",
    "\n",
    "network_normal_rms = Network()\n",
    "network_normal_rms.to(device)\n",
    "network_normal_rms.apply(weights_init_normal)\n",
    "optimizer_normal_rms = optim.RMSprop(network_normal_rms.parameters(),lr=0.0001)\n",
    "scheduler_normal_rms = ExponentialLR(optimizer_normal_rms, gamma=0.95)\n",
    "\n",
    "network_xavier_rms = Network()\n",
    "network_xavier_rms.to(device)\n",
    "nn.init.xavier_normal_(network_xavier_rms.fc1.weight)\n",
    "nn.init.xavier_normal_(network_xavier_rms.fc2.weight)\n",
    "nn.init.xavier_normal_(network_xavier_rms.fc3.weight)\n",
    "optimizer_xavier_rms = optim.RMSprop(network_xavier_rms.parameters(),lr=0.0001)\n",
    "scheduler_xavier_rms = ExponentialLR(optimizer_xavier_rms, gamma=0.95)"
   ]
  },
  {
   "cell_type": "markdown",
   "metadata": {
    "id": "E3hzlIlzCDiX"
   },
   "source": [
    "## Uniform Initialization"
   ]
  },
  {
   "cell_type": "code",
   "execution_count": 17,
   "metadata": {
    "colab": {
     "base_uri": "https://localhost:8080/"
    },
    "id": "prDa9ZK1Btp7",
    "outputId": "6eca2c59-b0d3-4d86-a2bc-6b0d6678f863"
   },
   "outputs": [
    {
     "name": "stdout",
     "output_type": "stream",
     "text": [
      "epoch:  0  lr:  9.5e-05 loss:  1923.6185862979037 accuracy:  0.9415\n",
      "epoch:  1  lr:  9.025e-05 loss:  873.6131635477577 accuracy:  0.96\n",
      "epoch:  2  lr:  8.573749999999999e-05 loss:  613.3939426688048 accuracy:  0.9641\n",
      "epoch:  3  lr:  8.145062499999998e-05 loss:  472.18340023366545 accuracy:  0.9717\n",
      "epoch:  4  lr:  7.737809374999998e-05 loss:  385.5992906076608 accuracy:  0.9713\n",
      "epoch:  5  lr:  7.350918906249998e-05 loss:  333.4922797983586 accuracy:  0.9743\n",
      "epoch:  6  lr:  6.983372960937497e-05 loss:  277.23933596839834 accuracy:  0.9733\n",
      "epoch:  7  lr:  6.634204312890622e-05 loss:  252.67051112892216 accuracy:  0.9762\n",
      "epoch:  8  lr:  6.30249409724609e-05 loss:  216.46875251968072 accuracy:  0.9756\n",
      "epoch:  9  lr:  5.987369392383786e-05 loss:  190.33186323231382 accuracy:  0.9786\n"
     ]
    }
   ],
   "source": [
    "network_uniform_rms_loss = []\n",
    "network_uniform_rms_accuracy = []\n",
    "for epoch in range(10):\n",
    "    total_loss = 0.0\n",
    "    for batch in train_loader:\n",
    "        images, labels = batch[0].to(device),batch[1].to(device)\n",
    "        \n",
    "        preds = network_uniform_rms(images)\n",
    "        loss = F.cross_entropy(preds,labels)\n",
    "        \n",
    "        optimizer_uniform_rms.zero_grad()\n",
    "        loss.backward()\n",
    "        optimizer_uniform_rms.step()\n",
    "        total_loss += loss.item()\n",
    "    scheduler_uniform_rms.step()\n",
    "    network_uniform_rms_loss.append(total_loss)\n",
    "\n",
    "    total = 0\n",
    "    correct = 0\n",
    "    for data in test_loader:\n",
    "        images, labels = data[0].to(device),data[1].to(device)\n",
    "        outputs = network_uniform_rms(images)\n",
    "        _, predicted = torch.max(outputs.data, 1)\n",
    "        total += labels.size(0)\n",
    "        correct += (predicted == labels).sum().item()\n",
    "\n",
    "    network_uniform_rms_accuracy.append(correct/total)\n",
    "    print(\"epoch: \",epoch,\" lr: \",optimizer_uniform_rms.param_groups[0]['lr'],\"loss: \",total_loss,\"accuracy: \",correct/total)"
   ]
  },
  {
   "cell_type": "code",
   "execution_count": 90,
   "metadata": {
    "colab": {
     "base_uri": "https://localhost:8080/",
     "height": 282
    },
    "id": "pOmcZPGSCk2M",
    "outputId": "4b58754c-6417-4b64-c6cb-87df728f6403"
   },
   "outputs": [
    {
     "data": {
      "image/png": "[encoded data removed]",
      "text/plain": [
       "<Figure size 432x288 with 1 Axes>"
      ]
     },
     "metadata": {
      "needs_background": "light",
      "tags": []
     },
     "output_type": "display_data"
    },
    {
     "name": "stdout",
     "output_type": "stream",
     "text": [
      "best accuracy is :  0.9762\n"
     ]
    }
   ],
   "source": [
    "plt.plot(network_uniform_rms_accuracy,'ro')\n",
    "plt.ylabel('uniform initialization accuracy')\n",
    "plt.show()\n",
    "print(\"best accuracy is : \",network_uniform_rms_accuracy[-1])"
   ]
  },
  {
   "cell_type": "code",
   "execution_count": 32,
   "metadata": {
    "colab": {
     "base_uri": "https://localhost:8080/",
     "height": 268
    },
    "id": "-PNMz2FP3t-_",
    "outputId": "3f084b44-47c9-4e7e-b5af-d8e4600b8678"
   },
   "outputs": [
    {
     "data": {
      "image/png": "[encoded data removed]",
      "text/plain": [
       "<Figure size 432x288 with 1 Axes>"
      ]
     },
     "metadata": {
      "needs_background": "light",
      "tags": []
     },
     "output_type": "display_data"
    }
   ],
   "source": [
    "plt.plot(network_uniform_rms_loss,'ro')\n",
    "plt.ylabel('uniform initialization loss')\n",
    "plt.show()"
   ]
  },
  {
   "cell_type": "markdown",
   "metadata": {
    "id": "o34E4IrqDE-b"
   },
   "source": [
    "## Normal Initialization"
   ]
  },
  {
   "cell_type": "code",
   "execution_count": 18,
   "metadata": {
    "colab": {
     "base_uri": "https://localhost:8080/"
    },
    "id": "OGel4f9PCO0-",
    "outputId": "e826b203-334e-4337-e1c1-5bdef609973f"
   },
   "outputs": [
    {
     "name": "stdout",
     "output_type": "stream",
     "text": [
      "epoch:  0  lr:  9.5e-05 loss:  1806.0495623871975 accuracy:  0.9451\n",
      "epoch:  1  lr:  9.025e-05 loss:  813.0825038215698 accuracy:  0.9601\n",
      "epoch:  2  lr:  8.573749999999999e-05 loss:  568.6184169346379 accuracy:  0.9669\n",
      "epoch:  3  lr:  8.145062499999998e-05 loss:  446.52467862683807 accuracy:  0.9712\n",
      "epoch:  4  lr:  7.737809374999998e-05 loss:  366.28836358839317 accuracy:  0.9734\n",
      "epoch:  5  lr:  7.350918906249998e-05 loss:  303.5684332915489 accuracy:  0.9746\n",
      "epoch:  6  lr:  6.983372960937497e-05 loss:  264.5512840095421 accuracy:  0.9747\n",
      "epoch:  7  lr:  6.634204312890622e-05 loss:  231.14620406188942 accuracy:  0.9753\n",
      "epoch:  8  lr:  6.30249409724609e-05 loss:  198.1734132074073 accuracy:  0.9768\n",
      "epoch:  9  lr:  5.987369392383786e-05 loss:  176.84113923400025 accuracy:  0.9769\n"
     ]
    }
   ],
   "source": [
    "network_normal_rms_loss = []\n",
    "network_normal_rms_accuracy = []\n",
    "for epoch in range(10):\n",
    "    total_loss = 0.0\n",
    "    for batch in train_loader:\n",
    "        images, labels = batch[0].to(device),batch[1].to(device)\n",
    "        \n",
    "        preds = network_normal_rms(images)\n",
    "        loss = F.cross_entropy(preds,labels)\n",
    "        \n",
    "        optimizer_normal_rms.zero_grad()\n",
    "        loss.backward()\n",
    "        optimizer_normal_rms.step()\n",
    "        total_loss += loss.item()\n",
    "    scheduler_normal_rms.step()\n",
    "    network_normal_rms_loss.append(total_loss)\n",
    "\n",
    "    total = 0\n",
    "    correct = 0\n",
    "    for data in test_loader:\n",
    "        images, labels = data[0].to(device),data[1].to(device)\n",
    "        outputs = network_normal_rms(images)\n",
    "        _, predicted = torch.max(outputs.data, 1)\n",
    "        total += labels.size(0)\n",
    "        correct += (predicted == labels).sum().item()\n",
    "\n",
    "    network_normal_rms_accuracy.append(correct/total)\n",
    "    print(\"epoch: \",epoch,\" lr: \",optimizer_normal_rms.param_groups[0]['lr'],\"loss: \",total_loss,\"accuracy: \",correct/total)"
   ]
  },
  {
   "cell_type": "code",
   "execution_count": 92,
   "metadata": {
    "colab": {
     "base_uri": "https://localhost:8080/",
     "height": 282
    },
    "id": "neoO16HiCt3M",
    "outputId": "51aa4acc-ad0e-44c6-bd2b-59be4baefd83"
   },
   "outputs": [
    {
     "data": {
      "image/png": "[encoded data removed]",
      "text/plain": [
       "<Figure size 432x288 with 1 Axes>"
      ]
     },
     "metadata": {
      "needs_background": "light",
      "tags": []
     },
     "output_type": "display_data"
    },
    {
     "name": "stdout",
     "output_type": "stream",
     "text": [
      "best accuracy is :  0.9766\n"
     ]
    }
   ],
   "source": [
    "plt.plot(network_normal_rms_accuracy,'ro')\n",
    "plt.ylabel('normal initialization accuracy')\n",
    "plt.show()\n",
    "print(\"best accuracy is : \",network_normal_rms_accuracy[-1])"
   ]
  },
  {
   "cell_type": "code",
   "execution_count": 33,
   "metadata": {
    "colab": {
     "base_uri": "https://localhost:8080/",
     "height": 265
    },
    "id": "Qu926HdN32bD",
    "outputId": "c8ca4570-3c84-4c1a-8f83-625150cf25a6"
   },
   "outputs": [
    {
     "data": {
      "image/png": "[encoded data removed]",
      "text/plain": [
       "<Figure size 432x288 with 1 Axes>"
      ]
     },
     "metadata": {
      "needs_background": "light",
      "tags": []
     },
     "output_type": "display_data"
    }
   ],
   "source": [
    "plt.plot(network_normal_rms_loss,'ro')\n",
    "plt.ylabel('normal initialization loss')\n",
    "plt.show()"
   ]
  },
  {
   "cell_type": "markdown",
   "metadata": {
    "id": "18p5S4DjDI4e"
   },
   "source": [
    "## Xavier Initialization"
   ]
  },
  {
   "cell_type": "code",
   "execution_count": 19,
   "metadata": {
    "colab": {
     "base_uri": "https://localhost:8080/"
    },
    "id": "8Eo-qQVZC0Nx",
    "outputId": "64913235-d528-441e-e81a-e9d8e5b36280"
   },
   "outputs": [
    {
     "name": "stdout",
     "output_type": "stream",
     "text": [
      "epoch:  0  lr:  9.5e-05 loss:  1688.5032308224181 accuracy:  0.948\n",
      "epoch:  1  lr:  9.025e-05 loss:  761.3918371874461 accuracy:  0.9642\n",
      "epoch:  2  lr:  8.573749999999999e-05 loss:  537.3472467345127 accuracy:  0.9696\n",
      "epoch:  3  lr:  8.145062499999998e-05 loss:  416.63027759736724 accuracy:  0.9737\n",
      "epoch:  4  lr:  7.737809374999998e-05 loss:  334.2886471166703 accuracy:  0.972\n",
      "epoch:  5  lr:  7.350918906249998e-05 loss:  284.3141089298035 accuracy:  0.9754\n",
      "epoch:  6  lr:  6.983372960937497e-05 loss:  240.44695204134564 accuracy:  0.9752\n",
      "epoch:  7  lr:  6.634204312890622e-05 loss:  207.0479599323661 accuracy:  0.9757\n",
      "epoch:  8  lr:  6.30249409724609e-05 loss:  189.5581165884118 accuracy:  0.9761\n",
      "epoch:  9  lr:  5.987369392383786e-05 loss:  168.90995007923948 accuracy:  0.9767\n"
     ]
    }
   ],
   "source": [
    "network_xavier_rms_loss = []\n",
    "network_xavier_rms_accuracy = []\n",
    "for epoch in range(10):\n",
    "    total_loss = 0.0\n",
    "    for batch in train_loader:\n",
    "        images, labels = batch[0].to(device),batch[1].to(device)\n",
    "        \n",
    "        preds = network_xavier_rms(images)\n",
    "        loss = F.cross_entropy(preds,labels)\n",
    "        \n",
    "        optimizer_xavier_rms.zero_grad()\n",
    "        loss.backward()\n",
    "        optimizer_xavier_rms.step()\n",
    "        total_loss += loss.item()\n",
    "    scheduler_xavier_rms.step()\n",
    "    network_xavier_rms_loss.append(total_loss)\n",
    "\n",
    "    total = 0\n",
    "    correct = 0\n",
    "    for data in test_loader:\n",
    "        images, labels = data[0].to(device),data[1].to(device)\n",
    "        outputs = network_xavier_rms(images)\n",
    "        _, predicted = torch.max(outputs.data, 1)\n",
    "        total += labels.size(0)\n",
    "        correct += (predicted == labels).sum().item()\n",
    "\n",
    "    network_xavier_rms_accuracy.append(correct/total)\n",
    "    print(\"epoch: \",epoch,\" lr: \",optimizer_xavier_rms.param_groups[0]['lr'],\"loss: \",total_loss,\"accuracy: \",correct/total)"
   ]
  },
  {
   "cell_type": "code",
   "execution_count": 94,
   "metadata": {
    "colab": {
     "base_uri": "https://localhost:8080/",
     "height": 286
    },
    "id": "leo-BygdEaXt",
    "outputId": "3561c298-9ad0-49e0-cefa-d203788662c0"
   },
   "outputs": [
    {
     "data": {
      "image/png": "[encoded data removed]",
      "text/plain": [
       "<Figure size 432x288 with 1 Axes>"
      ]
     },
     "metadata": {
      "needs_background": "light",
      "tags": []
     },
     "output_type": "display_data"
    },
    {
     "name": "stdout",
     "output_type": "stream",
     "text": [
      "best accuracy is :  0.9785\n"
     ]
    }
   ],
   "source": [
    "plt.plot(network_xavier_rms_accuracy,'ro')\n",
    "plt.ylabel('xavier initialization accuracy')\n",
    "plt.show()\n",
    "print(\"best accuracy is : \",network_xavier_rms_accuracy[-1])"
   ]
  },
  {
   "cell_type": "code",
   "execution_count": 34,
   "metadata": {
    "colab": {
     "base_uri": "https://localhost:8080/",
     "height": 265
    },
    "id": "Gq7qM-aQ38oI",
    "outputId": "0cc3b691-a387-4820-c4dc-d02b10cca819"
   },
   "outputs": [
    {
     "data": {
      "image/png": "[encoded data removed]",
      "text/plain": [
       "<Figure size 432x288 with 1 Axes>"
      ]
     },
     "metadata": {
      "needs_background": "light",
      "tags": []
     },
     "output_type": "display_data"
    }
   ],
   "source": [
    "plt.plot(network_xavier_rms_loss,'ro')\n",
    "plt.ylabel('xavier initialization loss')\n",
    "plt.show()"
   ]
  },
  {
   "cell_type": "markdown",
   "metadata": {
    "id": "D82gl9ifDsHm"
   },
   "source": [
    "# 3) SGD with momentum "
   ]
  },
  {
   "cell_type": "code",
   "execution_count": 20,
   "metadata": {
    "id": "t64xSH4-Dr2U"
   },
   "outputs": [],
   "source": [
    "network_uniform_sgdm = Network()\n",
    "network_uniform_sgdm.to(device)\n",
    "network_uniform_sgdm.apply(weights_init_uniform_rule)\n",
    "#optimizer_uniform_sgdm = optim.SGD(network_uniform_sgdm.parameters(),lr=0.1)\n",
    "optimizer_uniform_sgdm = optim.SGD(network_uniform_sgdm.parameters(),lr=0.001,momentum=0.9)\n",
    "scheduler_uniform_sgdm = ExponentialLR(optimizer_uniform_sgdm, gamma=0.95)\n",
    "\n",
    "network_normal_sgdm = Network()\n",
    "network_normal_sgdm.to(device)\n",
    "network_normal_sgdm.apply(weights_init_normal)\n",
    "optimizer_normal_sgdm = optim.SGD(network_normal_sgdm.parameters(),lr=0.001,momentum=0.9)\n",
    "scheduler_normal_sgdm = ExponentialLR(optimizer_normal_sgdm, gamma=0.95)\n",
    "\n",
    "network_xavier_sgdm = Network()\n",
    "network_xavier_sgdm.to(device)\n",
    "nn.init.xavier_normal_(network_xavier_sgdm.fc1.weight)\n",
    "nn.init.xavier_normal_(network_xavier_sgdm.fc2.weight)\n",
    "nn.init.xavier_normal_(network_xavier_sgdm.fc3.weight)\n",
    "optimizer_xavier_sgdm = optim.SGD(network_xavier_sgdm.parameters(),lr=0.001,momentum=0.9)\n",
    "scheduler_xavier_sgdm = ExponentialLR(optimizer_xavier_sgdm, gamma=0.95)"
   ]
  },
  {
   "cell_type": "markdown",
   "metadata": {
    "id": "q_wJVY_rJb2W"
   },
   "source": [
    "## Uniform Initialization"
   ]
  },
  {
   "cell_type": "code",
   "execution_count": 21,
   "metadata": {
    "colab": {
     "base_uri": "https://localhost:8080/"
    },
    "id": "OHzR0oGtEekQ",
    "outputId": "59d2d9fa-b571-4598-d22f-0df4dbef2413"
   },
   "outputs": [
    {
     "name": "stdout",
     "output_type": "stream",
     "text": [
      "epoch:  0  lr:  0.00095 loss:  3597.722146655433 accuracy:  0.9128\n",
      "epoch:  1  lr:  0.0009025 loss:  1446.003927881131 accuracy:  0.942\n",
      "epoch:  2  lr:  0.000857375 loss:  1036.7686000871472 accuracy:  0.9533\n",
      "epoch:  3  lr:  0.0008145062499999999 loss:  818.309140478319 accuracy:  0.9605\n",
      "epoch:  4  lr:  0.0007737809374999998 loss:  681.3092802266474 accuracy:  0.9616\n",
      "epoch:  5  lr:  0.0007350918906249997 loss:  584.1584067730873 accuracy:  0.9675\n",
      "epoch:  6  lr:  0.0006983372960937497 loss:  511.4347413289652 accuracy:  0.9712\n",
      "epoch:  7  lr:  0.0006634204312890621 loss:  455.59062589173845 accuracy:  0.9721\n",
      "epoch:  8  lr:  0.000630249409724609 loss:  407.537954965228 accuracy:  0.9726\n",
      "epoch:  9  lr:  0.0005987369392383785 loss:  374.8463854847141 accuracy:  0.9739\n"
     ]
    }
   ],
   "source": [
    "network_uniform_sgdm_loss = []\n",
    "network_uniform_sgdm_accuracy = []\n",
    "for epoch in range(10):\n",
    "    total_loss = 0.0\n",
    "    for batch in train_loader:\n",
    "        images, labels = batch[0].to(device),batch[1].to(device)\n",
    "        \n",
    "        preds = network_uniform_sgdm(images)\n",
    "        loss = F.cross_entropy(preds,labels)\n",
    "        \n",
    "        optimizer_uniform_sgdm.zero_grad()\n",
    "        loss.backward()\n",
    "        optimizer_uniform_sgdm.step()\n",
    "        total_loss += loss.item()\n",
    "    scheduler_uniform_sgdm.step()\n",
    "    network_uniform_sgdm_loss.append(total_loss)\n",
    "\n",
    "    total = 0\n",
    "    correct = 0\n",
    "    for data in test_loader:\n",
    "        images, labels = data[0].to(device),data[1].to(device)\n",
    "        outputs = network_uniform_sgdm(images)\n",
    "        _, predicted = torch.max(outputs.data, 1)\n",
    "        total += labels.size(0)\n",
    "        correct += (predicted == labels).sum().item()\n",
    "\n",
    "    network_uniform_sgdm_accuracy.append(correct/total)\n",
    "    print(\"epoch: \",epoch,\" lr: \",optimizer_uniform_sgdm.param_groups[0]['lr'],\"loss: \",total_loss,\"accuracy: \",correct/total)"
   ]
  },
  {
   "cell_type": "code",
   "execution_count": 106,
   "metadata": {
    "colab": {
     "base_uri": "https://localhost:8080/",
     "height": 282
    },
    "id": "m_KSLksoJhj0",
    "outputId": "8eb27432-edea-417d-e1d4-2e563a0058e8"
   },
   "outputs": [
    {
     "data": {
      "image/png": "[encoded data removed]",
      "text/plain": [
       "<Figure size 432x288 with 1 Axes>"
      ]
     },
     "metadata": {
      "needs_background": "light",
      "tags": []
     },
     "output_type": "display_data"
    },
    {
     "name": "stdout",
     "output_type": "stream",
     "text": [
      "best accuracy is :  0.9743\n"
     ]
    }
   ],
   "source": [
    "plt.plot(network_uniform_sgdm_accuracy,'ro')\n",
    "plt.ylabel('uniform initialization accuracy')\n",
    "plt.show()\n",
    "print(\"best accuracy is : \",network_uniform_sgdm_accuracy[-1])"
   ]
  },
  {
   "cell_type": "code",
   "execution_count": 35,
   "metadata": {
    "colab": {
     "base_uri": "https://localhost:8080/",
     "height": 265
    },
    "id": "0xzCDuHR4FP4",
    "outputId": "cb7c41d3-721a-40c0-a04e-93d291be96d5"
   },
   "outputs": [
    {
     "data": {
      "image/png": "[encoded data removed]",
      "text/plain": [
       "<Figure size 432x288 with 1 Axes>"
      ]
     },
     "metadata": {
      "needs_background": "light",
      "tags": []
     },
     "output_type": "display_data"
    }
   ],
   "source": [
    "plt.plot(network_uniform_sgdm_loss,'ro')\n",
    "plt.ylabel('uniform initialization loss')\n",
    "plt.show()"
   ]
  },
  {
   "cell_type": "markdown",
   "metadata": {
    "id": "sank9G6MKEgX"
   },
   "source": [
    "## Normal Initialization"
   ]
  },
  {
   "cell_type": "code",
   "execution_count": 22,
   "metadata": {
    "colab": {
     "base_uri": "https://localhost:8080/"
    },
    "id": "VkVhk8cNJllE",
    "outputId": "e3c1d304-f64c-4f0f-ac45-f0375d383683"
   },
   "outputs": [
    {
     "name": "stdout",
     "output_type": "stream",
     "text": [
      "epoch:  0  lr:  0.00095 loss:  2669.8369363404345 accuracy:  0.9266\n",
      "epoch:  1  lr:  0.0009025 loss:  1230.887501366844 accuracy:  0.9474\n",
      "epoch:  2  lr:  0.000857375 loss:  916.3953631230397 accuracy:  0.9567\n",
      "epoch:  3  lr:  0.0008145062499999999 loss:  733.1476215359289 accuracy:  0.9613\n",
      "epoch:  4  lr:  0.0007737809374999998 loss:  619.3400882988935 accuracy:  0.9655\n",
      "epoch:  5  lr:  0.0007350918906249997 loss:  550.9510403782187 accuracy:  0.9685\n",
      "epoch:  6  lr:  0.0006983372960937497 loss:  474.8958508814394 accuracy:  0.9704\n",
      "epoch:  7  lr:  0.0006634204312890621 loss:  434.56205897829204 accuracy:  0.9707\n",
      "epoch:  8  lr:  0.000630249409724609 loss:  387.163169464191 accuracy:  0.9716\n",
      "epoch:  9  lr:  0.0005987369392383785 loss:  367.2972070062169 accuracy:  0.9743\n"
     ]
    }
   ],
   "source": [
    "network_normal_sgdm_loss = []\n",
    "network_normal_sgdm_accuracy = []\n",
    "for epoch in range(10):\n",
    "    total_loss = 0.0\n",
    "    for batch in train_loader:\n",
    "        images, labels = batch[0].to(device),batch[1].to(device)\n",
    "        \n",
    "        preds = network_normal_sgdm(images)\n",
    "        loss = F.cross_entropy(preds,labels)\n",
    "        \n",
    "        optimizer_normal_sgdm.zero_grad()\n",
    "        loss.backward()\n",
    "        optimizer_normal_sgdm.step()\n",
    "        total_loss += loss.item()\n",
    "    scheduler_normal_sgdm.step()\n",
    "    network_normal_sgdm_loss.append(total_loss)\n",
    "\n",
    "    total = 0\n",
    "    correct = 0\n",
    "    for data in test_loader:\n",
    "        images, labels = data[0].to(device),data[1].to(device)\n",
    "        outputs = network_normal_sgdm(images)\n",
    "        _, predicted = torch.max(outputs.data, 1)\n",
    "        total += labels.size(0)\n",
    "        correct += (predicted == labels).sum().item()\n",
    "\n",
    "    network_normal_sgdm_accuracy.append(correct/total)\n",
    "    print(\"epoch: \",epoch,\" lr: \",optimizer_normal_sgdm.param_groups[0]['lr'],\"loss: \",total_loss,\"accuracy: \",correct/total)"
   ]
  },
  {
   "cell_type": "code",
   "execution_count": 108,
   "metadata": {
    "colab": {
     "base_uri": "https://localhost:8080/",
     "height": 282
    },
    "id": "iaJ4N9yxJ-sW",
    "outputId": "8c46c759-fb07-449e-b875-d6eea8cb883f"
   },
   "outputs": [
    {
     "data": {
      "image/png": "[encoded data removed]",
      "text/plain": [
       "<Figure size 432x288 with 1 Axes>"
      ]
     },
     "metadata": {
      "needs_background": "light",
      "tags": []
     },
     "output_type": "display_data"
    },
    {
     "name": "stdout",
     "output_type": "stream",
     "text": [
      "best accuracy is :  0.973\n"
     ]
    }
   ],
   "source": [
    "plt.plot(network_normal_sgdm_accuracy,'ro')\n",
    "plt.ylabel('normal initialization accuracy')\n",
    "plt.show()\n",
    "print(\"best accuracy is : \",network_normal_sgdm_accuracy[-1])"
   ]
  },
  {
   "cell_type": "code",
   "execution_count": 36,
   "metadata": {
    "colab": {
     "base_uri": "https://localhost:8080/",
     "height": 265
    },
    "id": "tiViSGlk4Lhk",
    "outputId": "4136e59b-0cb5-4579-f52d-1290a1c7e6e8"
   },
   "outputs": [
    {
     "data": {
      "image/png": "[encoded data removed]",
      "text/plain": [
       "<Figure size 432x288 with 1 Axes>"
      ]
     },
     "metadata": {
      "needs_background": "light",
      "tags": []
     },
     "output_type": "display_data"
    }
   ],
   "source": [
    "plt.plot(network_normal_sgdm_loss,'ro')\n",
    "plt.ylabel('normal initialization loss')\n",
    "plt.show()"
   ]
  },
  {
   "cell_type": "markdown",
   "metadata": {
    "id": "qos739sKKJOy"
   },
   "source": [
    "## Xavier Initialization"
   ]
  },
  {
   "cell_type": "code",
   "execution_count": 23,
   "metadata": {
    "colab": {
     "base_uri": "https://localhost:8080/"
    },
    "id": "73159JbzKIc8",
    "outputId": "b944792b-c4c8-4563-c336-91eef2c0deaa"
   },
   "outputs": [
    {
     "name": "stdout",
     "output_type": "stream",
     "text": [
      "epoch:  0  lr:  0.00095 loss:  2464.8544878407847 accuracy:  0.9243\n",
      "epoch:  1  lr:  0.0009025 loss:  1190.7118025327509 accuracy:  0.9521\n",
      "epoch:  2  lr:  0.000857375 loss:  882.269152645451 accuracy:  0.9562\n",
      "epoch:  3  lr:  0.0008145062499999999 loss:  714.8101032638224 accuracy:  0.9604\n",
      "epoch:  4  lr:  0.0007737809374999998 loss:  597.0109687138902 accuracy:  0.9681\n",
      "epoch:  5  lr:  0.0007350918906249997 loss:  525.6044593215775 accuracy:  0.9702\n",
      "epoch:  6  lr:  0.0006983372960937497 loss:  461.9144631798481 accuracy:  0.9703\n",
      "epoch:  7  lr:  0.0006634204312890621 loss:  423.3414587161751 accuracy:  0.9716\n",
      "epoch:  8  lr:  0.000630249409724609 loss:  375.3144607022623 accuracy:  0.9738\n",
      "epoch:  9  lr:  0.0005987369392383785 loss:  348.53251051290135 accuracy:  0.9743\n"
     ]
    }
   ],
   "source": [
    "network_xavier_sgdm_loss = []\n",
    "network_xavier_sgdm_accuracy = []\n",
    "for epoch in range(10):\n",
    "    total_loss = 0.0\n",
    "    for batch in train_loader:\n",
    "        images, labels = batch[0].to(device),batch[1].to(device)\n",
    "        \n",
    "        preds = network_xavier_sgdm(images)\n",
    "        loss = F.cross_entropy(preds,labels)\n",
    "        \n",
    "        optimizer_xavier_sgdm.zero_grad()\n",
    "        loss.backward()\n",
    "        optimizer_xavier_sgdm.step()\n",
    "        total_loss += loss.item()\n",
    "    scheduler_xavier_sgdm.step()\n",
    "    network_xavier_sgdm_loss.append(total_loss)\n",
    "\n",
    "    total = 0\n",
    "    correct = 0\n",
    "    for data in test_loader:\n",
    "        images, labels = data[0].to(device),data[1].to(device)\n",
    "        outputs = network_xavier_sgdm(images)\n",
    "        _, predicted = torch.max(outputs.data, 1)\n",
    "        total += labels.size(0)\n",
    "        correct += (predicted == labels).sum().item()\n",
    "\n",
    "    network_xavier_sgdm_accuracy.append(correct/total)\n",
    "    print(\"epoch: \",epoch,\" lr: \",optimizer_xavier_sgdm.param_groups[0]['lr'],\"loss: \",total_loss,\"accuracy: \",correct/total)"
   ]
  },
  {
   "cell_type": "code",
   "execution_count": 112,
   "metadata": {
    "colab": {
     "base_uri": "https://localhost:8080/",
     "height": 282
    },
    "id": "l0TlZh2uLhTC",
    "outputId": "6dd83a07-6cbd-477b-ecd0-4c60b08f0459"
   },
   "outputs": [
    {
     "data": {
      "image/png": "[encoded data removed]",
      "text/plain": [
       "<Figure size 432x288 with 1 Axes>"
      ]
     },
     "metadata": {
      "needs_background": "light",
      "tags": []
     },
     "output_type": "display_data"
    },
    {
     "name": "stdout",
     "output_type": "stream",
     "text": [
      "best accuracy is :  0.9743\n"
     ]
    }
   ],
   "source": [
    "plt.plot(network_xavier_sgdm_accuracy,'ro')\n",
    "plt.ylabel('xavier initialization accuracy')\n",
    "plt.show()\n",
    "print(\"best accuracy is : \",network_xavier_sgdm_accuracy[-1])"
   ]
  },
  {
   "cell_type": "code",
   "execution_count": 37,
   "metadata": {
    "colab": {
     "base_uri": "https://localhost:8080/",
     "height": 265
    },
    "id": "FXXV__Lj4ROk",
    "outputId": "8e5b0cf0-54b2-4b0f-b2e2-2a7d30ae44ed"
   },
   "outputs": [
    {
     "data": {
      "image/png": "[encoded data removed]",
      "text/plain": [
       "<Figure size 432x288 with 1 Axes>"
      ]
     },
     "metadata": {
      "needs_background": "light",
      "tags": []
     },
     "output_type": "display_data"
    }
   ],
   "source": [
    "plt.plot(network_xavier_sgdm_loss,'ro')\n",
    "plt.ylabel('xavier initialization loss')\n",
    "plt.show()"
   ]
  },
  {
   "cell_type": "markdown",
   "metadata": {
    "id": "X1JkybEiKvlE"
   },
   "source": [
    "# SGD No momentum"
   ]
  },
  {
   "cell_type": "code",
   "execution_count": 24,
   "metadata": {
    "id": "phXkDVs-K0zz"
   },
   "outputs": [],
   "source": [
    "network_uniform_sgd = Network()\n",
    "network_uniform_sgd.to(device)\n",
    "network_uniform_sgd.apply(weights_init_uniform_rule)\n",
    "optimizer_uniform_sgd = optim.SGD(network_uniform_sgd.parameters(),lr=0.1)\n",
    "scheduler_uniform_sgd = ExponentialLR(optimizer_uniform_sgd, gamma=0.95)\n",
    "\n",
    "network_normal_sgd = Network()\n",
    "network_normal_sgd.to(device)\n",
    "network_normal_sgd.apply(weights_init_normal)\n",
    "optimizer_normal_sgd = optim.SGD(network_normal_sgd.parameters(),lr=0.1)\n",
    "scheduler_normal_sgd = ExponentialLR(optimizer_normal_sgd, gamma=0.95)\n",
    "\n",
    "network_xavier_sgd = Network()\n",
    "network_xavier_sgd.to(device)\n",
    "nn.init.xavier_normal_(network_xavier_sgd.fc1.weight)\n",
    "nn.init.xavier_normal_(network_xavier_sgd.fc2.weight)\n",
    "nn.init.xavier_normal_(network_xavier_sgd.fc3.weight)\n",
    "optimizer_xavier_sgd = optim.SGD(network_xavier_sgd.parameters(),lr=0.1)\n",
    "scheduler_xavier_sgd = ExponentialLR(optimizer_xavier_sgd, gamma=0.95)"
   ]
  },
  {
   "cell_type": "code",
   "execution_count": 25,
   "metadata": {
    "colab": {
     "base_uri": "https://localhost:8080/"
    },
    "id": "I_gvA3uoLPNb",
    "outputId": "066496ec-c5d2-455c-e708-0f5a30b504f6"
   },
   "outputs": [
    {
     "name": "stdout",
     "output_type": "stream",
     "text": [
      "epoch:  0  lr:  0.095 loss:  1490.8486869229491 accuracy:  0.9497\n",
      "epoch:  1  lr:  0.09025 loss:  653.2496142378704 accuracy:  0.9615\n",
      "epoch:  2  lr:  0.0857375 loss:  478.7604446549849 accuracy:  0.9695\n",
      "epoch:  3  lr:  0.08145062499999998 loss:  367.6598080531189 accuracy:  0.9694\n",
      "epoch:  4  lr:  0.07737809374999999 loss:  287.3061626206528 accuracy:  0.9699\n",
      "epoch:  5  lr:  0.07350918906249998 loss:  239.376968855213 accuracy:  0.9727\n",
      "epoch:  6  lr:  0.06983372960937498 loss:  200.48610215884958 accuracy:  0.976\n",
      "epoch:  7  lr:  0.06634204312890622 loss:  164.70628955417004 accuracy:  0.9773\n",
      "epoch:  8  lr:  0.0630249409724609 loss:  147.01510716540685 accuracy:  0.9785\n",
      "epoch:  9  lr:  0.05987369392383786 loss:  126.77344127815974 accuracy:  0.9771\n"
     ]
    }
   ],
   "source": [
    "network_uniform_sgd_loss = []\n",
    "network_uniform_sgd_accuracy = []\n",
    "for epoch in range(10):\n",
    "    total_loss = 0.0\n",
    "    for batch in train_loader:\n",
    "        images, labels = batch[0].to(device),batch[1].to(device)\n",
    "        \n",
    "        preds = network_uniform_sgd(images)\n",
    "        loss = F.cross_entropy(preds,labels)\n",
    "        \n",
    "        optimizer_uniform_sgd.zero_grad()\n",
    "        loss.backward()\n",
    "        optimizer_uniform_sgd.step()\n",
    "        total_loss += loss.item()\n",
    "    scheduler_uniform_sgd.step()\n",
    "    network_uniform_sgd_loss.append(total_loss)\n",
    "\n",
    "    total = 0\n",
    "    correct = 0\n",
    "    for data in test_loader:\n",
    "        images, labels = data[0].to(device),data[1].to(device)\n",
    "        outputs = network_uniform_sgd(images)\n",
    "        _, predicted = torch.max(outputs.data, 1)\n",
    "        total += labels.size(0)\n",
    "        correct += (predicted == labels).sum().item()\n",
    "\n",
    "    network_uniform_sgd_accuracy.append(correct/total)\n",
    "    print(\"epoch: \",epoch,\" lr: \",optimizer_uniform_sgd.param_groups[0]['lr'],\"loss: \",total_loss,\"accuracy: \",correct/total)"
   ]
  },
  {
   "cell_type": "code",
   "execution_count": 113,
   "metadata": {
    "colab": {
     "base_uri": "https://localhost:8080/",
     "height": 282
    },
    "id": "NiP71gVqLraG",
    "outputId": "8959904e-3d79-4b16-b479-411546e57476"
   },
   "outputs": [
    {
     "data": {
      "image/png": "[encoded data removed]",
      "text/plain": [
       "<Figure size 432x288 with 1 Axes>"
      ]
     },
     "metadata": {
      "needs_background": "light",
      "tags": []
     },
     "output_type": "display_data"
    },
    {
     "name": "stdout",
     "output_type": "stream",
     "text": [
      "best accuracy is :  0.9794\n"
     ]
    }
   ],
   "source": [
    "plt.plot(network_uniform_sgd_accuracy,'ro')\n",
    "plt.ylabel('uniform initialization accuracy')\n",
    "plt.show()\n",
    "print(\"best accuracy is : \",network_uniform_sgd_accuracy[-1])"
   ]
  },
  {
   "cell_type": "code",
   "execution_count": 38,
   "metadata": {
    "colab": {
     "base_uri": "https://localhost:8080/",
     "height": 265
    },
    "id": "64imrgVg4Xyr",
    "outputId": "f1668a74-adb0-432c-b8a2-a12d9752ddfb"
   },
   "outputs": [
    {
     "data": {
      "image/png": "[encoded data removed]",
      "text/plain": [
       "<Figure size 432x288 with 1 Axes>"
      ]
     },
     "metadata": {
      "needs_background": "light",
      "tags": []
     },
     "output_type": "display_data"
    }
   ],
   "source": [
    "plt.plot(network_uniform_sgd_loss,'ro')\n",
    "plt.ylabel('uniform initialization loss')\n",
    "plt.show()"
   ]
  },
  {
   "cell_type": "markdown",
   "metadata": {
    "id": "BBagKVX0Lv2m"
   },
   "source": [
    "## Normal Initialization"
   ]
  },
  {
   "cell_type": "code",
   "execution_count": 26,
   "metadata": {
    "colab": {
     "base_uri": "https://localhost:8080/"
    },
    "id": "VGxnVtaeLypR",
    "outputId": "ca8442c5-5395-4230-f8b9-65949b1869fc"
   },
   "outputs": [
    {
     "name": "stdout",
     "output_type": "stream",
     "text": [
      "epoch:  0  lr:  0.095 loss:  1374.9403266117915 accuracy:  0.9456\n",
      "epoch:  1  lr:  0.09025 loss:  638.7366736881668 accuracy:  0.9643\n",
      "epoch:  2  lr:  0.0857375 loss:  469.79939196639623 accuracy:  0.9697\n",
      "epoch:  3  lr:  0.08145062499999998 loss:  359.0710952229854 accuracy:  0.9713\n",
      "epoch:  4  lr:  0.07737809374999999 loss:  292.10836363306305 accuracy:  0.9749\n",
      "epoch:  5  lr:  0.07350918906249998 loss:  249.38384856835285 accuracy:  0.9752\n",
      "epoch:  6  lr:  0.06983372960937498 loss:  193.02327627899248 accuracy:  0.9753\n",
      "epoch:  7  lr:  0.06634204312890622 loss:  168.04271787334235 accuracy:  0.9713\n",
      "epoch:  8  lr:  0.0630249409724609 loss:  142.1018776108325 accuracy:  0.9801\n",
      "epoch:  9  lr:  0.05987369392383786 loss:  121.35555808273921 accuracy:  0.9784\n"
     ]
    }
   ],
   "source": [
    "network_normal_sgd_loss = []\n",
    "network_normal_sgd_accuracy = []\n",
    "for epoch in range(10):\n",
    "    total_loss = 0.0\n",
    "    for batch in train_loader:\n",
    "        images, labels = batch[0].to(device),batch[1].to(device)\n",
    "        \n",
    "        preds = network_normal_sgd(images)\n",
    "        loss = F.cross_entropy(preds,labels)\n",
    "        \n",
    "        optimizer_normal_sgd.zero_grad()\n",
    "        loss.backward()\n",
    "        optimizer_normal_sgd.step()\n",
    "        total_loss += loss.item()\n",
    "    scheduler_normal_sgd.step()\n",
    "    network_normal_sgd_loss.append(total_loss)\n",
    "\n",
    "    total = 0\n",
    "    correct = 0\n",
    "    for data in test_loader:\n",
    "        images, labels = data[0].to(device),data[1].to(device)\n",
    "        outputs = network_normal_sgd(images)\n",
    "        _, predicted = torch.max(outputs.data, 1)\n",
    "        total += labels.size(0)\n",
    "        correct += (predicted == labels).sum().item()\n",
    "\n",
    "    network_normal_sgd_accuracy.append(correct/total)\n",
    "    print(\"epoch: \",epoch,\" lr: \",optimizer_normal_sgd.param_groups[0]['lr'],\"loss: \",total_loss,\"accuracy: \",correct/total)"
   ]
  },
  {
   "cell_type": "code",
   "execution_count": 115,
   "metadata": {
    "colab": {
     "base_uri": "https://localhost:8080/",
     "height": 285
    },
    "id": "xSQezYXlMDHS",
    "outputId": "b8733087-5c1e-4d6d-d2bd-298e180758fb"
   },
   "outputs": [
    {
     "data": {
      "image/png": "[encoded data removed]",
      "text/plain": [
       "<Figure size 432x288 with 1 Axes>"
      ]
     },
     "metadata": {
      "needs_background": "light",
      "tags": []
     },
     "output_type": "display_data"
    },
    {
     "name": "stdout",
     "output_type": "stream",
     "text": [
      "best accuracy is :  0.9786\n"
     ]
    }
   ],
   "source": [
    "plt.plot(network_normal_sgd_accuracy,'ro')\n",
    "plt.ylabel('normal initialization accuracy')\n",
    "plt.show()\n",
    "print(\"best accuracy is : \",network_normal_sgd_accuracy[-1])"
   ]
  },
  {
   "cell_type": "code",
   "execution_count": 39,
   "metadata": {
    "colab": {
     "base_uri": "https://localhost:8080/",
     "height": 265
    },
    "id": "TGtLpPkZ4eCC",
    "outputId": "bb1fc25e-494a-4c3a-8c40-aa8a55a2f695"
   },
   "outputs": [
    {
     "data": {
      "image/png": "[encoded data removed]",
      "text/plain": [
       "<Figure size 432x288 with 1 Axes>"
      ]
     },
     "metadata": {
      "needs_background": "light",
      "tags": []
     },
     "output_type": "display_data"
    }
   ],
   "source": [
    "plt.plot(network_normal_sgd_loss,'ro')\n",
    "plt.ylabel('normal initialization loss')\n",
    "plt.show()"
   ]
  },
  {
   "cell_type": "markdown",
   "metadata": {
    "id": "-Y9r1pCsMfIw"
   },
   "source": [
    "## Xavier Initialization"
   ]
  },
  {
   "cell_type": "code",
   "execution_count": 27,
   "metadata": {
    "colab": {
     "base_uri": "https://localhost:8080/"
    },
    "id": "HTBPM7RAMJiO",
    "outputId": "b5c3365c-accf-4997-99ac-a0a3a697a593"
   },
   "outputs": [
    {
     "name": "stdout",
     "output_type": "stream",
     "text": [
      "epoch:  0  lr:  0.095 loss:  1353.931742268791 accuracy:  0.9479\n",
      "epoch:  1  lr:  0.09025 loss:  652.3569182145002 accuracy:  0.9581\n",
      "epoch:  2  lr:  0.0857375 loss:  462.49802310589257 accuracy:  0.9633\n",
      "epoch:  3  lr:  0.08145062499999998 loss:  362.3390308216997 accuracy:  0.9699\n",
      "epoch:  4  lr:  0.07737809374999999 loss:  296.5827960663196 accuracy:  0.9739\n",
      "epoch:  5  lr:  0.07350918906249998 loss:  240.3322062898127 accuracy:  0.9752\n",
      "epoch:  6  lr:  0.06983372960937498 loss:  190.4886775361456 accuracy:  0.9764\n",
      "epoch:  7  lr:  0.06634204312890622 loss:  163.53368087384465 accuracy:  0.9765\n",
      "epoch:  8  lr:  0.0630249409724609 loss:  142.641056891623 accuracy:  0.9774\n",
      "epoch:  9  lr:  0.05987369392383786 loss:  115.87619922661001 accuracy:  0.9792\n"
     ]
    }
   ],
   "source": [
    "network_xavier_sgd_loss = []\n",
    "network_xavier_sgd_accuracy = []\n",
    "for epoch in range(10):\n",
    "    total_loss = 0.0\n",
    "    for batch in train_loader:\n",
    "        images, labels = batch[0].to(device),batch[1].to(device)\n",
    "        \n",
    "        preds = network_xavier_sgd(images)\n",
    "        loss = F.cross_entropy(preds,labels)\n",
    "        \n",
    "        optimizer_xavier_sgd.zero_grad()\n",
    "        loss.backward()\n",
    "        optimizer_xavier_sgd.step()\n",
    "        total_loss += loss.item()\n",
    "    scheduler_xavier_sgd.step()\n",
    "    network_xavier_sgd_loss.append(total_loss)\n",
    "\n",
    "    total = 0\n",
    "    correct = 0\n",
    "    for data in test_loader:\n",
    "        images, labels = data[0].to(device),data[1].to(device)\n",
    "        outputs = network_xavier_sgd(images)\n",
    "        _, predicted = torch.max(outputs.data, 1)\n",
    "        total += labels.size(0)\n",
    "        correct += (predicted == labels).sum().item()\n",
    "\n",
    "    network_xavier_sgd_accuracy.append(correct/total)\n",
    "    print(\"epoch: \",epoch,\" lr: \",optimizer_xavier_sgd.param_groups[0]['lr'],\"loss: \",total_loss,\"accuracy: \",correct/total)"
   ]
  },
  {
   "cell_type": "code",
   "execution_count": 117,
   "metadata": {
    "colab": {
     "base_uri": "https://localhost:8080/",
     "height": 286
    },
    "id": "uCpuyjJdMbZF",
    "outputId": "063f330a-08a5-4f44-c4c4-228656524536"
   },
   "outputs": [
    {
     "data": {
      "image/png": "[encoded data removed]",
      "text/plain": [
       "<Figure size 432x288 with 1 Axes>"
      ]
     },
     "metadata": {
      "needs_background": "light",
      "tags": []
     },
     "output_type": "display_data"
    },
    {
     "name": "stdout",
     "output_type": "stream",
     "text": [
      "best accuracy is :  0.9776\n"
     ]
    }
   ],
   "source": [
    "plt.plot(network_xavier_sgd_accuracy,'ro')\n",
    "plt.ylabel('xavier initialization accuracy')\n",
    "plt.show()\n",
    "print(\"best accuracy is : \",network_xavier_sgd_accuracy[-1])"
   ]
  },
  {
   "cell_type": "code",
   "execution_count": 40,
   "metadata": {
    "colab": {
     "base_uri": "https://localhost:8080/",
     "height": 267
    },
    "id": "2XCRs2zi4kgh",
    "outputId": "7161985c-428d-4647-e26c-e687ce5fee8a"
   },
   "outputs": [
    {
     "data": {
      "image/png": "[encoded data removed]",
      "text/plain": [
       "<Figure size 432x288 with 1 Axes>"
      ]
     },
     "metadata": {
      "needs_background": "light",
      "tags": []
     },
     "output_type": "display_data"
    }
   ],
   "source": [
    "plt.plot(network_xavier_sgd_loss,'ro')\n",
    "plt.ylabel('xavier initialization loss')\n",
    "plt.show()"
   ]
  },
  {
   "cell_type": "code",
   "execution_count": 41,
   "metadata": {
    "colab": {
     "base_uri": "https://localhost:8080/"
    },
    "id": "WcFMLRx-MtUW",
    "outputId": "0cdc9059-988f-4695-e0d9-4f5631a56616"
   },
   "outputs": [
    {
     "name": "stdout",
     "output_type": "stream",
     "text": [
      "+--------------+--------+----------+--------------+--------+\n",
      "|   Accuracy   | Adam   | RMSProp  | SGD Momentum |  SGD   |\n",
      "+--------------+--------+----------+--------------+--------+\n",
      "| Uniform init | 0.9787 |  0.9786  |    0.9739    | 0.9771 |\n",
      "| Normal Init  | 0.9784 |  0.9769  |    0.9743    | 0.9784 |\n",
      "| Xavier Init  | 0.9798 |  0.9767  |    0.9743    | 0.9792 |\n",
      "+--------------+--------+----------+--------------+--------+\n"
     ]
    }
   ],
   "source": [
    "from prettytable import PrettyTable\n",
    "t = PrettyTable(['Accuracy','Adam ', 'RMSProp ','SGD Momentum','SGD'])\n",
    "t.add_row(['Uniform init',network_uniform_accuracy[-1],network_uniform_rms_accuracy[-1],network_uniform_sgdm_accuracy[-1],network_uniform_sgd_accuracy[-1]])\n",
    "t.add_row(['Normal Init', network_normal_accuracy[-1],network_normal_rms_accuracy[-1],network_normal_sgdm_accuracy[-1],network_normal_sgd_accuracy[-1]])\n",
    "t.add_row(['Xavier Init', network_xavier_accuracy[-1],network_xavier_rms_accuracy[-1],network_xavier_sgdm_accuracy[-1],network_xavier_sgd_accuracy[-1]])\n",
    "print(t)"
   ]
  }
 ],
 "metadata": {
  "accelerator": "GPU",
  "colab": {
   "collapsed_sections": [],
   "name": "Ass3Q3.ipynb",
   "provenance": []
  },
  "kernelspec": {
   "display_name": "Python 3",
   "language": "python",
   "name": "python3"
  },
  "language_info": {
   "codemirror_mode": {
    "name": "ipython",
    "version": 3
   },
   "file_extension": ".py",
   "mimetype": "text/x-python",
   "name": "python",
   "nbconvert_exporter": "python",
   "pygments_lexer": "ipython3",
   "version": "3.7.0"
  },
  "widgets": {
   "application/vnd.jupyter.widget-state+json": {
    "11dcb783631a4dcd9fa2a3ea6a9b73e0": {
     "model_module": "@jupyter-widgets/controls",
     "model_name": "DescriptionStyleModel",
     "state": {
      "_model_module": "@jupyter-widgets/controls",
      "_model_module_version": "1.5.0",
      "_model_name": "DescriptionStyleModel",
      "_view_count": null,
      "_view_module": "@jupyter-widgets/base",
      "_view_module_version": "1.2.0",
      "_view_name": "StyleView",
      "description_width": ""
     }
    },
    "1e6d55d96ed24d6d96fe2bbca0c3d43c": {
     "model_module": "@jupyter-widgets/controls",
     "model_name": "ProgressStyleModel",
     "state": {
      "_model_module": "@jupyter-widgets/controls",
      "_model_module_version": "1.5.0",
      "_model_name": "ProgressStyleModel",
      "_view_count": null,
      "_view_module": "@jupyter-widgets/base",
      "_view_module_version": "1.2.0",
      "_view_name": "StyleView",
      "bar_color": null,
      "description_width": "initial"
     }
    },
    "26c8bc4bee714b82b477f69d62157de3": {
     "model_module": "@jupyter-widgets/base",
     "model_name": "LayoutModel",
     "state": {
      "_model_module": "@jupyter-widgets/base",
      "_model_module_version": "1.2.0",
      "_model_name": "LayoutModel",
      "_view_count": null,
      "_view_module": "@jupyter-widgets/base",
      "_view_module_version": "1.2.0",
      "_view_name": "LayoutView",
      "align_content": null,
      "align_items": null,
      "align_self": null,
      "border": null,
      "bottom": null,
      "display": null,
      "flex": null,
      "flex_flow": null,
      "grid_area": null,
      "grid_auto_columns": null,
      "grid_auto_flow": null,
      "grid_auto_rows": null,
      "grid_column": null,
      "grid_gap": null,
      "grid_row": null,
      "grid_template_areas": null,
      "grid_template_columns": null,
      "grid_template_rows": null,
      "height": null,
      "justify_content": null,
      "justify_items": null,
      "left": null,
      "margin": null,
      "max_height": null,
      "max_width": null,
      "min_height": null,
      "min_width": null,
      "object_fit": null,
      "object_position": null,
      "order": null,
      "overflow": null,
      "overflow_x": null,
      "overflow_y": null,
      "padding": null,
      "right": null,
      "top": null,
      "visibility": null,
      "width": null
     }
    },
    "29a85f9cb77b466cb2f5b636b5838dcc": {
     "model_module": "@jupyter-widgets/controls",
     "model_name": "HTMLModel",
     "state": {
      "_dom_classes": [],
      "_model_module": "@jupyter-widgets/controls",
      "_model_module_version": "1.5.0",
      "_model_name": "HTMLModel",
      "_view_count": null,
      "_view_module": "@jupyter-widgets/controls",
      "_view_module_version": "1.5.0",
      "_view_name": "HTMLView",
      "description": "",
      "description_tooltip": null,
      "layout": "IPY_MODEL_7d470b6b6d064833bd4f3178d7a16fba",
      "placeholder": "​",
      "style": "IPY_MODEL_96a01fd8e00343189becf98102833031",
      "value": " 9913344/? [05:30&lt;00:00, 29969.16it/s]"
     }
    },
    "2f5c0174570b4424a777100659adb70b": {
     "model_module": "@jupyter-widgets/controls",
     "model_name": "HBoxModel",
     "state": {
      "_dom_classes": [],
      "_model_module": "@jupyter-widgets/controls",
      "_model_module_version": "1.5.0",
      "_model_name": "HBoxModel",
      "_view_count": null,
      "_view_module": "@jupyter-widgets/controls",
      "_view_module_version": "1.5.0",
      "_view_name": "HBoxView",
      "box_style": "",
      "children": [
       "IPY_MODEL_cd9748ad7e56435886ad7334e328d961",
       "IPY_MODEL_ba39d9d94484434d8ca77974fb48c159"
      ],
      "layout": "IPY_MODEL_429e2babcdd84f65a959be1780c373e7"
     }
    },
    "3d2b7c9a23ed41b48c945589e6c03107": {
     "model_module": "@jupyter-widgets/base",
     "model_name": "LayoutModel",
     "state": {
      "_model_module": "@jupyter-widgets/base",
      "_model_module_version": "1.2.0",
      "_model_name": "LayoutModel",
      "_view_count": null,
      "_view_module": "@jupyter-widgets/base",
      "_view_module_version": "1.2.0",
      "_view_name": "LayoutView",
      "align_content": null,
      "align_items": null,
      "align_self": null,
      "border": null,
      "bottom": null,
      "display": null,
      "flex": null,
      "flex_flow": null,
      "grid_area": null,
      "grid_auto_columns": null,
      "grid_auto_flow": null,
      "grid_auto_rows": null,
      "grid_column": null,
      "grid_gap": null,
      "grid_row": null,
      "grid_template_areas": null,
      "grid_template_columns": null,
      "grid_template_rows": null,
      "height": null,
      "justify_content": null,
      "justify_items": null,
      "left": null,
      "margin": null,
      "max_height": null,
      "max_width": null,
      "min_height": null,
      "min_width": null,
      "object_fit": null,
      "object_position": null,
      "order": null,
      "overflow": null,
      "overflow_x": null,
      "overflow_y": null,
      "padding": null,
      "right": null,
      "top": null,
      "visibility": null,
      "width": null
     }
    },
    "429e2babcdd84f65a959be1780c373e7": {
     "model_module": "@jupyter-widgets/base",
     "model_name": "LayoutModel",
     "state": {
      "_model_module": "@jupyter-widgets/base",
      "_model_module_version": "1.2.0",
      "_model_name": "LayoutModel",
      "_view_count": null,
      "_view_module": "@jupyter-widgets/base",
      "_view_module_version": "1.2.0",
      "_view_name": "LayoutView",
      "align_content": null,
      "align_items": null,
      "align_self": null,
      "border": null,
      "bottom": null,
      "display": null,
      "flex": null,
      "flex_flow": null,
      "grid_area": null,
      "grid_auto_columns": null,
      "grid_auto_flow": null,
      "grid_auto_rows": null,
      "grid_column": null,
      "grid_gap": null,
      "grid_row": null,
      "grid_template_areas": null,
      "grid_template_columns": null,
      "grid_template_rows": null,
      "height": null,
      "justify_content": null,
      "justify_items": null,
      "left": null,
      "margin": null,
      "max_height": null,
      "max_width": null,
      "min_height": null,
      "min_width": null,
      "object_fit": null,
      "object_position": null,
      "order": null,
      "overflow": null,
      "overflow_x": null,
      "overflow_y": null,
      "padding": null,
      "right": null,
      "top": null,
      "visibility": null,
      "width": null
     }
    },
    "43dd5d444a284e8e90f57f3f7484bdc3": {
     "model_module": "@jupyter-widgets/base",
     "model_name": "LayoutModel",
     "state": {
      "_model_module": "@jupyter-widgets/base",
      "_model_module_version": "1.2.0",
      "_model_name": "LayoutModel",
      "_view_count": null,
      "_view_module": "@jupyter-widgets/base",
      "_view_module_version": "1.2.0",
      "_view_name": "LayoutView",
      "align_content": null,
      "align_items": null,
      "align_self": null,
      "border": null,
      "bottom": null,
      "display": null,
      "flex": null,
      "flex_flow": null,
      "grid_area": null,
      "grid_auto_columns": null,
      "grid_auto_flow": null,
      "grid_auto_rows": null,
      "grid_column": null,
      "grid_gap": null,
      "grid_row": null,
      "grid_template_areas": null,
      "grid_template_columns": null,
      "grid_template_rows": null,
      "height": null,
      "justify_content": null,
      "justify_items": null,
      "left": null,
      "margin": null,
      "max_height": null,
      "max_width": null,
      "min_height": null,
      "min_width": null,
      "object_fit": null,
      "object_position": null,
      "order": null,
      "overflow": null,
      "overflow_x": null,
      "overflow_y": null,
      "padding": null,
      "right": null,
      "top": null,
      "visibility": null,
      "width": null
     }
    },
    "47883c25477d4f65a63a654226e7465a": {
     "model_module": "@jupyter-widgets/base",
     "model_name": "LayoutModel",
     "state": {
      "_model_module": "@jupyter-widgets/base",
      "_model_module_version": "1.2.0",
      "_model_name": "LayoutModel",
      "_view_count": null,
      "_view_module": "@jupyter-widgets/base",
      "_view_module_version": "1.2.0",
      "_view_name": "LayoutView",
      "align_content": null,
      "align_items": null,
      "align_self": null,
      "border": null,
      "bottom": null,
      "display": null,
      "flex": null,
      "flex_flow": null,
      "grid_area": null,
      "grid_auto_columns": null,
      "grid_auto_flow": null,
      "grid_auto_rows": null,
      "grid_column": null,
      "grid_gap": null,
      "grid_row": null,
      "grid_template_areas": null,
      "grid_template_columns": null,
      "grid_template_rows": null,
      "height": null,
      "justify_content": null,
      "justify_items": null,
      "left": null,
      "margin": null,
      "max_height": null,
      "max_width": null,
      "min_height": null,
      "min_width": null,
      "object_fit": null,
      "object_position": null,
      "order": null,
      "overflow": null,
      "overflow_x": null,
      "overflow_y": null,
      "padding": null,
      "right": null,
      "top": null,
      "visibility": null,
      "width": null
     }
    },
    "5a8112c9b9974b32a2a3cae3a4f9f7f6": {
     "model_module": "@jupyter-widgets/controls",
     "model_name": "ProgressStyleModel",
     "state": {
      "_model_module": "@jupyter-widgets/controls",
      "_model_module_version": "1.5.0",
      "_model_name": "ProgressStyleModel",
      "_view_count": null,
      "_view_module": "@jupyter-widgets/base",
      "_view_module_version": "1.2.0",
      "_view_name": "StyleView",
      "bar_color": null,
      "description_width": "initial"
     }
    },
    "5b21754f9ac34ef4b27748c92e9b012b": {
     "model_module": "@jupyter-widgets/controls",
     "model_name": "HTMLModel",
     "state": {
      "_dom_classes": [],
      "_model_module": "@jupyter-widgets/controls",
      "_model_module_version": "1.5.0",
      "_model_name": "HTMLModel",
      "_view_count": null,
      "_view_module": "@jupyter-widgets/controls",
      "_view_module_version": "1.5.0",
      "_view_name": "HTMLView",
      "description": "",
      "description_tooltip": null,
      "layout": "IPY_MODEL_3d2b7c9a23ed41b48c945589e6c03107",
      "placeholder": "​",
      "style": "IPY_MODEL_69fbaef0130e4807b961bab267c918ad",
      "value": " 1649664/? [00:48&lt;00:00, 33718.34it/s]"
     }
    },
    "5d72b5767012448e82d382d60f277bc4": {
     "model_module": "@jupyter-widgets/controls",
     "model_name": "FloatProgressModel",
     "state": {
      "_dom_classes": [],
      "_model_module": "@jupyter-widgets/controls",
      "_model_module_version": "1.5.0",
      "_model_name": "FloatProgressModel",
      "_view_count": null,
      "_view_module": "@jupyter-widgets/controls",
      "_view_module_version": "1.5.0",
      "_view_name": "ProgressView",
      "bar_style": "success",
      "description": "",
      "description_tooltip": null,
      "layout": "IPY_MODEL_68f4359c497e4f79ac93b9f195ef407d",
      "max": 28881,
      "min": 0,
      "orientation": "horizontal",
      "style": "IPY_MODEL_ed4eaac6803f4ac39b02055859c92569",
      "value": 28881
     }
    },
    "60ae379976144ab18009df6acbe49030": {
     "model_module": "@jupyter-widgets/controls",
     "model_name": "FloatProgressModel",
     "state": {
      "_dom_classes": [],
      "_model_module": "@jupyter-widgets/controls",
      "_model_module_version": "1.5.0",
      "_model_name": "FloatProgressModel",
      "_view_count": null,
      "_view_module": "@jupyter-widgets/controls",
      "_view_module_version": "1.5.0",
      "_view_name": "ProgressView",
      "bar_style": "success",
      "description": "",
      "description_tooltip": null,
      "layout": "IPY_MODEL_869bda046cc84cafac38ee34a410631e",
      "max": 9912422,
      "min": 0,
      "orientation": "horizontal",
      "style": "IPY_MODEL_d04697e5fcc54161af46169b73f30e51",
      "value": 9912422
     }
    },
    "60bbfd103ab84b42b4893d0e8c6a2318": {
     "model_module": "@jupyter-widgets/base",
     "model_name": "LayoutModel",
     "state": {
      "_model_module": "@jupyter-widgets/base",
      "_model_module_version": "1.2.0",
      "_model_name": "LayoutModel",
      "_view_count": null,
      "_view_module": "@jupyter-widgets/base",
      "_view_module_version": "1.2.0",
      "_view_name": "LayoutView",
      "align_content": null,
      "align_items": null,
      "align_self": null,
      "border": null,
      "bottom": null,
      "display": null,
      "flex": null,
      "flex_flow": null,
      "grid_area": null,
      "grid_auto_columns": null,
      "grid_auto_flow": null,
      "grid_auto_rows": null,
      "grid_column": null,
      "grid_gap": null,
      "grid_row": null,
      "grid_template_areas": null,
      "grid_template_columns": null,
      "grid_template_rows": null,
      "height": null,
      "justify_content": null,
      "justify_items": null,
      "left": null,
      "margin": null,
      "max_height": null,
      "max_width": null,
      "min_height": null,
      "min_width": null,
      "object_fit": null,
      "object_position": null,
      "order": null,
      "overflow": null,
      "overflow_x": null,
      "overflow_y": null,
      "padding": null,
      "right": null,
      "top": null,
      "visibility": null,
      "width": null
     }
    },
    "62297f3169d1400896e0d05fd0319a09": {
     "model_module": "@jupyter-widgets/base",
     "model_name": "LayoutModel",
     "state": {
      "_model_module": "@jupyter-widgets/base",
      "_model_module_version": "1.2.0",
      "_model_name": "LayoutModel",
      "_view_count": null,
      "_view_module": "@jupyter-widgets/base",
      "_view_module_version": "1.2.0",
      "_view_name": "LayoutView",
      "align_content": null,
      "align_items": null,
      "align_self": null,
      "border": null,
      "bottom": null,
      "display": null,
      "flex": null,
      "flex_flow": null,
      "grid_area": null,
      "grid_auto_columns": null,
      "grid_auto_flow": null,
      "grid_auto_rows": null,
      "grid_column": null,
      "grid_gap": null,
      "grid_row": null,
      "grid_template_areas": null,
      "grid_template_columns": null,
      "grid_template_rows": null,
      "height": null,
      "justify_content": null,
      "justify_items": null,
      "left": null,
      "margin": null,
      "max_height": null,
      "max_width": null,
      "min_height": null,
      "min_width": null,
      "object_fit": null,
      "object_position": null,
      "order": null,
      "overflow": null,
      "overflow_x": null,
      "overflow_y": null,
      "padding": null,
      "right": null,
      "top": null,
      "visibility": null,
      "width": null
     }
    },
    "68f4359c497e4f79ac93b9f195ef407d": {
     "model_module": "@jupyter-widgets/base",
     "model_name": "LayoutModel",
     "state": {
      "_model_module": "@jupyter-widgets/base",
      "_model_module_version": "1.2.0",
      "_model_name": "LayoutModel",
      "_view_count": null,
      "_view_module": "@jupyter-widgets/base",
      "_view_module_version": "1.2.0",
      "_view_name": "LayoutView",
      "align_content": null,
      "align_items": null,
      "align_self": null,
      "border": null,
      "bottom": null,
      "display": null,
      "flex": null,
      "flex_flow": null,
      "grid_area": null,
      "grid_auto_columns": null,
      "grid_auto_flow": null,
      "grid_auto_rows": null,
      "grid_column": null,
      "grid_gap": null,
      "grid_row": null,
      "grid_template_areas": null,
      "grid_template_columns": null,
      "grid_template_rows": null,
      "height": null,
      "justify_content": null,
      "justify_items": null,
      "left": null,
      "margin": null,
      "max_height": null,
      "max_width": null,
      "min_height": null,
      "min_width": null,
      "object_fit": null,
      "object_position": null,
      "order": null,
      "overflow": null,
      "overflow_x": null,
      "overflow_y": null,
      "padding": null,
      "right": null,
      "top": null,
      "visibility": null,
      "width": null
     }
    },
    "69fbaef0130e4807b961bab267c918ad": {
     "model_module": "@jupyter-widgets/controls",
     "model_name": "DescriptionStyleModel",
     "state": {
      "_model_module": "@jupyter-widgets/controls",
      "_model_module_version": "1.5.0",
      "_model_name": "DescriptionStyleModel",
      "_view_count": null,
      "_view_module": "@jupyter-widgets/base",
      "_view_module_version": "1.2.0",
      "_view_name": "StyleView",
      "description_width": ""
     }
    },
    "7d470b6b6d064833bd4f3178d7a16fba": {
     "model_module": "@jupyter-widgets/base",
     "model_name": "LayoutModel",
     "state": {
      "_model_module": "@jupyter-widgets/base",
      "_model_module_version": "1.2.0",
      "_model_name": "LayoutModel",
      "_view_count": null,
      "_view_module": "@jupyter-widgets/base",
      "_view_module_version": "1.2.0",
      "_view_name": "LayoutView",
      "align_content": null,
      "align_items": null,
      "align_self": null,
      "border": null,
      "bottom": null,
      "display": null,
      "flex": null,
      "flex_flow": null,
      "grid_area": null,
      "grid_auto_columns": null,
      "grid_auto_flow": null,
      "grid_auto_rows": null,
      "grid_column": null,
      "grid_gap": null,
      "grid_row": null,
      "grid_template_areas": null,
      "grid_template_columns": null,
      "grid_template_rows": null,
      "height": null,
      "justify_content": null,
      "justify_items": null,
      "left": null,
      "margin": null,
      "max_height": null,
      "max_width": null,
      "min_height": null,
      "min_width": null,
      "object_fit": null,
      "object_position": null,
      "order": null,
      "overflow": null,
      "overflow_x": null,
      "overflow_y": null,
      "padding": null,
      "right": null,
      "top": null,
      "visibility": null,
      "width": null
     }
    },
    "869bda046cc84cafac38ee34a410631e": {
     "model_module": "@jupyter-widgets/base",
     "model_name": "LayoutModel",
     "state": {
      "_model_module": "@jupyter-widgets/base",
      "_model_module_version": "1.2.0",
      "_model_name": "LayoutModel",
      "_view_count": null,
      "_view_module": "@jupyter-widgets/base",
      "_view_module_version": "1.2.0",
      "_view_name": "LayoutView",
      "align_content": null,
      "align_items": null,
      "align_self": null,
      "border": null,
      "bottom": null,
      "display": null,
      "flex": null,
      "flex_flow": null,
      "grid_area": null,
      "grid_auto_columns": null,
      "grid_auto_flow": null,
      "grid_auto_rows": null,
      "grid_column": null,
      "grid_gap": null,
      "grid_row": null,
      "grid_template_areas": null,
      "grid_template_columns": null,
      "grid_template_rows": null,
      "height": null,
      "justify_content": null,
      "justify_items": null,
      "left": null,
      "margin": null,
      "max_height": null,
      "max_width": null,
      "min_height": null,
      "min_width": null,
      "object_fit": null,
      "object_position": null,
      "order": null,
      "overflow": null,
      "overflow_x": null,
      "overflow_y": null,
      "padding": null,
      "right": null,
      "top": null,
      "visibility": null,
      "width": null
     }
    },
    "88dbe7c3ad974935bf57d76a7400ec3e": {
     "model_module": "@jupyter-widgets/controls",
     "model_name": "FloatProgressModel",
     "state": {
      "_dom_classes": [],
      "_model_module": "@jupyter-widgets/controls",
      "_model_module_version": "1.5.0",
      "_model_name": "FloatProgressModel",
      "_view_count": null,
      "_view_module": "@jupyter-widgets/controls",
      "_view_module_version": "1.5.0",
      "_view_name": "ProgressView",
      "bar_style": "success",
      "description": "",
      "description_tooltip": null,
      "layout": "IPY_MODEL_47883c25477d4f65a63a654226e7465a",
      "max": 1648877,
      "min": 0,
      "orientation": "horizontal",
      "style": "IPY_MODEL_1e6d55d96ed24d6d96fe2bbca0c3d43c",
      "value": 1648877
     }
    },
    "93c4696450884b4a8e6ff2d22e8d36f2": {
     "model_module": "@jupyter-widgets/controls",
     "model_name": "HBoxModel",
     "state": {
      "_dom_classes": [],
      "_model_module": "@jupyter-widgets/controls",
      "_model_module_version": "1.5.0",
      "_model_name": "HBoxModel",
      "_view_count": null,
      "_view_module": "@jupyter-widgets/controls",
      "_view_module_version": "1.5.0",
      "_view_name": "HBoxView",
      "box_style": "",
      "children": [
       "IPY_MODEL_5d72b5767012448e82d382d60f277bc4",
       "IPY_MODEL_aaa84726ffb545e2aa607490c407a018"
      ],
      "layout": "IPY_MODEL_60bbfd103ab84b42b4893d0e8c6a2318"
     }
    },
    "96a01fd8e00343189becf98102833031": {
     "model_module": "@jupyter-widgets/controls",
     "model_name": "DescriptionStyleModel",
     "state": {
      "_model_module": "@jupyter-widgets/controls",
      "_model_module_version": "1.5.0",
      "_model_name": "DescriptionStyleModel",
      "_view_count": null,
      "_view_module": "@jupyter-widgets/base",
      "_view_module_version": "1.2.0",
      "_view_name": "StyleView",
      "description_width": ""
     }
    },
    "aaa84726ffb545e2aa607490c407a018": {
     "model_module": "@jupyter-widgets/controls",
     "model_name": "HTMLModel",
     "state": {
      "_dom_classes": [],
      "_model_module": "@jupyter-widgets/controls",
      "_model_module_version": "1.5.0",
      "_model_name": "HTMLModel",
      "_view_count": null,
      "_view_module": "@jupyter-widgets/controls",
      "_view_module_version": "1.5.0",
      "_view_name": "HTMLView",
      "description": "",
      "description_tooltip": null,
      "layout": "IPY_MODEL_d23d0dbd8cf148449fe4216d49e3999b",
      "placeholder": "​",
      "style": "IPY_MODEL_11dcb783631a4dcd9fa2a3ea6a9b73e0",
      "value": " 29696/? [00:00&lt;00:00, 64800.65it/s]"
     }
    },
    "ad29b77e1254410ebeb54164363ed938": {
     "model_module": "@jupyter-widgets/controls",
     "model_name": "HBoxModel",
     "state": {
      "_dom_classes": [],
      "_model_module": "@jupyter-widgets/controls",
      "_model_module_version": "1.5.0",
      "_model_name": "HBoxModel",
      "_view_count": null,
      "_view_module": "@jupyter-widgets/controls",
      "_view_module_version": "1.5.0",
      "_view_name": "HBoxView",
      "box_style": "",
      "children": [
       "IPY_MODEL_60ae379976144ab18009df6acbe49030",
       "IPY_MODEL_29a85f9cb77b466cb2f5b636b5838dcc"
      ],
      "layout": "IPY_MODEL_43dd5d444a284e8e90f57f3f7484bdc3"
     }
    },
    "ad5fa924556c434abdce119ae98236d4": {
     "model_module": "@jupyter-widgets/controls",
     "model_name": "HBoxModel",
     "state": {
      "_dom_classes": [],
      "_model_module": "@jupyter-widgets/controls",
      "_model_module_version": "1.5.0",
      "_model_name": "HBoxModel",
      "_view_count": null,
      "_view_module": "@jupyter-widgets/controls",
      "_view_module_version": "1.5.0",
      "_view_name": "HBoxView",
      "box_style": "",
      "children": [
       "IPY_MODEL_88dbe7c3ad974935bf57d76a7400ec3e",
       "IPY_MODEL_5b21754f9ac34ef4b27748c92e9b012b"
      ],
      "layout": "IPY_MODEL_62297f3169d1400896e0d05fd0319a09"
     }
    },
    "ba39d9d94484434d8ca77974fb48c159": {
     "model_module": "@jupyter-widgets/controls",
     "model_name": "HTMLModel",
     "state": {
      "_dom_classes": [],
      "_model_module": "@jupyter-widgets/controls",
      "_model_module_version": "1.5.0",
      "_model_name": "HTMLModel",
      "_view_count": null,
      "_view_module": "@jupyter-widgets/controls",
      "_view_module_version": "1.5.0",
      "_view_name": "HTMLView",
      "description": "",
      "description_tooltip": null,
      "layout": "IPY_MODEL_f15d3a39531e43a79a7b240844873fda",
      "placeholder": "​",
      "style": "IPY_MODEL_e3f808f1bf2f41cb8a9b3f16ae5a3750",
      "value": " 5120/? [00:00&lt;00:00, 13243.30it/s]"
     }
    },
    "cd9748ad7e56435886ad7334e328d961": {
     "model_module": "@jupyter-widgets/controls",
     "model_name": "FloatProgressModel",
     "state": {
      "_dom_classes": [],
      "_model_module": "@jupyter-widgets/controls",
      "_model_module_version": "1.5.0",
      "_model_name": "FloatProgressModel",
      "_view_count": null,
      "_view_module": "@jupyter-widgets/controls",
      "_view_module_version": "1.5.0",
      "_view_name": "ProgressView",
      "bar_style": "success",
      "description": "",
      "description_tooltip": null,
      "layout": "IPY_MODEL_26c8bc4bee714b82b477f69d62157de3",
      "max": 4542,
      "min": 0,
      "orientation": "horizontal",
      "style": "IPY_MODEL_5a8112c9b9974b32a2a3cae3a4f9f7f6",
      "value": 4542
     }
    },
    "d04697e5fcc54161af46169b73f30e51": {
     "model_module": "@jupyter-widgets/controls",
     "model_name": "ProgressStyleModel",
     "state": {
      "_model_module": "@jupyter-widgets/controls",
      "_model_module_version": "1.5.0",
      "_model_name": "ProgressStyleModel",
      "_view_count": null,
      "_view_module": "@jupyter-widgets/base",
      "_view_module_version": "1.2.0",
      "_view_name": "StyleView",
      "bar_color": null,
      "description_width": "initial"
     }
    },
    "d23d0dbd8cf148449fe4216d49e3999b": {
     "model_module": "@jupyter-widgets/base",
     "model_name": "LayoutModel",
     "state": {
      "_model_module": "@jupyter-widgets/base",
      "_model_module_version": "1.2.0",
      "_model_name": "LayoutModel",
      "_view_count": null,
      "_view_module": "@jupyter-widgets/base",
      "_view_module_version": "1.2.0",
      "_view_name": "LayoutView",
      "align_content": null,
      "align_items": null,
      "align_self": null,
      "border": null,
      "bottom": null,
      "display": null,
      "flex": null,
      "flex_flow": null,
      "grid_area": null,
      "grid_auto_columns": null,
      "grid_auto_flow": null,
      "grid_auto_rows": null,
      "grid_column": null,
      "grid_gap": null,
      "grid_row": null,
      "grid_template_areas": null,
      "grid_template_columns": null,
      "grid_template_rows": null,
      "height": null,
      "justify_content": null,
      "justify_items": null,
      "left": null,
      "margin": null,
      "max_height": null,
      "max_width": null,
      "min_height": null,
      "min_width": null,
      "object_fit": null,
      "object_position": null,
      "order": null,
      "overflow": null,
      "overflow_x": null,
      "overflow_y": null,
      "padding": null,
      "right": null,
      "top": null,
      "visibility": null,
      "width": null
     }
    },
    "e3f808f1bf2f41cb8a9b3f16ae5a3750": {
     "model_module": "@jupyter-widgets/controls",
     "model_name": "DescriptionStyleModel",
     "state": {
      "_model_module": "@jupyter-widgets/controls",
      "_model_module_version": "1.5.0",
      "_model_name": "DescriptionStyleModel",
      "_view_count": null,
      "_view_module": "@jupyter-widgets/base",
      "_view_module_version": "1.2.0",
      "_view_name": "StyleView",
      "description_width": ""
     }
    },
    "ed4eaac6803f4ac39b02055859c92569": {
     "model_module": "@jupyter-widgets/controls",
     "model_name": "ProgressStyleModel",
     "state": {
      "_model_module": "@jupyter-widgets/controls",
      "_model_module_version": "1.5.0",
      "_model_name": "ProgressStyleModel",
      "_view_count": null,
      "_view_module": "@jupyter-widgets/base",
      "_view_module_version": "1.2.0",
      "_view_name": "StyleView",
      "bar_color": null,
      "description_width": "initial"
     }
    },
    "f15d3a39531e43a79a7b240844873fda": {
     "model_module": "@jupyter-widgets/base",
     "model_name": "LayoutModel",
     "state": {
      "_model_module": "@jupyter-widgets/base",
      "_model_module_version": "1.2.0",
      "_model_name": "LayoutModel",
      "_view_count": null,
      "_view_module": "@jupyter-widgets/base",
      "_view_module_version": "1.2.0",
      "_view_name": "LayoutView",
      "align_content": null,
      "align_items": null,
      "align_self": null,
      "border": null,
      "bottom": null,
      "display": null,
      "flex": null,
      "flex_flow": null,
      "grid_area": null,
      "grid_auto_columns": null,
      "grid_auto_flow": null,
      "grid_auto_rows": null,
      "grid_column": null,
      "grid_gap": null,
      "grid_row": null,
      "grid_template_areas": null,
      "grid_template_columns": null,
      "grid_template_rows": null,
      "height": null,
      "justify_content": null,
      "justify_items": null,
      "left": null,
      "margin": null,
      "max_height": null,
      "max_width": null,
      "min_height": null,
      "min_width": null,
      "object_fit": null,
      "object_position": null,
      "order": null,
      "overflow": null,
      "overflow_x": null,
      "overflow_y": null,
      "padding": null,
      "right": null,
      "top": null,
      "visibility": null,
      "width": null
     }
    }
   }
  }
 },
 "nbformat": 4,
 "nbformat_minor": 1
}
